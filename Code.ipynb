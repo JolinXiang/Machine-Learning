{
 "cells": [
  {
   "cell_type": "markdown",
   "id": "3e111545-f919-41d4-88f3-610d54eaf7d3",
   "metadata": {
    "tags": []
   },
   "source": [
    "<center><font size=\"6\">SANTANDER BANK PRODUCT RECOMMENDATION AND PREDICTION </font></center>"
   ]
  },
  {
   "cell_type": "markdown",
   "id": "213178ae-589f-49bd-9ce3-013daf4f90fe",
   "metadata": {},
   "source": [
    "# Import packages"
   ]
  },
  {
   "cell_type": "code",
   "execution_count": 1,
   "id": "0cc97c48-81aa-4285-94dc-558f989eec70",
   "metadata": {},
   "outputs": [],
   "source": [
    "import numpy as np\n",
    "import pandas as pd\n",
    "import datetime\n",
    "import seaborn as sns\n",
    "import matplotlib.pyplot as plt\n",
    "sns.set_theme(style=\"whitegrid\")\n",
    "\n",
    "import xgboost as xgb\n",
    "from xgboost import XGBClassifier\n",
    "\n",
    "from imblearn.over_sampling import SMOTE\n",
    "\n",
    "from sklearn import preprocessing\n",
    "from sklearn.linear_model import LogisticRegression\n",
    "from sklearn.model_selection import train_test_split\n",
    "from sklearn.preprocessing import LabelEncoder\n",
    "from sklearn.ensemble import RandomForestClassifier, GradientBoostingClassifier\n",
    "from sklearn.metrics import accuracy_score, confusion_matrix, classification_report, roc_auc_score\n",
    "from sklearn.model_selection import GridSearchCV\n",
    "\n",
    "from surprise import KNNBasic, Dataset, accuracy, SVD, Reader\n",
    "from surprise.prediction_algorithms import knns\n",
    "from surprise.similarities import cosine, msd, pearson"
   ]
  },
  {
   "cell_type": "markdown",
   "id": "045ff398-5513-47d1-bc6e-cd6314b80360",
   "metadata": {},
   "source": [
    "# Project Background"
   ]
  },
  {
   "cell_type": "markdown",
   "id": "aaa53f6d-bf74-4a8f-ba18-a14224b94662",
   "metadata": {},
   "source": [
    "Santander, like many other financial institutions, offers a wide range of financial products and services to its customers. However, it can be challenging for customers to navigate the complexity of the product portfolio and find the products that are best suited to their needs. To address this problem, Santander needs to develop a recommendation system for new products that can help customers discover and purchase the products that are most relevant to them.\n",
    "\n",
    "Developing a recommendation system for new products is an important step for Santander to better serve its customers and improve its product portfolio. By addressing the challenges of sparse data, class imbalance, customer segmentation. Santander can develop an effective system that helps customers discover and purchase the products that are most relevant to them. This will lead to increased customer satisfaction and loyalty, as well as improved revenue business performance for Santander."
   ]
  },
  {
   "cell_type": "markdown",
   "id": "606e2ed3-bc26-446f-8d87-faf88d0165aa",
   "metadata": {},
   "source": [
    "# Data Cleaning"
   ]
  },
  {
   "cell_type": "markdown",
   "id": "ade7e720-e28f-43bb-9108-7208b4b9980e",
   "metadata": {},
   "source": [
    "<font size=\"6\" color=\"red\">PS: It may take **4-6 minutes** to run the dataset!!! </font> <br>\n",
    "<font size=\"5\">Because the Github only allows 1 GB for the git Large File Storage, but our actual dataset is 1.16GB. Therefore, the result may a little different in the presentation we showed.</font>"
   ]
  },
  {
   "cell_type": "code",
   "execution_count": 2,
   "id": "dee8e3f7-8173-4591-88ad-a4da7817b7b4",
   "metadata": {
    "tags": []
   },
   "outputs": [
    {
     "name": "stderr",
     "output_type": "stream",
     "text": [
      "/var/folders/l9/5v17sjss7k3_tb893d6bdq8m0000gn/T/ipykernel_4116/2778781819.py:3: DtypeWarning: Columns (11,15) have mixed types. Specify dtype option on import or set low_memory=False.\n",
      "  data = pd.concat([chunk for chunk in data])\n",
      "/var/folders/l9/5v17sjss7k3_tb893d6bdq8m0000gn/T/ipykernel_4116/2778781819.py:3: DtypeWarning: Columns (5,8,10,11,15) have mixed types. Specify dtype option on import or set low_memory=False.\n",
      "  data = pd.concat([chunk for chunk in data])\n",
      "/var/folders/l9/5v17sjss7k3_tb893d6bdq8m0000gn/T/ipykernel_4116/2778781819.py:3: DtypeWarning: Columns (11,15) have mixed types. Specify dtype option on import or set low_memory=False.\n",
      "  data = pd.concat([chunk for chunk in data])\n",
      "/var/folders/l9/5v17sjss7k3_tb893d6bdq8m0000gn/T/ipykernel_4116/2778781819.py:3: DtypeWarning: Columns (11,15) have mixed types. Specify dtype option on import or set low_memory=False.\n",
      "  data = pd.concat([chunk for chunk in data])\n",
      "/var/folders/l9/5v17sjss7k3_tb893d6bdq8m0000gn/T/ipykernel_4116/2778781819.py:3: DtypeWarning: Columns (10,11,15) have mixed types. Specify dtype option on import or set low_memory=False.\n",
      "  data = pd.concat([chunk for chunk in data])\n",
      "/var/folders/l9/5v17sjss7k3_tb893d6bdq8m0000gn/T/ipykernel_4116/2778781819.py:3: DtypeWarning: Columns (5,8,10,11,15) have mixed types. Specify dtype option on import or set low_memory=False.\n",
      "  data = pd.concat([chunk for chunk in data])\n",
      "/var/folders/l9/5v17sjss7k3_tb893d6bdq8m0000gn/T/ipykernel_4116/2778781819.py:3: DtypeWarning: Columns (11,15) have mixed types. Specify dtype option on import or set low_memory=False.\n",
      "  data = pd.concat([chunk for chunk in data])\n"
     ]
    }
   ],
   "source": [
    "data = pd.read_csv('https://media.githubusercontent.com/media/JolinXiang/Machine-Learning/main/product.csv',\n",
    "                   header=0,chunksize=1e6)\n",
    "data = pd.concat([chunk for chunk in data])"
   ]
  },
  {
   "cell_type": "code",
   "execution_count": 3,
   "id": "40aabc61-5ab6-4c0b-a144-5ea0a0316e1c",
   "metadata": {},
   "outputs": [
    {
     "data": {
      "text/html": [
       "<div>\n",
       "<style scoped>\n",
       "    .dataframe tbody tr th:only-of-type {\n",
       "        vertical-align: middle;\n",
       "    }\n",
       "\n",
       "    .dataframe tbody tr th {\n",
       "        vertical-align: top;\n",
       "    }\n",
       "\n",
       "    .dataframe thead th {\n",
       "        text-align: right;\n",
       "    }\n",
       "</style>\n",
       "<table border=\"1\" class=\"dataframe\">\n",
       "  <thead>\n",
       "    <tr style=\"text-align: right;\">\n",
       "      <th></th>\n",
       "      <th>fecha_dato</th>\n",
       "      <th>ncodpers</th>\n",
       "      <th>ind_empleado</th>\n",
       "      <th>pais_residencia</th>\n",
       "      <th>sexo</th>\n",
       "      <th>age</th>\n",
       "      <th>fecha_alta</th>\n",
       "      <th>ind_nuevo</th>\n",
       "      <th>antiguedad</th>\n",
       "      <th>indrel</th>\n",
       "      <th>...</th>\n",
       "      <th>ind_hip_fin_ult1</th>\n",
       "      <th>ind_plan_fin_ult1</th>\n",
       "      <th>ind_pres_fin_ult1</th>\n",
       "      <th>ind_reca_fin_ult1</th>\n",
       "      <th>ind_tjcr_fin_ult1</th>\n",
       "      <th>ind_valo_fin_ult1</th>\n",
       "      <th>ind_viv_fin_ult1</th>\n",
       "      <th>ind_nomina_ult1</th>\n",
       "      <th>ind_nom_pens_ult1</th>\n",
       "      <th>ind_recibo_ult1</th>\n",
       "    </tr>\n",
       "  </thead>\n",
       "  <tbody>\n",
       "    <tr>\n",
       "      <th>0</th>\n",
       "      <td>2015-08-28</td>\n",
       "      <td>717199</td>\n",
       "      <td>N</td>\n",
       "      <td>ES</td>\n",
       "      <td>V</td>\n",
       "      <td>60</td>\n",
       "      <td>2007-09-07</td>\n",
       "      <td>0.0</td>\n",
       "      <td>67</td>\n",
       "      <td>1.0</td>\n",
       "      <td>...</td>\n",
       "      <td>0</td>\n",
       "      <td>0</td>\n",
       "      <td>0</td>\n",
       "      <td>0</td>\n",
       "      <td>1</td>\n",
       "      <td>0</td>\n",
       "      <td>0</td>\n",
       "      <td>1.0</td>\n",
       "      <td>1.0</td>\n",
       "      <td>1</td>\n",
       "    </tr>\n",
       "    <tr>\n",
       "      <th>1</th>\n",
       "      <td>2016-02-28</td>\n",
       "      <td>931292</td>\n",
       "      <td>N</td>\n",
       "      <td>ES</td>\n",
       "      <td>H</td>\n",
       "      <td>24</td>\n",
       "      <td>2011-08-09</td>\n",
       "      <td>0.0</td>\n",
       "      <td>54</td>\n",
       "      <td>1.0</td>\n",
       "      <td>...</td>\n",
       "      <td>0</td>\n",
       "      <td>0</td>\n",
       "      <td>0</td>\n",
       "      <td>0</td>\n",
       "      <td>0</td>\n",
       "      <td>0</td>\n",
       "      <td>0</td>\n",
       "      <td>0.0</td>\n",
       "      <td>0.0</td>\n",
       "      <td>0</td>\n",
       "    </tr>\n",
       "    <tr>\n",
       "      <th>2</th>\n",
       "      <td>2016-01-28</td>\n",
       "      <td>1007618</td>\n",
       "      <td>N</td>\n",
       "      <td>ES</td>\n",
       "      <td>V</td>\n",
       "      <td>39</td>\n",
       "      <td>2012-03-05</td>\n",
       "      <td>0.0</td>\n",
       "      <td>46</td>\n",
       "      <td>1.0</td>\n",
       "      <td>...</td>\n",
       "      <td>0</td>\n",
       "      <td>0</td>\n",
       "      <td>0</td>\n",
       "      <td>0</td>\n",
       "      <td>0</td>\n",
       "      <td>0</td>\n",
       "      <td>0</td>\n",
       "      <td>0.0</td>\n",
       "      <td>0.0</td>\n",
       "      <td>0</td>\n",
       "    </tr>\n",
       "    <tr>\n",
       "      <th>3</th>\n",
       "      <td>2015-10-28</td>\n",
       "      <td>1305809</td>\n",
       "      <td>N</td>\n",
       "      <td>ES</td>\n",
       "      <td>H</td>\n",
       "      <td>39</td>\n",
       "      <td>2014-09-11</td>\n",
       "      <td>0.0</td>\n",
       "      <td>13</td>\n",
       "      <td>1.0</td>\n",
       "      <td>...</td>\n",
       "      <td>0</td>\n",
       "      <td>0</td>\n",
       "      <td>0</td>\n",
       "      <td>0</td>\n",
       "      <td>0</td>\n",
       "      <td>0</td>\n",
       "      <td>0</td>\n",
       "      <td>0.0</td>\n",
       "      <td>0.0</td>\n",
       "      <td>0</td>\n",
       "    </tr>\n",
       "    <tr>\n",
       "      <th>4</th>\n",
       "      <td>2015-11-28</td>\n",
       "      <td>1498174</td>\n",
       "      <td>N</td>\n",
       "      <td>ES</td>\n",
       "      <td>H</td>\n",
       "      <td>20</td>\n",
       "      <td>2015-11-04</td>\n",
       "      <td>1.0</td>\n",
       "      <td>0</td>\n",
       "      <td>1.0</td>\n",
       "      <td>...</td>\n",
       "      <td>0</td>\n",
       "      <td>0</td>\n",
       "      <td>0</td>\n",
       "      <td>0</td>\n",
       "      <td>0</td>\n",
       "      <td>0</td>\n",
       "      <td>0</td>\n",
       "      <td>0.0</td>\n",
       "      <td>0.0</td>\n",
       "      <td>0</td>\n",
       "    </tr>\n",
       "  </tbody>\n",
       "</table>\n",
       "<p>5 rows × 48 columns</p>\n",
       "</div>"
      ],
      "text/plain": [
       "   fecha_dato  ncodpers ind_empleado pais_residencia sexo age  fecha_alta  \\\n",
       "0  2015-08-28    717199            N              ES    V  60  2007-09-07   \n",
       "1  2016-02-28    931292            N              ES    H  24  2011-08-09   \n",
       "2  2016-01-28   1007618            N              ES    V  39  2012-03-05   \n",
       "3  2015-10-28   1305809            N              ES    H  39  2014-09-11   \n",
       "4  2015-11-28   1498174            N              ES    H  20  2015-11-04   \n",
       "\n",
       "   ind_nuevo antiguedad  indrel  ... ind_hip_fin_ult1 ind_plan_fin_ult1  \\\n",
       "0        0.0         67     1.0  ...                0                 0   \n",
       "1        0.0         54     1.0  ...                0                 0   \n",
       "2        0.0         46     1.0  ...                0                 0   \n",
       "3        0.0         13     1.0  ...                0                 0   \n",
       "4        1.0          0     1.0  ...                0                 0   \n",
       "\n",
       "  ind_pres_fin_ult1 ind_reca_fin_ult1 ind_tjcr_fin_ult1 ind_valo_fin_ult1  \\\n",
       "0                 0                 0                 1                 0   \n",
       "1                 0                 0                 0                 0   \n",
       "2                 0                 0                 0                 0   \n",
       "3                 0                 0                 0                 0   \n",
       "4                 0                 0                 0                 0   \n",
       "\n",
       "  ind_viv_fin_ult1 ind_nomina_ult1  ind_nom_pens_ult1  ind_recibo_ult1  \n",
       "0                0             1.0                1.0                1  \n",
       "1                0             0.0                0.0                0  \n",
       "2                0             0.0                0.0                0  \n",
       "3                0             0.0                0.0                0  \n",
       "4                0             0.0                0.0                0  \n",
       "\n",
       "[5 rows x 48 columns]"
      ]
     },
     "execution_count": 3,
     "metadata": {},
     "output_type": "execute_result"
    }
   ],
   "source": [
    "data.head()"
   ]
  },
  {
   "cell_type": "code",
   "execution_count": 4,
   "id": "8ed5a443-8bdc-4ff0-b8c9-83da47ea0def",
   "metadata": {},
   "outputs": [],
   "source": [
    "cols = ['fetch_date', 'cust_code', 'emp_index', 'country', 'sex', 'age', 'cust_date', 'new_cust', 'cust_seniority',\n",
    "'indrel', 'last_date_as_primary', 'cust_type', 'cust_rel', 'residence_index', 'foreigner_index', 'spouse_index',\n",
    "'joining_channel', 'deceased', 'address_type', 'prov_code','prov_name', 'activity_index', 'income', 'segmentation', \n",
    "'savings_account', 'guarentees', 'current_account', 'derivative_account', 'payroll_account', 'junior_account', 'mas_account',\n",
    "'perticular_account', 'perticular_plus', 'st_deposit', 'mt_deposits', 'lt_deposits', 'e_account', 'funds', 'mortgage',\n",
    " 'pension', 'loan', 'tax', 'credit_card', 'securities', 'home_account', 'payroll', 'pension2', 'direct_debit'\n",
    "]"
   ]
  },
  {
   "cell_type": "code",
   "execution_count": 5,
   "id": "1a289f83-c59e-45ec-a3e9-175175e6f3ec",
   "metadata": {},
   "outputs": [],
   "source": [
    "# change the column name\n",
    "data.columns = cols"
   ]
  },
  {
   "cell_type": "code",
   "execution_count": 6,
   "id": "fc140de2-9a29-4c94-ae52-bb5c979132ad",
   "metadata": {},
   "outputs": [],
   "source": [
    "# we delete the columns which has null value larger than 90% \n",
    "data = data.loc[:,data.isnull().mean()<=0.9].dropna()"
   ]
  },
  {
   "cell_type": "code",
   "execution_count": 7,
   "id": "05316a66-7fd9-4b40-98b0-3f512d2e9156",
   "metadata": {},
   "outputs": [
    {
     "data": {
      "text/html": [
       "<div>\n",
       "<style scoped>\n",
       "    .dataframe tbody tr th:only-of-type {\n",
       "        vertical-align: middle;\n",
       "    }\n",
       "\n",
       "    .dataframe tbody tr th {\n",
       "        vertical-align: top;\n",
       "    }\n",
       "\n",
       "    .dataframe thead th {\n",
       "        text-align: right;\n",
       "    }\n",
       "</style>\n",
       "<table border=\"1\" class=\"dataframe\">\n",
       "  <thead>\n",
       "    <tr style=\"text-align: right;\">\n",
       "      <th></th>\n",
       "      <th>fetch_date</th>\n",
       "      <th>cust_code</th>\n",
       "      <th>emp_index</th>\n",
       "      <th>country</th>\n",
       "      <th>sex</th>\n",
       "      <th>age</th>\n",
       "      <th>cust_date</th>\n",
       "      <th>new_cust</th>\n",
       "      <th>cust_seniority</th>\n",
       "      <th>indrel</th>\n",
       "      <th>...</th>\n",
       "      <th>mortgage</th>\n",
       "      <th>pension</th>\n",
       "      <th>loan</th>\n",
       "      <th>tax</th>\n",
       "      <th>credit_card</th>\n",
       "      <th>securities</th>\n",
       "      <th>home_account</th>\n",
       "      <th>payroll</th>\n",
       "      <th>pension2</th>\n",
       "      <th>direct_debit</th>\n",
       "    </tr>\n",
       "  </thead>\n",
       "  <tbody>\n",
       "    <tr>\n",
       "      <th>0</th>\n",
       "      <td>2015-08-28</td>\n",
       "      <td>717199</td>\n",
       "      <td>N</td>\n",
       "      <td>ES</td>\n",
       "      <td>V</td>\n",
       "      <td>60</td>\n",
       "      <td>2007-09-07</td>\n",
       "      <td>0.0</td>\n",
       "      <td>67</td>\n",
       "      <td>1.0</td>\n",
       "      <td>...</td>\n",
       "      <td>0</td>\n",
       "      <td>0</td>\n",
       "      <td>0</td>\n",
       "      <td>0</td>\n",
       "      <td>1</td>\n",
       "      <td>0</td>\n",
       "      <td>0</td>\n",
       "      <td>1.0</td>\n",
       "      <td>1.0</td>\n",
       "      <td>1</td>\n",
       "    </tr>\n",
       "    <tr>\n",
       "      <th>1</th>\n",
       "      <td>2016-02-28</td>\n",
       "      <td>931292</td>\n",
       "      <td>N</td>\n",
       "      <td>ES</td>\n",
       "      <td>H</td>\n",
       "      <td>24</td>\n",
       "      <td>2011-08-09</td>\n",
       "      <td>0.0</td>\n",
       "      <td>54</td>\n",
       "      <td>1.0</td>\n",
       "      <td>...</td>\n",
       "      <td>0</td>\n",
       "      <td>0</td>\n",
       "      <td>0</td>\n",
       "      <td>0</td>\n",
       "      <td>0</td>\n",
       "      <td>0</td>\n",
       "      <td>0</td>\n",
       "      <td>0.0</td>\n",
       "      <td>0.0</td>\n",
       "      <td>0</td>\n",
       "    </tr>\n",
       "    <tr>\n",
       "      <th>3</th>\n",
       "      <td>2015-10-28</td>\n",
       "      <td>1305809</td>\n",
       "      <td>N</td>\n",
       "      <td>ES</td>\n",
       "      <td>H</td>\n",
       "      <td>39</td>\n",
       "      <td>2014-09-11</td>\n",
       "      <td>0.0</td>\n",
       "      <td>13</td>\n",
       "      <td>1.0</td>\n",
       "      <td>...</td>\n",
       "      <td>0</td>\n",
       "      <td>0</td>\n",
       "      <td>0</td>\n",
       "      <td>0</td>\n",
       "      <td>0</td>\n",
       "      <td>0</td>\n",
       "      <td>0</td>\n",
       "      <td>0.0</td>\n",
       "      <td>0.0</td>\n",
       "      <td>0</td>\n",
       "    </tr>\n",
       "    <tr>\n",
       "      <th>5</th>\n",
       "      <td>2015-12-28</td>\n",
       "      <td>520972</td>\n",
       "      <td>N</td>\n",
       "      <td>ES</td>\n",
       "      <td>V</td>\n",
       "      <td>79</td>\n",
       "      <td>2005-03-03</td>\n",
       "      <td>0.0</td>\n",
       "      <td>130</td>\n",
       "      <td>1.0</td>\n",
       "      <td>...</td>\n",
       "      <td>0</td>\n",
       "      <td>0</td>\n",
       "      <td>0</td>\n",
       "      <td>0</td>\n",
       "      <td>0</td>\n",
       "      <td>0</td>\n",
       "      <td>0</td>\n",
       "      <td>0.0</td>\n",
       "      <td>0.0</td>\n",
       "      <td>0</td>\n",
       "    </tr>\n",
       "    <tr>\n",
       "      <th>6</th>\n",
       "      <td>2015-02-28</td>\n",
       "      <td>271365</td>\n",
       "      <td>N</td>\n",
       "      <td>ES</td>\n",
       "      <td>V</td>\n",
       "      <td>41</td>\n",
       "      <td>2001-09-10</td>\n",
       "      <td>0.0</td>\n",
       "      <td>166</td>\n",
       "      <td>1.0</td>\n",
       "      <td>...</td>\n",
       "      <td>0</td>\n",
       "      <td>0</td>\n",
       "      <td>0</td>\n",
       "      <td>1</td>\n",
       "      <td>0</td>\n",
       "      <td>0</td>\n",
       "      <td>0</td>\n",
       "      <td>0.0</td>\n",
       "      <td>0.0</td>\n",
       "      <td>1</td>\n",
       "    </tr>\n",
       "  </tbody>\n",
       "</table>\n",
       "<p>5 rows × 46 columns</p>\n",
       "</div>"
      ],
      "text/plain": [
       "   fetch_date  cust_code emp_index country sex  age   cust_date  new_cust  \\\n",
       "0  2015-08-28     717199         N      ES   V   60  2007-09-07       0.0   \n",
       "1  2016-02-28     931292         N      ES   H   24  2011-08-09       0.0   \n",
       "3  2015-10-28    1305809         N      ES   H   39  2014-09-11       0.0   \n",
       "5  2015-12-28     520972         N      ES   V   79  2005-03-03       0.0   \n",
       "6  2015-02-28     271365         N      ES   V   41  2001-09-10       0.0   \n",
       "\n",
       "  cust_seniority  indrel  ... mortgage pension loan tax credit_card  \\\n",
       "0             67     1.0  ...        0       0    0   0           1   \n",
       "1             54     1.0  ...        0       0    0   0           0   \n",
       "3             13     1.0  ...        0       0    0   0           0   \n",
       "5            130     1.0  ...        0       0    0   0           0   \n",
       "6            166     1.0  ...        0       0    0   1           0   \n",
       "\n",
       "  securities  home_account  payroll pension2  direct_debit  \n",
       "0          0             0      1.0      1.0             1  \n",
       "1          0             0      0.0      0.0             0  \n",
       "3          0             0      0.0      0.0             0  \n",
       "5          0             0      0.0      0.0             0  \n",
       "6          0             0      0.0      0.0             1  \n",
       "\n",
       "[5 rows x 46 columns]"
      ]
     },
     "execution_count": 7,
     "metadata": {},
     "output_type": "execute_result"
    }
   ],
   "source": [
    "data.head()"
   ]
  },
  {
   "cell_type": "code",
   "execution_count": 8,
   "id": "7f3f93fc-5461-4a7c-80d5-670671286e7f",
   "metadata": {},
   "outputs": [],
   "source": [
    "# convert datatype\n",
    "data['cust_seniority'] = data['cust_seniority'].astype('int')\n",
    "data['activity_index'] = data['activity_index'].astype('int')\n",
    "data['age'] = data['age'].astype('int')"
   ]
  },
  {
   "cell_type": "markdown",
   "id": "8c877b80-219d-4c91-b09a-a45092997c95",
   "metadata": {},
   "source": [
    "# Data Visualization"
   ]
  },
  {
   "cell_type": "markdown",
   "id": "ec4b20e9-4dd6-4699-afb2-9eee2b9907d6",
   "metadata": {},
   "source": [
    "## Customers' Age Distribution"
   ]
  },
  {
   "cell_type": "code",
   "execution_count": 9,
   "id": "ca6095a0-5cc3-462c-a38f-fdc1e1f40cc3",
   "metadata": {},
   "outputs": [
    {
     "data": {
      "image/png": "[encoded data removed]",
      "text/plain": [
       "<Figure size 500x500 with 1 Axes>"
      ]
     },
     "metadata": {},
     "output_type": "display_data"
    }
   ],
   "source": [
    "## Check the age distribution\n",
    "plt.figure(figsize = (5,5))\n",
    "data['age'].hist(bins=50)\n",
    "plt.title(\"The Age Distribution of Customers\")\n",
    "plt.xlabel(\"Age\")\n",
    "plt.ylabel(\"Frequency\");"
   ]
  },
  {
   "cell_type": "markdown",
   "id": "e91f36f5-63c7-40ad-8f1e-8c95d9690dda",
   "metadata": {},
   "source": [
    "**Observation:**\n",
    "* As it is shown in the histgram, the range of our customers is quite wide, from the young to the old. Though the age of our customers have a large variance, we can still tell our main two large customer groups. One group is the people at university age, the other is people who are around middle age.   "
   ]
  },
  {
   "cell_type": "markdown",
   "id": "7fd82a68-1581-49bb-ad7a-f79ba226095c",
   "metadata": {},
   "source": [
    "## Old & New Customers"
   ]
  },
  {
   "cell_type": "code",
   "execution_count": 10,
   "id": "4166e82a-25af-46f4-8ab0-e5c44ab62992",
   "metadata": {},
   "outputs": [
    {
     "data": {
      "image/png": "[encoded data removed]",
      "text/plain": [
       "<Figure size 500x500 with 1 Axes>"
      ]
     },
     "metadata": {},
     "output_type": "display_data"
    }
   ],
   "source": [
    "## Check how many customers are new\n",
    "plt.figure(figsize = (5,5))\n",
    "sns.countplot(x=data['new_cust'])\n",
    "plt.title(\"New Customers or Old Customers\")\n",
    "plt.xlabel(\"0=old, 1=new\")\n",
    "plt.ylabel(\"The number of customers\");"
   ]
  },
  {
   "cell_type": "code",
   "execution_count": 11,
   "id": "302ced65-7f56-4957-a4fd-9fb48d90cadd",
   "metadata": {},
   "outputs": [
    {
     "data": {
      "text/plain": [
       "0.0    5267376\n",
       "1.0     129062\n",
       "Name: new_cust, dtype: int64"
      ]
     },
     "execution_count": 11,
     "metadata": {},
     "output_type": "execute_result"
    }
   ],
   "source": [
    "## Check percentage of new registered customers\n",
    "data['new_cust'].value_counts()"
   ]
  },
  {
   "cell_type": "markdown",
   "id": "a2439124-c9ff-49dc-a83a-48e3708992d4",
   "metadata": {},
   "source": [
    "**Observation:**\n",
    "* Most of customers have a more than 6-month long accounts. New customers who register the account within 6 months only occupy about 2.5% in total."
   ]
  },
  {
   "cell_type": "markdown",
   "id": "3669f70d-ebfa-4843-b960-6730455552f8",
   "metadata": {},
   "source": [
    "## Joining Channels Distribution"
   ]
  },
  {
   "cell_type": "code",
   "execution_count": 12,
   "id": "7ea77a76-5b49-4f62-afc4-d22706413e17",
   "metadata": {},
   "outputs": [
    {
     "data": {
      "text/plain": [
       "KHE    1653562\n",
       "KAT    1376739\n",
       "KFC    1289698\n",
       "KFA     179271\n",
       "KHQ     120630\n",
       "KHK      96403\n",
       "KHD      48218\n",
       "KAS      37903\n",
       "Name: joining_channel, dtype: int64"
      ]
     },
     "execution_count": 12,
     "metadata": {},
     "output_type": "execute_result"
    }
   ],
   "source": [
    "## Only check the first 5\n",
    "data['joining_channel'].value_counts().sort_values(ascending = False).head(8)"
   ]
  },
  {
   "cell_type": "code",
   "execution_count": 13,
   "id": "cab8b00d-80ab-46d1-8cb5-8ce7f15dbfcc",
   "metadata": {},
   "outputs": [
    {
     "data": {
      "image/png": "[encoded data removed]",
      "text/plain": [
       "<Figure size 600x600 with 1 Axes>"
      ]
     },
     "metadata": {},
     "output_type": "display_data"
    }
   ],
   "source": [
    "## Check the canal(canal_entrada)\n",
    "plt.figure(figsize = (6,6))\n",
    "y = np.array([1653562, 1376739, 1289698, 179271, 120630, 96403, 48218, 37903])\n",
    "plt.pie(y, labels = ['KHE', 'KAT', 'KFC', 'KFA', 'KHQ', 'KHK', 'KHD', 'KAS'])\n",
    "plt.title(\"The first 5 Joining Channels\")\n",
    "plt.show()"
   ]
  },
  {
   "cell_type": "markdown",
   "id": "12a6a5da-c709-45f0-bafe-d35f164a5e78",
   "metadata": {},
   "source": [
    "**Observation:**\n",
    "* Though there are about more than 150 different joining canals, \"KAT\", \"KFC\" and \"KHE\" are our main customer joining sources."
   ]
  },
  {
   "cell_type": "markdown",
   "id": "f4e2b2ff-1a15-4daf-bcf4-a6dd109e66e3",
   "metadata": {},
   "source": [
    "## Customer Segmentations"
   ]
  },
  {
   "cell_type": "code",
   "execution_count": 14,
   "id": "4bdd0eff-b1bf-40ed-899e-42c0f52ee261",
   "metadata": {},
   "outputs": [
    {
     "data": {
      "image/png": "[encoded data removed]",
      "text/plain": [
       "<Figure size 600x600 with 1 Axes>"
      ]
     },
     "metadata": {},
     "output_type": "display_data"
    }
   ],
   "source": [
    "## Customer Segmental(segmento)\n",
    "plt.figure(figsize = (6,6))\n",
    "data['segmentation'].value_counts().plot(x=None, y=None, kind='pie');"
   ]
  },
  {
   "cell_type": "markdown",
   "id": "66a8ff56-1079-4205-b7f6-22afbc33ce6c",
   "metadata": {},
   "source": [
    "**Observation:**\n",
    "* As it is shown in the age distribution, the customer segmentation shows that Individuals and College Graduated accounts are main segmantations. "
   ]
  },
  {
   "cell_type": "markdown",
   "id": "7c46e025-159b-4ac8-a827-6efd18745f6c",
   "metadata": {},
   "source": [
    "## Income and Total number of accounts"
   ]
  },
  {
   "cell_type": "code",
   "execution_count": 15,
   "id": "6c6ea6ef-9408-43a1-83b3-567097f029e1",
   "metadata": {},
   "outputs": [
    {
     "name": "stderr",
     "output_type": "stream",
     "text": [
      "/var/folders/l9/5v17sjss7k3_tb893d6bdq8m0000gn/T/ipykernel_4116/4140161575.py:2: FutureWarning: The pandas.np module is deprecated and will be removed from pandas in a future version. Import numpy directly instead.\n",
      "  data_a = (data.groupby(pd.cut(data['income'], [0,60000,120000,180000,240000, pd.np.inf], right=False)).sum())\n",
      "/var/folders/l9/5v17sjss7k3_tb893d6bdq8m0000gn/T/ipykernel_4116/4140161575.py:2: FutureWarning: The default value of numeric_only in DataFrameGroupBy.sum is deprecated. In a future version, numeric_only will default to False. Either specify numeric_only or select only columns which should be valid for the function.\n",
      "  data_a = (data.groupby(pd.cut(data['income'], [0,60000,120000,180000,240000, pd.np.inf], right=False)).sum())\n"
     ]
    }
   ],
   "source": [
    "## Create an income group and total_accounts\n",
    "data_a = (data.groupby(pd.cut(data['income'], [0,60000,120000,180000,240000, pd.np.inf], right=False)).sum())\n",
    "data['total_accounts'] = data.loc[:, 'savings_account':'direct_debit'].sum(axis=1)\n",
    "data['total_accounts'] = data['total_accounts'].astype(int)"
   ]
  },
  {
   "cell_type": "code",
   "execution_count": 16,
   "id": "a75e0cfa-ceee-4822-b8af-e16dec57c85a",
   "metadata": {},
   "outputs": [
    {
     "data": {
      "image/png": "[encoded data removed]",
      "text/plain": [
       "<Figure size 700x500 with 1 Axes>"
      ]
     },
     "metadata": {},
     "output_type": "display_data"
    }
   ],
   "source": [
    "plt.figure(figsize = (7,5))\n",
    "sns.countplot(x=data['total_accounts'])\n",
    "plt.title(\"The Distribution of the Number of Total Accounts\")\n",
    "plt.title(\"The number of the accounts\")\n",
    "plt.ylabel(\"Frequency\");"
   ]
  },
  {
   "cell_type": "markdown",
   "id": "685f0a6e-93c0-4f79-8ab3-05588a50db78",
   "metadata": {},
   "source": [
    "**Observation:**\n",
    "* Most of customers have more than 1 accounts, but rarely use more than 5 accounts."
   ]
  },
  {
   "cell_type": "code",
   "execution_count": 17,
   "id": "c6ac9474-a70b-4cd2-90ed-4bcfcb0721ce",
   "metadata": {},
   "outputs": [],
   "source": [
    "## Transposed the data_a\n",
    "data_a = data_a.loc[:, \"savings_account\": \"direct_debit\"]\n",
    "data_a = data_a.T"
   ]
  },
  {
   "cell_type": "code",
   "execution_count": 18,
   "id": "6b76381b-36fc-46d3-866f-4212813cbc14",
   "metadata": {},
   "outputs": [
    {
     "data": {
      "text/html": [
       "<div>\n",
       "<style scoped>\n",
       "    .dataframe tbody tr th:only-of-type {\n",
       "        vertical-align: middle;\n",
       "    }\n",
       "\n",
       "    .dataframe tbody tr th {\n",
       "        vertical-align: top;\n",
       "    }\n",
       "\n",
       "    .dataframe thead th {\n",
       "        text-align: right;\n",
       "    }\n",
       "</style>\n",
       "<table border=\"1\" class=\"dataframe\">\n",
       "  <thead>\n",
       "    <tr style=\"text-align: right;\">\n",
       "      <th>income</th>\n",
       "      <th>[0.0, 60000.0)</th>\n",
       "      <th>[60000.0, 120000.0)</th>\n",
       "      <th>[120000.0, 180000.0)</th>\n",
       "      <th>[180000.0, 240000.0)</th>\n",
       "      <th>[240000.0, inf)</th>\n",
       "    </tr>\n",
       "  </thead>\n",
       "  <tbody>\n",
       "    <tr>\n",
       "      <th>savings_account</th>\n",
       "      <td>57.0</td>\n",
       "      <td>128.0</td>\n",
       "      <td>174.0</td>\n",
       "      <td>142.0</td>\n",
       "      <td>126.0</td>\n",
       "    </tr>\n",
       "    <tr>\n",
       "      <th>guarentees</th>\n",
       "      <td>1.0</td>\n",
       "      <td>35.0</td>\n",
       "      <td>37.0</td>\n",
       "      <td>49.0</td>\n",
       "      <td>34.0</td>\n",
       "    </tr>\n",
       "    <tr>\n",
       "      <th>current_account</th>\n",
       "      <td>673639.0</td>\n",
       "      <td>1543041.0</td>\n",
       "      <td>710743.0</td>\n",
       "      <td>305917.0</td>\n",
       "      <td>309318.0</td>\n",
       "    </tr>\n",
       "    <tr>\n",
       "      <th>derivative_account</th>\n",
       "      <td>312.0</td>\n",
       "      <td>727.0</td>\n",
       "      <td>589.0</td>\n",
       "      <td>341.0</td>\n",
       "      <td>311.0</td>\n",
       "    </tr>\n",
       "    <tr>\n",
       "      <th>payroll_account</th>\n",
       "      <td>64337.0</td>\n",
       "      <td>188770.0</td>\n",
       "      <td>115561.0</td>\n",
       "      <td>55322.0</td>\n",
       "      <td>52346.0</td>\n",
       "    </tr>\n",
       "    <tr>\n",
       "      <th>junior_account</th>\n",
       "      <td>4777.0</td>\n",
       "      <td>19694.0</td>\n",
       "      <td>16162.0</td>\n",
       "      <td>8121.0</td>\n",
       "      <td>7035.0</td>\n",
       "    </tr>\n",
       "    <tr>\n",
       "      <th>mas_account</th>\n",
       "      <td>6731.0</td>\n",
       "      <td>20681.0</td>\n",
       "      <td>11821.0</td>\n",
       "      <td>5723.0</td>\n",
       "      <td>5034.0</td>\n",
       "    </tr>\n",
       "    <tr>\n",
       "      <th>perticular_account</th>\n",
       "      <td>81990.0</td>\n",
       "      <td>278314.0</td>\n",
       "      <td>189916.0</td>\n",
       "      <td>96936.0</td>\n",
       "      <td>100623.0</td>\n",
       "    </tr>\n",
       "    <tr>\n",
       "      <th>perticular_plus</th>\n",
       "      <td>24997.0</td>\n",
       "      <td>95896.0</td>\n",
       "      <td>65119.0</td>\n",
       "      <td>33686.0</td>\n",
       "      <td>34405.0</td>\n",
       "    </tr>\n",
       "    <tr>\n",
       "      <th>st_deposit</th>\n",
       "      <td>1303.0</td>\n",
       "      <td>3875.0</td>\n",
       "      <td>2186.0</td>\n",
       "      <td>870.0</td>\n",
       "      <td>688.0</td>\n",
       "    </tr>\n",
       "  </tbody>\n",
       "</table>\n",
       "</div>"
      ],
      "text/plain": [
       "income              [0.0, 60000.0)  [60000.0, 120000.0)  [120000.0, 180000.0)  \\\n",
       "savings_account               57.0                128.0                 174.0   \n",
       "guarentees                     1.0                 35.0                  37.0   \n",
       "current_account           673639.0            1543041.0              710743.0   \n",
       "derivative_account           312.0                727.0                 589.0   \n",
       "payroll_account            64337.0             188770.0              115561.0   \n",
       "junior_account              4777.0              19694.0               16162.0   \n",
       "mas_account                 6731.0              20681.0               11821.0   \n",
       "perticular_account         81990.0             278314.0              189916.0   \n",
       "perticular_plus            24997.0              95896.0               65119.0   \n",
       "st_deposit                  1303.0               3875.0                2186.0   \n",
       "\n",
       "income              [180000.0, 240000.0)  [240000.0, inf)  \n",
       "savings_account                    142.0            126.0  \n",
       "guarentees                          49.0             34.0  \n",
       "current_account                 305917.0         309318.0  \n",
       "derivative_account                 341.0            311.0  \n",
       "payroll_account                  55322.0          52346.0  \n",
       "junior_account                    8121.0           7035.0  \n",
       "mas_account                       5723.0           5034.0  \n",
       "perticular_account               96936.0         100623.0  \n",
       "perticular_plus                  33686.0          34405.0  \n",
       "st_deposit                         870.0            688.0  "
      ]
     },
     "execution_count": 18,
     "metadata": {},
     "output_type": "execute_result"
    }
   ],
   "source": [
    "data_a.head(10)"
   ]
  },
  {
   "cell_type": "code",
   "execution_count": 19,
   "id": "d408a550-9871-445b-aa42-dc8afd41c724",
   "metadata": {},
   "outputs": [
    {
     "data": {
      "image/png": "[encoded data removed]",
      "text/plain": [
       "<Figure size 1500x1000 with 1 Axes>"
      ]
     },
     "metadata": {},
     "output_type": "display_data"
    }
   ],
   "source": [
    "# Number of accounts by income \n",
    "data_a.plot(kind='barh', stacked=True, fontsize=10, figsize=[15,10], colormap='Greens_r')\n",
    "plt.title('Distribution of products among customers by income group', fontsize=20, color='black') \n",
    "plt.xlabel('Total number of accounts', fontsize=17, color='black') \n",
    "plt.ylabel('Products_names', fontsize=17, color='black') \n",
    "plt.legend(prop={'size':15}, loc=1) ;"
   ]
  },
  {
   "cell_type": "code",
   "execution_count": 20,
   "id": "73ec6ebd-3f92-4d93-a2d2-56a80ba1134a",
   "metadata": {},
   "outputs": [],
   "source": [
    "## Drop the Current_account to see the distribution in other types of accounts\n",
    "ex = ['current_account']\n",
    "data_a = data_a.T\n",
    "data_a = data_a.drop(ex, axis = 1).T"
   ]
  },
  {
   "cell_type": "code",
   "execution_count": 21,
   "id": "a57aec87-b62e-4043-9440-3c33fc89de7f",
   "metadata": {},
   "outputs": [
    {
     "data": {
      "image/png": "[encoded data removed]",
      "text/plain": [
       "<Figure size 1500x1000 with 1 Axes>"
      ]
     },
     "metadata": {},
     "output_type": "display_data"
    }
   ],
   "source": [
    "data_a.plot(kind='barh', stacked=True, fontsize=10, figsize=[15,10], colormap='Greens_r')\n",
    "plt.title('Distribution of products among customers by income group', fontsize=20, color='black') \n",
    "plt.xlabel('Total number of accounts', fontsize=17, color='black') \n",
    "plt.ylabel('Products_names', fontsize=17, color='black') \n",
    "plt.legend(prop={'size':15}, loc=1) ;"
   ]
  },
  {
   "cell_type": "markdown",
   "id": "6f574479-87c8-4475-899f-5a3c7d8160ad",
   "metadata": {},
   "source": [
    "**Observation:**\n",
    "* After removing the current account, we can see that \"direct_debit\", \"perticular_account\", \"e_account\" and \"payroll_account\" are the most popular account products for customers whose incomes are from 60000 to 1800000."
   ]
  },
  {
   "cell_type": "markdown",
   "id": "5fa16b66-12c0-446b-9356-cbe073dc8e12",
   "metadata": {},
   "source": [
    "## Age and Total numbers of accounts"
   ]
  },
  {
   "cell_type": "code",
   "execution_count": 22,
   "id": "8ec9ddaa-bc5f-4fa6-b653-b05a9083bdef",
   "metadata": {},
   "outputs": [],
   "source": [
    "data_b = data.groupby(['age'])['total_accounts'].agg('sum')"
   ]
  },
  {
   "cell_type": "code",
   "execution_count": 23,
   "id": "8b0e21a9-04a1-4b9c-90f6-9f7349c7e807",
   "metadata": {},
   "outputs": [
    {
     "data": {
      "image/png": "[encoded data removed]",
      "text/plain": [
       "<Figure size 600x600 with 1 Axes>"
      ]
     },
     "metadata": {},
     "output_type": "display_data"
    }
   ],
   "source": [
    "plt.figure(figsize = (6, 6))\n",
    "data_b.plot(kind='bar', colormap = 'Accent_r', legend=None) \n",
    "plt.xticks(np.arange(0, 100, 5), [str(x) for x in np.arange(0, 100, 5)])\n",
    "plt.title('Number of accounts') \n",
    "plt.xlabel('Age') \n",
    "plt.ylabel('Number of products');"
   ]
  },
  {
   "cell_type": "code",
   "execution_count": 24,
   "id": "fd685a3d-a090-406a-9e5b-bc6e41dc77d2",
   "metadata": {},
   "outputs": [
    {
     "name": "stderr",
     "output_type": "stream",
     "text": [
      "/var/folders/l9/5v17sjss7k3_tb893d6bdq8m0000gn/T/ipykernel_4116/611389934.py:1: FutureWarning: The pandas.np module is deprecated and will be removed from pandas in a future version. Import numpy directly instead.\n",
      "  data_b = (data.groupby(pd.cut(data['age'], [0,20,40,60,80,100, pd.np.inf], right=False)).sum())\n",
      "/var/folders/l9/5v17sjss7k3_tb893d6bdq8m0000gn/T/ipykernel_4116/611389934.py:1: FutureWarning: The default value of numeric_only in DataFrameGroupBy.sum is deprecated. In a future version, numeric_only will default to False. Either specify numeric_only or select only columns which should be valid for the function.\n",
      "  data_b = (data.groupby(pd.cut(data['age'], [0,20,40,60,80,100, pd.np.inf], right=False)).sum())\n"
     ]
    }
   ],
   "source": [
    "data_b = (data.groupby(pd.cut(data['age'], [0,20,40,60,80,100, pd.np.inf], right=False)).sum())"
   ]
  },
  {
   "cell_type": "code",
   "execution_count": 25,
   "id": "df2bdde5-9794-494e-887f-b2b154581512",
   "metadata": {},
   "outputs": [],
   "source": [
    "data_b = data_b.loc[:, \"savings_account\": \"direct_debit\"]\n",
    "data_b = data_b.T"
   ]
  },
  {
   "cell_type": "code",
   "execution_count": 26,
   "id": "654e0a3e-197c-4dca-9d0a-9adc107bcc1b",
   "metadata": {},
   "outputs": [
    {
     "data": {
      "image/png": "[encoded data removed]",
      "text/plain": [
       "<Figure size 1500x1000 with 1 Axes>"
      ]
     },
     "metadata": {},
     "output_type": "display_data"
    }
   ],
   "source": [
    "## Take a look at if age will affect the preference of account type\n",
    "## Here we plot the customers' age distibution of each product \n",
    "data_b.plot(kind='barh', stacked=True, fontsize=10, figsize=[15,10], colormap='Blues_r')\n",
    "plt.title('Customers age distribution of different products', fontsize=20, color='black') \n",
    "plt.xlabel('Total number of products', fontsize=17, color='black') \n",
    "plt.ylabel('Products_names', fontsize=17, color='black') \n",
    "plt.legend(prop={'size':15}, loc=1);"
   ]
  },
  {
   "cell_type": "code",
   "execution_count": 27,
   "id": "991fd749-cd30-428b-a724-4a5e2c31db93",
   "metadata": {},
   "outputs": [],
   "source": [
    "## Drop the Current_account to see the distribution in other types of accounts\n",
    "ex = ['current_account']\n",
    "data_b = data_b.T\n",
    "data_b = data_b.drop(ex, axis = 1).T"
   ]
  },
  {
   "cell_type": "code",
   "execution_count": 28,
   "id": "08c8ff06-d857-4132-a7d1-1eb8d4afa0d1",
   "metadata": {},
   "outputs": [
    {
     "data": {
      "image/png": "[encoded data removed]",
      "text/plain": [
       "<Figure size 1500x1000 with 1 Axes>"
      ]
     },
     "metadata": {},
     "output_type": "display_data"
    }
   ],
   "source": [
    "data_b.plot(kind='barh', stacked=True, fontsize=10, figsize=[15,10], colormap='Blues_r')\n",
    "plt.title('Customers age distribution of different products', fontsize=20, color='black') \n",
    "plt.xlabel('Total number of products', fontsize=17, color='black') \n",
    "plt.ylabel('Products_names', fontsize=17, color='black') \n",
    "plt.legend(prop={'size':15}, loc='best');"
   ]
  },
  {
   "cell_type": "markdown",
   "id": "508915da-e6d2-45d8-9951-ee77acfa0093",
   "metadata": {},
   "source": [
    "**Observation:**\n",
    "* After removing the current account, we can see that \"direct_debit\", \"perticular_account\", \"e_account\" and \"payroll_account\" are the most popular account products for customers both in the university age and in the middle age."
   ]
  },
  {
   "cell_type": "markdown",
   "id": "d2abaf1d-b172-4031-b3d3-2daad48ff66d",
   "metadata": {
    "tags": []
   },
   "source": [
    "# Recommendation: Collaborative filter Model"
   ]
  },
  {
   "cell_type": "markdown",
   "id": "cf07f258-b063-4cce-8d4b-7600884d17f4",
   "metadata": {},
   "source": [
    "Here we will use item-based KNN, user-based KNN and SVD to build our recommendation system. To use these model, we need 3 things : user_id, item_id, rating. So first we need to convert the product dataframe to the rating dataframe."
   ]
  },
  {
   "cell_type": "markdown",
   "id": "0cc3329c-a4dd-4af9-bd57-f11abbe2addb",
   "metadata": {
    "tags": []
   },
   "source": [
    "## Label Encoder"
   ]
  },
  {
   "cell_type": "code",
   "execution_count": 29,
   "id": "b468ee4f-e047-40af-901f-302cf3bf5b50",
   "metadata": {},
   "outputs": [],
   "source": [
    "data = data.drop(columns='total_accounts')"
   ]
  },
  {
   "cell_type": "code",
   "execution_count": 30,
   "id": "6c031e94-6ff0-4ad2-b6ed-7eadfaf43682",
   "metadata": {},
   "outputs": [
    {
     "data": {
      "text/html": [
       "<div>\n",
       "<style scoped>\n",
       "    .dataframe tbody tr th:only-of-type {\n",
       "        vertical-align: middle;\n",
       "    }\n",
       "\n",
       "    .dataframe tbody tr th {\n",
       "        vertical-align: top;\n",
       "    }\n",
       "\n",
       "    .dataframe thead th {\n",
       "        text-align: right;\n",
       "    }\n",
       "</style>\n",
       "<table border=\"1\" class=\"dataframe\">\n",
       "  <thead>\n",
       "    <tr style=\"text-align: right;\">\n",
       "      <th></th>\n",
       "      <th>fetch_date</th>\n",
       "      <th>cust_code</th>\n",
       "      <th>emp_index</th>\n",
       "      <th>country</th>\n",
       "      <th>sex</th>\n",
       "      <th>age</th>\n",
       "      <th>cust_date</th>\n",
       "      <th>new_cust</th>\n",
       "      <th>cust_seniority</th>\n",
       "      <th>indrel</th>\n",
       "      <th>...</th>\n",
       "      <th>pension</th>\n",
       "      <th>loan</th>\n",
       "      <th>tax</th>\n",
       "      <th>credit_card</th>\n",
       "      <th>securities</th>\n",
       "      <th>home_account</th>\n",
       "      <th>payroll</th>\n",
       "      <th>pension2</th>\n",
       "      <th>direct_debit</th>\n",
       "      <th>option</th>\n",
       "    </tr>\n",
       "  </thead>\n",
       "  <tbody>\n",
       "    <tr>\n",
       "      <th>0</th>\n",
       "      <td>2015-08-28</td>\n",
       "      <td>717199</td>\n",
       "      <td>N</td>\n",
       "      <td>ES</td>\n",
       "      <td>V</td>\n",
       "      <td>60</td>\n",
       "      <td>2007-09-07</td>\n",
       "      <td>0.0</td>\n",
       "      <td>67</td>\n",
       "      <td>1.0</td>\n",
       "      <td>...</td>\n",
       "      <td>0</td>\n",
       "      <td>0</td>\n",
       "      <td>0</td>\n",
       "      <td>1</td>\n",
       "      <td>0</td>\n",
       "      <td>0</td>\n",
       "      <td>1.0</td>\n",
       "      <td>1.0</td>\n",
       "      <td>1</td>\n",
       "      <td>1</td>\n",
       "    </tr>\n",
       "    <tr>\n",
       "      <th>1</th>\n",
       "      <td>2016-02-28</td>\n",
       "      <td>931292</td>\n",
       "      <td>N</td>\n",
       "      <td>ES</td>\n",
       "      <td>H</td>\n",
       "      <td>24</td>\n",
       "      <td>2011-08-09</td>\n",
       "      <td>0.0</td>\n",
       "      <td>54</td>\n",
       "      <td>1.0</td>\n",
       "      <td>...</td>\n",
       "      <td>0</td>\n",
       "      <td>0</td>\n",
       "      <td>0</td>\n",
       "      <td>0</td>\n",
       "      <td>0</td>\n",
       "      <td>0</td>\n",
       "      <td>0.0</td>\n",
       "      <td>0.0</td>\n",
       "      <td>0</td>\n",
       "      <td>1</td>\n",
       "    </tr>\n",
       "    <tr>\n",
       "      <th>3</th>\n",
       "      <td>2015-10-28</td>\n",
       "      <td>1305809</td>\n",
       "      <td>N</td>\n",
       "      <td>ES</td>\n",
       "      <td>H</td>\n",
       "      <td>39</td>\n",
       "      <td>2014-09-11</td>\n",
       "      <td>0.0</td>\n",
       "      <td>13</td>\n",
       "      <td>1.0</td>\n",
       "      <td>...</td>\n",
       "      <td>0</td>\n",
       "      <td>0</td>\n",
       "      <td>0</td>\n",
       "      <td>0</td>\n",
       "      <td>0</td>\n",
       "      <td>0</td>\n",
       "      <td>0.0</td>\n",
       "      <td>0.0</td>\n",
       "      <td>0</td>\n",
       "      <td>1</td>\n",
       "    </tr>\n",
       "    <tr>\n",
       "      <th>5</th>\n",
       "      <td>2015-12-28</td>\n",
       "      <td>520972</td>\n",
       "      <td>N</td>\n",
       "      <td>ES</td>\n",
       "      <td>V</td>\n",
       "      <td>79</td>\n",
       "      <td>2005-03-03</td>\n",
       "      <td>0.0</td>\n",
       "      <td>130</td>\n",
       "      <td>1.0</td>\n",
       "      <td>...</td>\n",
       "      <td>0</td>\n",
       "      <td>0</td>\n",
       "      <td>0</td>\n",
       "      <td>0</td>\n",
       "      <td>0</td>\n",
       "      <td>0</td>\n",
       "      <td>0.0</td>\n",
       "      <td>0.0</td>\n",
       "      <td>0</td>\n",
       "      <td>1</td>\n",
       "    </tr>\n",
       "    <tr>\n",
       "      <th>6</th>\n",
       "      <td>2015-02-28</td>\n",
       "      <td>271365</td>\n",
       "      <td>N</td>\n",
       "      <td>ES</td>\n",
       "      <td>V</td>\n",
       "      <td>41</td>\n",
       "      <td>2001-09-10</td>\n",
       "      <td>0.0</td>\n",
       "      <td>166</td>\n",
       "      <td>1.0</td>\n",
       "      <td>...</td>\n",
       "      <td>0</td>\n",
       "      <td>0</td>\n",
       "      <td>1</td>\n",
       "      <td>0</td>\n",
       "      <td>0</td>\n",
       "      <td>0</td>\n",
       "      <td>0.0</td>\n",
       "      <td>0.0</td>\n",
       "      <td>1</td>\n",
       "      <td>1</td>\n",
       "    </tr>\n",
       "    <tr>\n",
       "      <th>9</th>\n",
       "      <td>2015-09-28</td>\n",
       "      <td>301155</td>\n",
       "      <td>N</td>\n",
       "      <td>ES</td>\n",
       "      <td>V</td>\n",
       "      <td>60</td>\n",
       "      <td>2001-11-26</td>\n",
       "      <td>0.0</td>\n",
       "      <td>166</td>\n",
       "      <td>1.0</td>\n",
       "      <td>...</td>\n",
       "      <td>0</td>\n",
       "      <td>0</td>\n",
       "      <td>0</td>\n",
       "      <td>0</td>\n",
       "      <td>0</td>\n",
       "      <td>0</td>\n",
       "      <td>0.0</td>\n",
       "      <td>0.0</td>\n",
       "      <td>0</td>\n",
       "      <td>15</td>\n",
       "    </tr>\n",
       "    <tr>\n",
       "      <th>10</th>\n",
       "      <td>2015-04-28</td>\n",
       "      <td>194398</td>\n",
       "      <td>N</td>\n",
       "      <td>ES</td>\n",
       "      <td>V</td>\n",
       "      <td>60</td>\n",
       "      <td>2000-09-26</td>\n",
       "      <td>0.0</td>\n",
       "      <td>178</td>\n",
       "      <td>1.0</td>\n",
       "      <td>...</td>\n",
       "      <td>0</td>\n",
       "      <td>0</td>\n",
       "      <td>0</td>\n",
       "      <td>0</td>\n",
       "      <td>0</td>\n",
       "      <td>0</td>\n",
       "      <td>0.0</td>\n",
       "      <td>0.0</td>\n",
       "      <td>0</td>\n",
       "      <td>18</td>\n",
       "    </tr>\n",
       "    <tr>\n",
       "      <th>12</th>\n",
       "      <td>2016-04-28</td>\n",
       "      <td>635092</td>\n",
       "      <td>N</td>\n",
       "      <td>ES</td>\n",
       "      <td>H</td>\n",
       "      <td>39</td>\n",
       "      <td>2006-08-18</td>\n",
       "      <td>0.0</td>\n",
       "      <td>116</td>\n",
       "      <td>1.0</td>\n",
       "      <td>...</td>\n",
       "      <td>0</td>\n",
       "      <td>0</td>\n",
       "      <td>0</td>\n",
       "      <td>0</td>\n",
       "      <td>0</td>\n",
       "      <td>0</td>\n",
       "      <td>0.0</td>\n",
       "      <td>0.0</td>\n",
       "      <td>0</td>\n",
       "      <td>20</td>\n",
       "    </tr>\n",
       "    <tr>\n",
       "      <th>13</th>\n",
       "      <td>2016-03-28</td>\n",
       "      <td>742105</td>\n",
       "      <td>N</td>\n",
       "      <td>ES</td>\n",
       "      <td>H</td>\n",
       "      <td>67</td>\n",
       "      <td>2008-01-28</td>\n",
       "      <td>0.0</td>\n",
       "      <td>98</td>\n",
       "      <td>1.0</td>\n",
       "      <td>...</td>\n",
       "      <td>0</td>\n",
       "      <td>1</td>\n",
       "      <td>1</td>\n",
       "      <td>0</td>\n",
       "      <td>0</td>\n",
       "      <td>0</td>\n",
       "      <td>0.0</td>\n",
       "      <td>0.0</td>\n",
       "      <td>0</td>\n",
       "      <td>9</td>\n",
       "    </tr>\n",
       "    <tr>\n",
       "      <th>14</th>\n",
       "      <td>2015-11-28</td>\n",
       "      <td>1381977</td>\n",
       "      <td>N</td>\n",
       "      <td>ES</td>\n",
       "      <td>V</td>\n",
       "      <td>48</td>\n",
       "      <td>2015-02-11</td>\n",
       "      <td>0.0</td>\n",
       "      <td>9</td>\n",
       "      <td>1.0</td>\n",
       "      <td>...</td>\n",
       "      <td>0</td>\n",
       "      <td>0</td>\n",
       "      <td>0</td>\n",
       "      <td>0</td>\n",
       "      <td>0</td>\n",
       "      <td>0</td>\n",
       "      <td>0.0</td>\n",
       "      <td>0.0</td>\n",
       "      <td>0</td>\n",
       "      <td>1</td>\n",
       "    </tr>\n",
       "  </tbody>\n",
       "</table>\n",
       "<p>10 rows × 47 columns</p>\n",
       "</div>"
      ],
      "text/plain": [
       "    fetch_date  cust_code emp_index country sex  age   cust_date  new_cust  \\\n",
       "0   2015-08-28     717199         N      ES   V   60  2007-09-07       0.0   \n",
       "1   2016-02-28     931292         N      ES   H   24  2011-08-09       0.0   \n",
       "3   2015-10-28    1305809         N      ES   H   39  2014-09-11       0.0   \n",
       "5   2015-12-28     520972         N      ES   V   79  2005-03-03       0.0   \n",
       "6   2015-02-28     271365         N      ES   V   41  2001-09-10       0.0   \n",
       "9   2015-09-28     301155         N      ES   V   60  2001-11-26       0.0   \n",
       "10  2015-04-28     194398         N      ES   V   60  2000-09-26       0.0   \n",
       "12  2016-04-28     635092         N      ES   H   39  2006-08-18       0.0   \n",
       "13  2016-03-28     742105         N      ES   H   67  2008-01-28       0.0   \n",
       "14  2015-11-28    1381977         N      ES   V   48  2015-02-11       0.0   \n",
       "\n",
       "    cust_seniority  indrel  ... pension loan tax credit_card securities  \\\n",
       "0               67     1.0  ...       0    0   0           1          0   \n",
       "1               54     1.0  ...       0    0   0           0          0   \n",
       "3               13     1.0  ...       0    0   0           0          0   \n",
       "5              130     1.0  ...       0    0   0           0          0   \n",
       "6              166     1.0  ...       0    0   1           0          0   \n",
       "9              166     1.0  ...       0    0   0           0          0   \n",
       "10             178     1.0  ...       0    0   0           0          0   \n",
       "12             116     1.0  ...       0    0   0           0          0   \n",
       "13              98     1.0  ...       0    1   1           0          0   \n",
       "14               9     1.0  ...       0    0   0           0          0   \n",
       "\n",
       "   home_account  payroll  pension2 direct_debit  option  \n",
       "0             0      1.0       1.0            1       1  \n",
       "1             0      0.0       0.0            0       1  \n",
       "3             0      0.0       0.0            0       1  \n",
       "5             0      0.0       0.0            0       1  \n",
       "6             0      0.0       0.0            1       1  \n",
       "9             0      0.0       0.0            0      15  \n",
       "10            0      0.0       0.0            0      18  \n",
       "12            0      0.0       0.0            0      20  \n",
       "13            0      0.0       0.0            0       9  \n",
       "14            0      0.0       0.0            0       1  \n",
       "\n",
       "[10 rows x 47 columns]"
      ]
     },
     "execution_count": 30,
     "metadata": {},
     "output_type": "execute_result"
    }
   ],
   "source": [
    "# Define label encoder object, used to encode the subtyped eigenvalues\n",
    "label = LabelEncoder()\n",
    "\n",
    "# Convert one-hot encoded vectors to a single column\n",
    "raw_target = data.iloc[:, 22:].idxmax(axis=1)\n",
    "\n",
    "# Fit and transform the labels\n",
    "transformed_target = label.fit_transform(raw_target)\n",
    "\n",
    "# Add transformed column to our dataframe\n",
    "data['option'] = transformed_target.astype('uint8')\n",
    "\n",
    "data.head(10)"
   ]
  },
  {
   "cell_type": "code",
   "execution_count": 31,
   "id": "a7a5f27d-eb2e-4563-8e91-4dad468540bc",
   "metadata": {
    "tags": []
   },
   "outputs": [],
   "source": [
    "# Creating a user-item matrix, each entry indicates the number of times service opted by that user\n",
    "matrix = pd.crosstab(index=data.cust_code, columns=label.transform(raw_target), \n",
    "                               values=1, aggfunc='sum')\n",
    "matrix.fillna(0, inplace=True)"
   ]
  },
  {
   "cell_type": "code",
   "execution_count": 32,
   "id": "81f9e04c-1d10-4be7-965f-050167691bd4",
   "metadata": {},
   "outputs": [
    {
     "data": {
      "text/html": [
       "<div>\n",
       "<style scoped>\n",
       "    .dataframe tbody tr th:only-of-type {\n",
       "        vertical-align: middle;\n",
       "    }\n",
       "\n",
       "    .dataframe tbody tr th {\n",
       "        vertical-align: top;\n",
       "    }\n",
       "\n",
       "    .dataframe thead th {\n",
       "        text-align: right;\n",
       "    }\n",
       "</style>\n",
       "<table border=\"1\" class=\"dataframe\">\n",
       "  <thead>\n",
       "    <tr style=\"text-align: right;\">\n",
       "      <th>col_0</th>\n",
       "      <th>0</th>\n",
       "      <th>1</th>\n",
       "      <th>2</th>\n",
       "      <th>3</th>\n",
       "      <th>4</th>\n",
       "      <th>5</th>\n",
       "      <th>6</th>\n",
       "      <th>7</th>\n",
       "      <th>8</th>\n",
       "      <th>9</th>\n",
       "      <th>...</th>\n",
       "      <th>14</th>\n",
       "      <th>15</th>\n",
       "      <th>16</th>\n",
       "      <th>17</th>\n",
       "      <th>18</th>\n",
       "      <th>19</th>\n",
       "      <th>20</th>\n",
       "      <th>21</th>\n",
       "      <th>22</th>\n",
       "      <th>23</th>\n",
       "    </tr>\n",
       "    <tr>\n",
       "      <th>cust_code</th>\n",
       "      <th></th>\n",
       "      <th></th>\n",
       "      <th></th>\n",
       "      <th></th>\n",
       "      <th></th>\n",
       "      <th></th>\n",
       "      <th></th>\n",
       "      <th></th>\n",
       "      <th></th>\n",
       "      <th></th>\n",
       "      <th></th>\n",
       "      <th></th>\n",
       "      <th></th>\n",
       "      <th></th>\n",
       "      <th></th>\n",
       "      <th></th>\n",
       "      <th></th>\n",
       "      <th></th>\n",
       "      <th></th>\n",
       "      <th></th>\n",
       "      <th></th>\n",
       "    </tr>\n",
       "  </thead>\n",
       "  <tbody>\n",
       "    <tr>\n",
       "      <th>15889</th>\n",
       "      <td>0.0</td>\n",
       "      <td>4.0</td>\n",
       "      <td>0.0</td>\n",
       "      <td>0.0</td>\n",
       "      <td>0.0</td>\n",
       "      <td>0.0</td>\n",
       "      <td>0.0</td>\n",
       "      <td>0.0</td>\n",
       "      <td>0.0</td>\n",
       "      <td>0.0</td>\n",
       "      <td>...</td>\n",
       "      <td>0.0</td>\n",
       "      <td>0.0</td>\n",
       "      <td>0.0</td>\n",
       "      <td>0.0</td>\n",
       "      <td>0.0</td>\n",
       "      <td>0.0</td>\n",
       "      <td>0.0</td>\n",
       "      <td>0.0</td>\n",
       "      <td>0.0</td>\n",
       "      <td>0.0</td>\n",
       "    </tr>\n",
       "    <tr>\n",
       "      <th>15890</th>\n",
       "      <td>0.0</td>\n",
       "      <td>0.0</td>\n",
       "      <td>0.0</td>\n",
       "      <td>0.0</td>\n",
       "      <td>0.0</td>\n",
       "      <td>0.0</td>\n",
       "      <td>0.0</td>\n",
       "      <td>0.0</td>\n",
       "      <td>0.0</td>\n",
       "      <td>0.0</td>\n",
       "      <td>...</td>\n",
       "      <td>0.0</td>\n",
       "      <td>7.0</td>\n",
       "      <td>0.0</td>\n",
       "      <td>0.0</td>\n",
       "      <td>0.0</td>\n",
       "      <td>0.0</td>\n",
       "      <td>0.0</td>\n",
       "      <td>0.0</td>\n",
       "      <td>0.0</td>\n",
       "      <td>0.0</td>\n",
       "    </tr>\n",
       "    <tr>\n",
       "      <th>15892</th>\n",
       "      <td>0.0</td>\n",
       "      <td>6.0</td>\n",
       "      <td>0.0</td>\n",
       "      <td>0.0</td>\n",
       "      <td>0.0</td>\n",
       "      <td>0.0</td>\n",
       "      <td>0.0</td>\n",
       "      <td>0.0</td>\n",
       "      <td>0.0</td>\n",
       "      <td>0.0</td>\n",
       "      <td>...</td>\n",
       "      <td>0.0</td>\n",
       "      <td>2.0</td>\n",
       "      <td>0.0</td>\n",
       "      <td>0.0</td>\n",
       "      <td>0.0</td>\n",
       "      <td>0.0</td>\n",
       "      <td>0.0</td>\n",
       "      <td>0.0</td>\n",
       "      <td>0.0</td>\n",
       "      <td>0.0</td>\n",
       "    </tr>\n",
       "    <tr>\n",
       "      <th>15893</th>\n",
       "      <td>0.0</td>\n",
       "      <td>0.0</td>\n",
       "      <td>0.0</td>\n",
       "      <td>0.0</td>\n",
       "      <td>0.0</td>\n",
       "      <td>0.0</td>\n",
       "      <td>0.0</td>\n",
       "      <td>0.0</td>\n",
       "      <td>0.0</td>\n",
       "      <td>0.0</td>\n",
       "      <td>...</td>\n",
       "      <td>0.0</td>\n",
       "      <td>0.0</td>\n",
       "      <td>0.0</td>\n",
       "      <td>0.0</td>\n",
       "      <td>0.0</td>\n",
       "      <td>0.0</td>\n",
       "      <td>0.0</td>\n",
       "      <td>5.0</td>\n",
       "      <td>0.0</td>\n",
       "      <td>0.0</td>\n",
       "    </tr>\n",
       "    <tr>\n",
       "      <th>15894</th>\n",
       "      <td>0.0</td>\n",
       "      <td>8.0</td>\n",
       "      <td>0.0</td>\n",
       "      <td>0.0</td>\n",
       "      <td>0.0</td>\n",
       "      <td>0.0</td>\n",
       "      <td>0.0</td>\n",
       "      <td>0.0</td>\n",
       "      <td>0.0</td>\n",
       "      <td>0.0</td>\n",
       "      <td>...</td>\n",
       "      <td>0.0</td>\n",
       "      <td>0.0</td>\n",
       "      <td>0.0</td>\n",
       "      <td>0.0</td>\n",
       "      <td>0.0</td>\n",
       "      <td>0.0</td>\n",
       "      <td>0.0</td>\n",
       "      <td>0.0</td>\n",
       "      <td>0.0</td>\n",
       "      <td>0.0</td>\n",
       "    </tr>\n",
       "    <tr>\n",
       "      <th>...</th>\n",
       "      <td>...</td>\n",
       "      <td>...</td>\n",
       "      <td>...</td>\n",
       "      <td>...</td>\n",
       "      <td>...</td>\n",
       "      <td>...</td>\n",
       "      <td>...</td>\n",
       "      <td>...</td>\n",
       "      <td>...</td>\n",
       "      <td>...</td>\n",
       "      <td>...</td>\n",
       "      <td>...</td>\n",
       "      <td>...</td>\n",
       "      <td>...</td>\n",
       "      <td>...</td>\n",
       "      <td>...</td>\n",
       "      <td>...</td>\n",
       "      <td>...</td>\n",
       "      <td>...</td>\n",
       "      <td>...</td>\n",
       "      <td>...</td>\n",
       "    </tr>\n",
       "    <tr>\n",
       "      <th>1454615</th>\n",
       "      <td>0.0</td>\n",
       "      <td>1.0</td>\n",
       "      <td>0.0</td>\n",
       "      <td>0.0</td>\n",
       "      <td>0.0</td>\n",
       "      <td>0.0</td>\n",
       "      <td>0.0</td>\n",
       "      <td>0.0</td>\n",
       "      <td>0.0</td>\n",
       "      <td>0.0</td>\n",
       "      <td>...</td>\n",
       "      <td>0.0</td>\n",
       "      <td>2.0</td>\n",
       "      <td>0.0</td>\n",
       "      <td>0.0</td>\n",
       "      <td>0.0</td>\n",
       "      <td>0.0</td>\n",
       "      <td>0.0</td>\n",
       "      <td>0.0</td>\n",
       "      <td>0.0</td>\n",
       "      <td>0.0</td>\n",
       "    </tr>\n",
       "    <tr>\n",
       "      <th>1454616</th>\n",
       "      <td>0.0</td>\n",
       "      <td>6.0</td>\n",
       "      <td>0.0</td>\n",
       "      <td>0.0</td>\n",
       "      <td>0.0</td>\n",
       "      <td>0.0</td>\n",
       "      <td>0.0</td>\n",
       "      <td>0.0</td>\n",
       "      <td>0.0</td>\n",
       "      <td>0.0</td>\n",
       "      <td>...</td>\n",
       "      <td>0.0</td>\n",
       "      <td>0.0</td>\n",
       "      <td>0.0</td>\n",
       "      <td>0.0</td>\n",
       "      <td>0.0</td>\n",
       "      <td>0.0</td>\n",
       "      <td>0.0</td>\n",
       "      <td>0.0</td>\n",
       "      <td>0.0</td>\n",
       "      <td>0.0</td>\n",
       "    </tr>\n",
       "    <tr>\n",
       "      <th>1454617</th>\n",
       "      <td>0.0</td>\n",
       "      <td>4.0</td>\n",
       "      <td>0.0</td>\n",
       "      <td>0.0</td>\n",
       "      <td>0.0</td>\n",
       "      <td>0.0</td>\n",
       "      <td>0.0</td>\n",
       "      <td>0.0</td>\n",
       "      <td>0.0</td>\n",
       "      <td>0.0</td>\n",
       "      <td>...</td>\n",
       "      <td>0.0</td>\n",
       "      <td>0.0</td>\n",
       "      <td>0.0</td>\n",
       "      <td>0.0</td>\n",
       "      <td>0.0</td>\n",
       "      <td>0.0</td>\n",
       "      <td>0.0</td>\n",
       "      <td>0.0</td>\n",
       "      <td>0.0</td>\n",
       "      <td>0.0</td>\n",
       "    </tr>\n",
       "    <tr>\n",
       "      <th>1454618</th>\n",
       "      <td>0.0</td>\n",
       "      <td>0.0</td>\n",
       "      <td>0.0</td>\n",
       "      <td>0.0</td>\n",
       "      <td>0.0</td>\n",
       "      <td>0.0</td>\n",
       "      <td>0.0</td>\n",
       "      <td>0.0</td>\n",
       "      <td>0.0</td>\n",
       "      <td>0.0</td>\n",
       "      <td>...</td>\n",
       "      <td>0.0</td>\n",
       "      <td>0.0</td>\n",
       "      <td>0.0</td>\n",
       "      <td>0.0</td>\n",
       "      <td>0.0</td>\n",
       "      <td>0.0</td>\n",
       "      <td>2.0</td>\n",
       "      <td>0.0</td>\n",
       "      <td>0.0</td>\n",
       "      <td>0.0</td>\n",
       "    </tr>\n",
       "    <tr>\n",
       "      <th>1454620</th>\n",
       "      <td>0.0</td>\n",
       "      <td>4.0</td>\n",
       "      <td>0.0</td>\n",
       "      <td>0.0</td>\n",
       "      <td>0.0</td>\n",
       "      <td>0.0</td>\n",
       "      <td>0.0</td>\n",
       "      <td>0.0</td>\n",
       "      <td>0.0</td>\n",
       "      <td>0.0</td>\n",
       "      <td>...</td>\n",
       "      <td>0.0</td>\n",
       "      <td>0.0</td>\n",
       "      <td>0.0</td>\n",
       "      <td>0.0</td>\n",
       "      <td>0.0</td>\n",
       "      <td>0.0</td>\n",
       "      <td>0.0</td>\n",
       "      <td>0.0</td>\n",
       "      <td>0.0</td>\n",
       "      <td>0.0</td>\n",
       "    </tr>\n",
       "  </tbody>\n",
       "</table>\n",
       "<p>707126 rows × 24 columns</p>\n",
       "</div>"
      ],
      "text/plain": [
       "col_0       0    1    2    3    4    5    6    7    8    9   ...   14   15  \\\n",
       "cust_code                                                    ...             \n",
       "15889      0.0  4.0  0.0  0.0  0.0  0.0  0.0  0.0  0.0  0.0  ...  0.0  0.0   \n",
       "15890      0.0  0.0  0.0  0.0  0.0  0.0  0.0  0.0  0.0  0.0  ...  0.0  7.0   \n",
       "15892      0.0  6.0  0.0  0.0  0.0  0.0  0.0  0.0  0.0  0.0  ...  0.0  2.0   \n",
       "15893      0.0  0.0  0.0  0.0  0.0  0.0  0.0  0.0  0.0  0.0  ...  0.0  0.0   \n",
       "15894      0.0  8.0  0.0  0.0  0.0  0.0  0.0  0.0  0.0  0.0  ...  0.0  0.0   \n",
       "...        ...  ...  ...  ...  ...  ...  ...  ...  ...  ...  ...  ...  ...   \n",
       "1454615    0.0  1.0  0.0  0.0  0.0  0.0  0.0  0.0  0.0  0.0  ...  0.0  2.0   \n",
       "1454616    0.0  6.0  0.0  0.0  0.0  0.0  0.0  0.0  0.0  0.0  ...  0.0  0.0   \n",
       "1454617    0.0  4.0  0.0  0.0  0.0  0.0  0.0  0.0  0.0  0.0  ...  0.0  0.0   \n",
       "1454618    0.0  0.0  0.0  0.0  0.0  0.0  0.0  0.0  0.0  0.0  ...  0.0  0.0   \n",
       "1454620    0.0  4.0  0.0  0.0  0.0  0.0  0.0  0.0  0.0  0.0  ...  0.0  0.0   \n",
       "\n",
       "col_0       16   17   18   19   20   21   22   23  \n",
       "cust_code                                          \n",
       "15889      0.0  0.0  0.0  0.0  0.0  0.0  0.0  0.0  \n",
       "15890      0.0  0.0  0.0  0.0  0.0  0.0  0.0  0.0  \n",
       "15892      0.0  0.0  0.0  0.0  0.0  0.0  0.0  0.0  \n",
       "15893      0.0  0.0  0.0  0.0  0.0  5.0  0.0  0.0  \n",
       "15894      0.0  0.0  0.0  0.0  0.0  0.0  0.0  0.0  \n",
       "...        ...  ...  ...  ...  ...  ...  ...  ...  \n",
       "1454615    0.0  0.0  0.0  0.0  0.0  0.0  0.0  0.0  \n",
       "1454616    0.0  0.0  0.0  0.0  0.0  0.0  0.0  0.0  \n",
       "1454617    0.0  0.0  0.0  0.0  0.0  0.0  0.0  0.0  \n",
       "1454618    0.0  0.0  0.0  0.0  2.0  0.0  0.0  0.0  \n",
       "1454620    0.0  0.0  0.0  0.0  0.0  0.0  0.0  0.0  \n",
       "\n",
       "[707126 rows x 24 columns]"
      ]
     },
     "execution_count": 32,
     "metadata": {},
     "output_type": "execute_result"
    }
   ],
   "source": [
    "matrix"
   ]
  },
  {
   "cell_type": "code",
   "execution_count": 33,
   "id": "0352b889-e4ca-4094-bcf1-b89c2bd70b8f",
   "metadata": {},
   "outputs": [],
   "source": [
    "# Convert the user_item_matrix to array datatype\n",
    "user_arr = np.array(matrix)"
   ]
  },
  {
   "attachments": {
    "a18fd5eb-924c-4622-b4ab-d910da6aa37c.png": {
     "image/png": "[encoded data removed]"
    }
   },
   "cell_type": "markdown",
   "id": "b6bce6d0-937f-4536-be7d-0c83e77735ed",
   "metadata": {},
   "source": [
    "![Screenshot 2023-02-26 at 15.38.36.png](attachment:a18fd5eb-924c-4622-b4ab-d910da6aa37c.png)"
   ]
  },
  {
   "cell_type": "code",
   "execution_count": 34,
   "id": "9f3a4112-1374-4fd8-83f0-e6824baf265d",
   "metadata": {},
   "outputs": [
    {
     "data": {
      "text/html": [
       "<div>\n",
       "<style scoped>\n",
       "    .dataframe tbody tr th:only-of-type {\n",
       "        vertical-align: middle;\n",
       "    }\n",
       "\n",
       "    .dataframe tbody tr th {\n",
       "        vertical-align: top;\n",
       "    }\n",
       "\n",
       "    .dataframe thead th {\n",
       "        text-align: right;\n",
       "    }\n",
       "</style>\n",
       "<table border=\"1\" class=\"dataframe\">\n",
       "  <thead>\n",
       "    <tr style=\"text-align: right;\">\n",
       "      <th>col_0</th>\n",
       "      <th>0</th>\n",
       "      <th>1</th>\n",
       "      <th>2</th>\n",
       "      <th>3</th>\n",
       "      <th>4</th>\n",
       "      <th>5</th>\n",
       "      <th>6</th>\n",
       "      <th>7</th>\n",
       "      <th>8</th>\n",
       "      <th>9</th>\n",
       "      <th>...</th>\n",
       "      <th>14</th>\n",
       "      <th>15</th>\n",
       "      <th>16</th>\n",
       "      <th>17</th>\n",
       "      <th>18</th>\n",
       "      <th>19</th>\n",
       "      <th>20</th>\n",
       "      <th>21</th>\n",
       "      <th>22</th>\n",
       "      <th>23</th>\n",
       "    </tr>\n",
       "    <tr>\n",
       "      <th>cust_code</th>\n",
       "      <th></th>\n",
       "      <th></th>\n",
       "      <th></th>\n",
       "      <th></th>\n",
       "      <th></th>\n",
       "      <th></th>\n",
       "      <th></th>\n",
       "      <th></th>\n",
       "      <th></th>\n",
       "      <th></th>\n",
       "      <th></th>\n",
       "      <th></th>\n",
       "      <th></th>\n",
       "      <th></th>\n",
       "      <th></th>\n",
       "      <th></th>\n",
       "      <th></th>\n",
       "      <th></th>\n",
       "      <th></th>\n",
       "      <th></th>\n",
       "      <th></th>\n",
       "    </tr>\n",
       "  </thead>\n",
       "  <tbody>\n",
       "    <tr>\n",
       "      <th>15889</th>\n",
       "      <td>0.0</td>\n",
       "      <td>1.000000</td>\n",
       "      <td>0.0</td>\n",
       "      <td>0.0</td>\n",
       "      <td>0.0</td>\n",
       "      <td>0.0</td>\n",
       "      <td>0.0</td>\n",
       "      <td>0.0</td>\n",
       "      <td>0.0</td>\n",
       "      <td>0.0</td>\n",
       "      <td>...</td>\n",
       "      <td>0.0</td>\n",
       "      <td>0.000000</td>\n",
       "      <td>0.0</td>\n",
       "      <td>0.0</td>\n",
       "      <td>0.0</td>\n",
       "      <td>0.0</td>\n",
       "      <td>0.0</td>\n",
       "      <td>0.000000</td>\n",
       "      <td>0.0</td>\n",
       "      <td>0.0</td>\n",
       "    </tr>\n",
       "    <tr>\n",
       "      <th>15890</th>\n",
       "      <td>0.0</td>\n",
       "      <td>0.000000</td>\n",
       "      <td>0.0</td>\n",
       "      <td>0.0</td>\n",
       "      <td>0.0</td>\n",
       "      <td>0.0</td>\n",
       "      <td>0.0</td>\n",
       "      <td>0.0</td>\n",
       "      <td>0.0</td>\n",
       "      <td>0.0</td>\n",
       "      <td>...</td>\n",
       "      <td>0.0</td>\n",
       "      <td>1.000000</td>\n",
       "      <td>0.0</td>\n",
       "      <td>0.0</td>\n",
       "      <td>0.0</td>\n",
       "      <td>0.0</td>\n",
       "      <td>0.0</td>\n",
       "      <td>0.000000</td>\n",
       "      <td>0.0</td>\n",
       "      <td>0.0</td>\n",
       "    </tr>\n",
       "    <tr>\n",
       "      <th>15892</th>\n",
       "      <td>0.0</td>\n",
       "      <td>0.750000</td>\n",
       "      <td>0.0</td>\n",
       "      <td>0.0</td>\n",
       "      <td>0.0</td>\n",
       "      <td>0.0</td>\n",
       "      <td>0.0</td>\n",
       "      <td>0.0</td>\n",
       "      <td>0.0</td>\n",
       "      <td>0.0</td>\n",
       "      <td>...</td>\n",
       "      <td>0.0</td>\n",
       "      <td>0.250000</td>\n",
       "      <td>0.0</td>\n",
       "      <td>0.0</td>\n",
       "      <td>0.0</td>\n",
       "      <td>0.0</td>\n",
       "      <td>0.0</td>\n",
       "      <td>0.000000</td>\n",
       "      <td>0.0</td>\n",
       "      <td>0.0</td>\n",
       "    </tr>\n",
       "    <tr>\n",
       "      <th>15893</th>\n",
       "      <td>0.0</td>\n",
       "      <td>0.000000</td>\n",
       "      <td>0.0</td>\n",
       "      <td>0.0</td>\n",
       "      <td>0.0</td>\n",
       "      <td>0.0</td>\n",
       "      <td>0.0</td>\n",
       "      <td>0.0</td>\n",
       "      <td>0.0</td>\n",
       "      <td>0.0</td>\n",
       "      <td>...</td>\n",
       "      <td>0.0</td>\n",
       "      <td>0.000000</td>\n",
       "      <td>0.0</td>\n",
       "      <td>0.0</td>\n",
       "      <td>0.0</td>\n",
       "      <td>0.0</td>\n",
       "      <td>0.0</td>\n",
       "      <td>0.714286</td>\n",
       "      <td>0.0</td>\n",
       "      <td>0.0</td>\n",
       "    </tr>\n",
       "    <tr>\n",
       "      <th>15894</th>\n",
       "      <td>0.0</td>\n",
       "      <td>1.000000</td>\n",
       "      <td>0.0</td>\n",
       "      <td>0.0</td>\n",
       "      <td>0.0</td>\n",
       "      <td>0.0</td>\n",
       "      <td>0.0</td>\n",
       "      <td>0.0</td>\n",
       "      <td>0.0</td>\n",
       "      <td>0.0</td>\n",
       "      <td>...</td>\n",
       "      <td>0.0</td>\n",
       "      <td>0.000000</td>\n",
       "      <td>0.0</td>\n",
       "      <td>0.0</td>\n",
       "      <td>0.0</td>\n",
       "      <td>0.0</td>\n",
       "      <td>0.0</td>\n",
       "      <td>0.000000</td>\n",
       "      <td>0.0</td>\n",
       "      <td>0.0</td>\n",
       "    </tr>\n",
       "    <tr>\n",
       "      <th>...</th>\n",
       "      <td>...</td>\n",
       "      <td>...</td>\n",
       "      <td>...</td>\n",
       "      <td>...</td>\n",
       "      <td>...</td>\n",
       "      <td>...</td>\n",
       "      <td>...</td>\n",
       "      <td>...</td>\n",
       "      <td>...</td>\n",
       "      <td>...</td>\n",
       "      <td>...</td>\n",
       "      <td>...</td>\n",
       "      <td>...</td>\n",
       "      <td>...</td>\n",
       "      <td>...</td>\n",
       "      <td>...</td>\n",
       "      <td>...</td>\n",
       "      <td>...</td>\n",
       "      <td>...</td>\n",
       "      <td>...</td>\n",
       "      <td>...</td>\n",
       "    </tr>\n",
       "    <tr>\n",
       "      <th>1454615</th>\n",
       "      <td>0.0</td>\n",
       "      <td>0.333333</td>\n",
       "      <td>0.0</td>\n",
       "      <td>0.0</td>\n",
       "      <td>0.0</td>\n",
       "      <td>0.0</td>\n",
       "      <td>0.0</td>\n",
       "      <td>0.0</td>\n",
       "      <td>0.0</td>\n",
       "      <td>0.0</td>\n",
       "      <td>...</td>\n",
       "      <td>0.0</td>\n",
       "      <td>0.666667</td>\n",
       "      <td>0.0</td>\n",
       "      <td>0.0</td>\n",
       "      <td>0.0</td>\n",
       "      <td>0.0</td>\n",
       "      <td>0.0</td>\n",
       "      <td>0.000000</td>\n",
       "      <td>0.0</td>\n",
       "      <td>0.0</td>\n",
       "    </tr>\n",
       "    <tr>\n",
       "      <th>1454616</th>\n",
       "      <td>0.0</td>\n",
       "      <td>1.000000</td>\n",
       "      <td>0.0</td>\n",
       "      <td>0.0</td>\n",
       "      <td>0.0</td>\n",
       "      <td>0.0</td>\n",
       "      <td>0.0</td>\n",
       "      <td>0.0</td>\n",
       "      <td>0.0</td>\n",
       "      <td>0.0</td>\n",
       "      <td>...</td>\n",
       "      <td>0.0</td>\n",
       "      <td>0.000000</td>\n",
       "      <td>0.0</td>\n",
       "      <td>0.0</td>\n",
       "      <td>0.0</td>\n",
       "      <td>0.0</td>\n",
       "      <td>0.0</td>\n",
       "      <td>0.000000</td>\n",
       "      <td>0.0</td>\n",
       "      <td>0.0</td>\n",
       "    </tr>\n",
       "    <tr>\n",
       "      <th>1454617</th>\n",
       "      <td>0.0</td>\n",
       "      <td>1.000000</td>\n",
       "      <td>0.0</td>\n",
       "      <td>0.0</td>\n",
       "      <td>0.0</td>\n",
       "      <td>0.0</td>\n",
       "      <td>0.0</td>\n",
       "      <td>0.0</td>\n",
       "      <td>0.0</td>\n",
       "      <td>0.0</td>\n",
       "      <td>...</td>\n",
       "      <td>0.0</td>\n",
       "      <td>0.000000</td>\n",
       "      <td>0.0</td>\n",
       "      <td>0.0</td>\n",
       "      <td>0.0</td>\n",
       "      <td>0.0</td>\n",
       "      <td>0.0</td>\n",
       "      <td>0.000000</td>\n",
       "      <td>0.0</td>\n",
       "      <td>0.0</td>\n",
       "    </tr>\n",
       "    <tr>\n",
       "      <th>1454618</th>\n",
       "      <td>0.0</td>\n",
       "      <td>0.000000</td>\n",
       "      <td>0.0</td>\n",
       "      <td>0.0</td>\n",
       "      <td>0.0</td>\n",
       "      <td>0.0</td>\n",
       "      <td>0.0</td>\n",
       "      <td>0.0</td>\n",
       "      <td>0.0</td>\n",
       "      <td>0.0</td>\n",
       "      <td>...</td>\n",
       "      <td>0.0</td>\n",
       "      <td>0.000000</td>\n",
       "      <td>0.0</td>\n",
       "      <td>0.0</td>\n",
       "      <td>0.0</td>\n",
       "      <td>0.0</td>\n",
       "      <td>1.0</td>\n",
       "      <td>0.000000</td>\n",
       "      <td>0.0</td>\n",
       "      <td>0.0</td>\n",
       "    </tr>\n",
       "    <tr>\n",
       "      <th>1454620</th>\n",
       "      <td>0.0</td>\n",
       "      <td>1.000000</td>\n",
       "      <td>0.0</td>\n",
       "      <td>0.0</td>\n",
       "      <td>0.0</td>\n",
       "      <td>0.0</td>\n",
       "      <td>0.0</td>\n",
       "      <td>0.0</td>\n",
       "      <td>0.0</td>\n",
       "      <td>0.0</td>\n",
       "      <td>...</td>\n",
       "      <td>0.0</td>\n",
       "      <td>0.000000</td>\n",
       "      <td>0.0</td>\n",
       "      <td>0.0</td>\n",
       "      <td>0.0</td>\n",
       "      <td>0.0</td>\n",
       "      <td>0.0</td>\n",
       "      <td>0.000000</td>\n",
       "      <td>0.0</td>\n",
       "      <td>0.0</td>\n",
       "    </tr>\n",
       "  </tbody>\n",
       "</table>\n",
       "<p>707126 rows × 24 columns</p>\n",
       "</div>"
      ],
      "text/plain": [
       "col_0       0         1    2    3    4    5    6    7    8    9   ...   14  \\\n",
       "cust_code                                                         ...        \n",
       "15889      0.0  1.000000  0.0  0.0  0.0  0.0  0.0  0.0  0.0  0.0  ...  0.0   \n",
       "15890      0.0  0.000000  0.0  0.0  0.0  0.0  0.0  0.0  0.0  0.0  ...  0.0   \n",
       "15892      0.0  0.750000  0.0  0.0  0.0  0.0  0.0  0.0  0.0  0.0  ...  0.0   \n",
       "15893      0.0  0.000000  0.0  0.0  0.0  0.0  0.0  0.0  0.0  0.0  ...  0.0   \n",
       "15894      0.0  1.000000  0.0  0.0  0.0  0.0  0.0  0.0  0.0  0.0  ...  0.0   \n",
       "...        ...       ...  ...  ...  ...  ...  ...  ...  ...  ...  ...  ...   \n",
       "1454615    0.0  0.333333  0.0  0.0  0.0  0.0  0.0  0.0  0.0  0.0  ...  0.0   \n",
       "1454616    0.0  1.000000  0.0  0.0  0.0  0.0  0.0  0.0  0.0  0.0  ...  0.0   \n",
       "1454617    0.0  1.000000  0.0  0.0  0.0  0.0  0.0  0.0  0.0  0.0  ...  0.0   \n",
       "1454618    0.0  0.000000  0.0  0.0  0.0  0.0  0.0  0.0  0.0  0.0  ...  0.0   \n",
       "1454620    0.0  1.000000  0.0  0.0  0.0  0.0  0.0  0.0  0.0  0.0  ...  0.0   \n",
       "\n",
       "col_0            15   16   17   18   19   20        21   22   23  \n",
       "cust_code                                                         \n",
       "15889      0.000000  0.0  0.0  0.0  0.0  0.0  0.000000  0.0  0.0  \n",
       "15890      1.000000  0.0  0.0  0.0  0.0  0.0  0.000000  0.0  0.0  \n",
       "15892      0.250000  0.0  0.0  0.0  0.0  0.0  0.000000  0.0  0.0  \n",
       "15893      0.000000  0.0  0.0  0.0  0.0  0.0  0.714286  0.0  0.0  \n",
       "15894      0.000000  0.0  0.0  0.0  0.0  0.0  0.000000  0.0  0.0  \n",
       "...             ...  ...  ...  ...  ...  ...       ...  ...  ...  \n",
       "1454615    0.666667  0.0  0.0  0.0  0.0  0.0  0.000000  0.0  0.0  \n",
       "1454616    0.000000  0.0  0.0  0.0  0.0  0.0  0.000000  0.0  0.0  \n",
       "1454617    0.000000  0.0  0.0  0.0  0.0  0.0  0.000000  0.0  0.0  \n",
       "1454618    0.000000  0.0  0.0  0.0  0.0  1.0  0.000000  0.0  0.0  \n",
       "1454620    0.000000  0.0  0.0  0.0  0.0  0.0  0.000000  0.0  0.0  \n",
       "\n",
       "[707126 rows x 24 columns]"
      ]
     },
     "execution_count": 34,
     "metadata": {},
     "output_type": "execute_result"
    }
   ],
   "source": [
    "# Iterate through each row (user)\n",
    "for row in range(len(user_arr)):\n",
    "    # Calculate the sum of items for the current user\n",
    "    user_sum = sum(user_arr[row])\n",
    "    \n",
    "    # Iterate through each item in the row\n",
    "    for column in range(len(user_arr[row])):\n",
    "        # Calculate the ratio of the current item to the user_sum\n",
    "        ratio = user_arr[row][column] / user_sum\n",
    "        \n",
    "        # Update the uim_arr with the calculated ratio\n",
    "        user_arr[row][column] = ratio\n",
    "        \n",
    "# Convert the array to dataframe for better view\n",
    "ratio_matrix = pd.DataFrame(user_arr, columns=matrix.columns, index=matrix.index)\n",
    "\n",
    "ratio_matrix"
   ]
  },
  {
   "cell_type": "code",
   "execution_count": 35,
   "id": "d3630df0-bd86-4064-9cda-230bbc40e0c3",
   "metadata": {},
   "outputs": [],
   "source": [
    "# Create the dataframe for user_id: cust_code, product_id:item_id and ratio:rating\n",
    "user_item_ratio = pd.DataFrame({\n",
    "    'cust_code': ratio_matrix.index.repeat(ratio_matrix.shape[1]),\n",
    "    'product_id': list(ratio_matrix.columns) * ratio_matrix.shape[0],\n",
    "    'ratio': ratio_matrix.values.ravel()\n",
    "})"
   ]
  },
  {
   "cell_type": "code",
   "execution_count": 36,
   "id": "80c96ebb-954a-4d66-a4ef-70ccd707dbd4",
   "metadata": {},
   "outputs": [
    {
     "data": {
      "text/html": [
       "<div>\n",
       "<style scoped>\n",
       "    .dataframe tbody tr th:only-of-type {\n",
       "        vertical-align: middle;\n",
       "    }\n",
       "\n",
       "    .dataframe tbody tr th {\n",
       "        vertical-align: top;\n",
       "    }\n",
       "\n",
       "    .dataframe thead th {\n",
       "        text-align: right;\n",
       "    }\n",
       "</style>\n",
       "<table border=\"1\" class=\"dataframe\">\n",
       "  <thead>\n",
       "    <tr style=\"text-align: right;\">\n",
       "      <th></th>\n",
       "      <th>cust_code</th>\n",
       "      <th>product_id</th>\n",
       "      <th>ratio</th>\n",
       "    </tr>\n",
       "  </thead>\n",
       "  <tbody>\n",
       "    <tr>\n",
       "      <th>0</th>\n",
       "      <td>15889</td>\n",
       "      <td>0</td>\n",
       "      <td>0.0</td>\n",
       "    </tr>\n",
       "    <tr>\n",
       "      <th>1</th>\n",
       "      <td>15889</td>\n",
       "      <td>1</td>\n",
       "      <td>1.0</td>\n",
       "    </tr>\n",
       "    <tr>\n",
       "      <th>2</th>\n",
       "      <td>15889</td>\n",
       "      <td>2</td>\n",
       "      <td>0.0</td>\n",
       "    </tr>\n",
       "    <tr>\n",
       "      <th>3</th>\n",
       "      <td>15889</td>\n",
       "      <td>3</td>\n",
       "      <td>0.0</td>\n",
       "    </tr>\n",
       "    <tr>\n",
       "      <th>4</th>\n",
       "      <td>15889</td>\n",
       "      <td>4</td>\n",
       "      <td>0.0</td>\n",
       "    </tr>\n",
       "    <tr>\n",
       "      <th>...</th>\n",
       "      <td>...</td>\n",
       "      <td>...</td>\n",
       "      <td>...</td>\n",
       "    </tr>\n",
       "    <tr>\n",
       "      <th>16971019</th>\n",
       "      <td>1454620</td>\n",
       "      <td>19</td>\n",
       "      <td>0.0</td>\n",
       "    </tr>\n",
       "    <tr>\n",
       "      <th>16971020</th>\n",
       "      <td>1454620</td>\n",
       "      <td>20</td>\n",
       "      <td>0.0</td>\n",
       "    </tr>\n",
       "    <tr>\n",
       "      <th>16971021</th>\n",
       "      <td>1454620</td>\n",
       "      <td>21</td>\n",
       "      <td>0.0</td>\n",
       "    </tr>\n",
       "    <tr>\n",
       "      <th>16971022</th>\n",
       "      <td>1454620</td>\n",
       "      <td>22</td>\n",
       "      <td>0.0</td>\n",
       "    </tr>\n",
       "    <tr>\n",
       "      <th>16971023</th>\n",
       "      <td>1454620</td>\n",
       "      <td>23</td>\n",
       "      <td>0.0</td>\n",
       "    </tr>\n",
       "  </tbody>\n",
       "</table>\n",
       "<p>16971024 rows × 3 columns</p>\n",
       "</div>"
      ],
      "text/plain": [
       "          cust_code  product_id  ratio\n",
       "0             15889           0    0.0\n",
       "1             15889           1    1.0\n",
       "2             15889           2    0.0\n",
       "3             15889           3    0.0\n",
       "4             15889           4    0.0\n",
       "...             ...         ...    ...\n",
       "16971019    1454620          19    0.0\n",
       "16971020    1454620          20    0.0\n",
       "16971021    1454620          21    0.0\n",
       "16971022    1454620          22    0.0\n",
       "16971023    1454620          23    0.0\n",
       "\n",
       "[16971024 rows x 3 columns]"
      ]
     },
     "execution_count": 36,
     "metadata": {},
     "output_type": "execute_result"
    }
   ],
   "source": [
    "user_item_ratio"
   ]
  },
  {
   "cell_type": "code",
   "execution_count": 37,
   "id": "c7e6b4a7-62c4-4b25-9b9f-8a5ad867b0c0",
   "metadata": {},
   "outputs": [
    {
     "data": {
      "text/html": [
       "<div>\n",
       "<style scoped>\n",
       "    .dataframe tbody tr th:only-of-type {\n",
       "        vertical-align: middle;\n",
       "    }\n",
       "\n",
       "    .dataframe tbody tr th {\n",
       "        vertical-align: top;\n",
       "    }\n",
       "\n",
       "    .dataframe thead th {\n",
       "        text-align: right;\n",
       "    }\n",
       "</style>\n",
       "<table border=\"1\" class=\"dataframe\">\n",
       "  <thead>\n",
       "    <tr style=\"text-align: right;\">\n",
       "      <th></th>\n",
       "      <th>cust_code</th>\n",
       "      <th>product_id</th>\n",
       "      <th>ratio</th>\n",
       "    </tr>\n",
       "  </thead>\n",
       "  <tbody>\n",
       "    <tr>\n",
       "      <th>0</th>\n",
       "      <td>15889</td>\n",
       "      <td>1</td>\n",
       "      <td>1.000000</td>\n",
       "    </tr>\n",
       "    <tr>\n",
       "      <th>1</th>\n",
       "      <td>15890</td>\n",
       "      <td>15</td>\n",
       "      <td>1.000000</td>\n",
       "    </tr>\n",
       "    <tr>\n",
       "      <th>2</th>\n",
       "      <td>15892</td>\n",
       "      <td>1</td>\n",
       "      <td>0.750000</td>\n",
       "    </tr>\n",
       "    <tr>\n",
       "      <th>3</th>\n",
       "      <td>15892</td>\n",
       "      <td>15</td>\n",
       "      <td>0.250000</td>\n",
       "    </tr>\n",
       "    <tr>\n",
       "      <th>4</th>\n",
       "      <td>15893</td>\n",
       "      <td>10</td>\n",
       "      <td>0.285714</td>\n",
       "    </tr>\n",
       "    <tr>\n",
       "      <th>...</th>\n",
       "      <td>...</td>\n",
       "      <td>...</td>\n",
       "      <td>...</td>\n",
       "    </tr>\n",
       "    <tr>\n",
       "      <th>779429</th>\n",
       "      <td>1454615</td>\n",
       "      <td>15</td>\n",
       "      <td>0.666667</td>\n",
       "    </tr>\n",
       "    <tr>\n",
       "      <th>779430</th>\n",
       "      <td>1454616</td>\n",
       "      <td>1</td>\n",
       "      <td>1.000000</td>\n",
       "    </tr>\n",
       "    <tr>\n",
       "      <th>779431</th>\n",
       "      <td>1454617</td>\n",
       "      <td>1</td>\n",
       "      <td>1.000000</td>\n",
       "    </tr>\n",
       "    <tr>\n",
       "      <th>779432</th>\n",
       "      <td>1454618</td>\n",
       "      <td>20</td>\n",
       "      <td>1.000000</td>\n",
       "    </tr>\n",
       "    <tr>\n",
       "      <th>779433</th>\n",
       "      <td>1454620</td>\n",
       "      <td>1</td>\n",
       "      <td>1.000000</td>\n",
       "    </tr>\n",
       "  </tbody>\n",
       "</table>\n",
       "<p>779434 rows × 3 columns</p>\n",
       "</div>"
      ],
      "text/plain": [
       "        cust_code  product_id     ratio\n",
       "0           15889           1  1.000000\n",
       "1           15890          15  1.000000\n",
       "2           15892           1  0.750000\n",
       "3           15892          15  0.250000\n",
       "4           15893          10  0.285714\n",
       "...           ...         ...       ...\n",
       "779429    1454615          15  0.666667\n",
       "779430    1454616           1  1.000000\n",
       "779431    1454617           1  1.000000\n",
       "779432    1454618          20  1.000000\n",
       "779433    1454620           1  1.000000\n",
       "\n",
       "[779434 rows x 3 columns]"
      ]
     },
     "execution_count": 37,
     "metadata": {},
     "output_type": "execute_result"
    }
   ],
   "source": [
    "# Remove rows where ratio is 0 (user never choose this product)\n",
    "user_item_ratio = user_item_ratio[user_item_ratio['ratio'] != 0]\n",
    "\n",
    "# Reset the index\n",
    "user_item_ratio = user_item_ratio.reset_index(drop=True)\n",
    "\n",
    "# Display the final dataframe\n",
    "user_item_ratio"
   ]
  },
  {
   "cell_type": "markdown",
   "id": "e5c42521-b377-4c27-aa60-95dafa594fd8",
   "metadata": {
    "tags": []
   },
   "source": [
    "## Split train and test data set"
   ]
  },
  {
   "cell_type": "markdown",
   "id": "16e8137c-e591-4374-a965-429319306bb9",
   "metadata": {},
   "source": [
    "Because our dataset is too big and our computer memory cannot support us to run the whole dataset so we only use 2.5% to do the item-based KNN and user-based KNN, and will use the whole dataset to do the SVD model."
   ]
  },
  {
   "cell_type": "code",
   "execution_count": 38,
   "id": "a9e715e6-c420-434d-bc2e-e114efea103e",
   "metadata": {},
   "outputs": [],
   "source": [
    "df_half = user_item_ratio.sample(frac=0.025)"
   ]
  },
  {
   "cell_type": "code",
   "execution_count": 39,
   "id": "815e25cd-993b-412f-a91f-59f24a1fff54",
   "metadata": {},
   "outputs": [
    {
     "name": "stdout",
     "output_type": "stream",
     "text": [
      "Train size: (15588, 3)\n",
      "Test size: (3898, 3)\n"
     ]
    }
   ],
   "source": [
    "# Split data in training and test\n",
    "train_data, test_data = train_test_split(df_half, test_size = 0.2)\n",
    "print(\"Train size:\", train_data.shape)    \n",
    "print(\"Test size:\", test_data.shape)      "
   ]
  },
  {
   "cell_type": "code",
   "execution_count": 40,
   "id": "136537b5-bac4-4789-8850-2d0d50a32877",
   "metadata": {},
   "outputs": [],
   "source": [
    "# Read the data into a Surprise dataset\n",
    "reader = Reader(rating_scale = (0, 1))\n",
    "data_train = Dataset.load_from_df(train_data[['cust_code', 'product_id', 'ratio']], reader)\n",
    "data_test = Dataset.load_from_df(test_data[['cust_code', 'product_id', 'ratio']], reader)"
   ]
  },
  {
   "cell_type": "code",
   "execution_count": 41,
   "id": "c1fffe0c-b3df-412c-9f21-81e2793dbe4d",
   "metadata": {},
   "outputs": [],
   "source": [
    "# Build full trainset\n",
    "data_train = data_train.build_full_trainset()\n",
    "data_test = data_test.build_full_trainset()"
   ]
  },
  {
   "cell_type": "code",
   "execution_count": 42,
   "id": "d843bc0a-d6d4-425f-8386-4b4d7dfcb7c0",
   "metadata": {},
   "outputs": [],
   "source": [
    "# Create the trainset and testset\n",
    "data_trainset = data_train.build_testset()\n",
    "data_testset = data_test.build_testset()"
   ]
  },
  {
   "cell_type": "markdown",
   "id": "73c5ec86-17a3-4240-b975-c26ed8518b48",
   "metadata": {
    "tags": []
   },
   "source": [
    "## item-based KNN"
   ]
  },
  {
   "cell_type": "code",
   "execution_count": 43,
   "id": "f5d5e62e-e7a3-435d-841d-b1d77d28ba48",
   "metadata": {},
   "outputs": [
    {
     "name": "stdout",
     "output_type": "stream",
     "text": [
      "Computing the pearson similarity matrix...\n",
      "Done computing similarity matrix.\n",
      "RMSE: 0.2315\n",
      "RMSE: 0.2315\n",
      "0.231543203338979\n"
     ]
    }
   ],
   "source": [
    "sim_pearson = {'name':'pearson',\n",
    "               'user_based':False\n",
    "              }\n",
    "\n",
    "basic_pearson = knns.KNNBasic(sim_options=sim_pearson,k=2)\n",
    "basic_pearson.fit(data_train)\n",
    "\n",
    "predictions = basic_pearson.test(data_testset)\n",
    "user_basedKNN = accuracy.rmse(predictions)\n",
    "print(accuracy.rmse(predictions))"
   ]
  },
  {
   "cell_type": "markdown",
   "id": "dc38532f-c7c0-4ee4-9758-9162652e1504",
   "metadata": {},
   "source": [
    "The RSME is small and looks good."
   ]
  },
  {
   "cell_type": "code",
   "execution_count": 44,
   "id": "c80a63d3-ca85-426f-aa4d-39c9a752772e",
   "metadata": {},
   "outputs": [],
   "source": [
    "def get_recommendation(uid, model):\n",
    "    sid_list = range(24)\n",
    "    pred_list = [model.predict(uid, sid).est for sid in sid_list]\n",
    "    # Convert to pandas dataframe\n",
    "    recommendations = pd.DataFrame({'uid': uid, 'sid': sid_list, 'pred': pred_list})\n",
    "    # Sort by pred\n",
    "    recommendations = recommendations.sort_values(by='pred', ascending=False).reset_index(drop=True)\n",
    "    # Return\n",
    "    return recommendations.head(5)"
   ]
  },
  {
   "cell_type": "code",
   "execution_count": 45,
   "id": "91f05359-a4b4-469e-b623-e5d6c91b30a7",
   "metadata": {
    "tags": []
   },
   "outputs": [
    {
     "data": {
      "text/html": [
       "<div>\n",
       "<style scoped>\n",
       "    .dataframe tbody tr th:only-of-type {\n",
       "        vertical-align: middle;\n",
       "    }\n",
       "\n",
       "    .dataframe tbody tr th {\n",
       "        vertical-align: top;\n",
       "    }\n",
       "\n",
       "    .dataframe thead th {\n",
       "        text-align: right;\n",
       "    }\n",
       "</style>\n",
       "<table border=\"1\" class=\"dataframe\">\n",
       "  <thead>\n",
       "    <tr style=\"text-align: right;\">\n",
       "      <th></th>\n",
       "      <th>uid</th>\n",
       "      <th>sid</th>\n",
       "      <th>pred</th>\n",
       "    </tr>\n",
       "  </thead>\n",
       "  <tbody>\n",
       "    <tr>\n",
       "      <th>0</th>\n",
       "      <td>1454617</td>\n",
       "      <td>0</td>\n",
       "      <td>0.905536</td>\n",
       "    </tr>\n",
       "    <tr>\n",
       "      <th>1</th>\n",
       "      <td>1454617</td>\n",
       "      <td>1</td>\n",
       "      <td>0.905536</td>\n",
       "    </tr>\n",
       "    <tr>\n",
       "      <th>2</th>\n",
       "      <td>1454617</td>\n",
       "      <td>22</td>\n",
       "      <td>0.905536</td>\n",
       "    </tr>\n",
       "    <tr>\n",
       "      <th>3</th>\n",
       "      <td>1454617</td>\n",
       "      <td>21</td>\n",
       "      <td>0.905536</td>\n",
       "    </tr>\n",
       "    <tr>\n",
       "      <th>4</th>\n",
       "      <td>1454617</td>\n",
       "      <td>20</td>\n",
       "      <td>0.905536</td>\n",
       "    </tr>\n",
       "  </tbody>\n",
       "</table>\n",
       "</div>"
      ],
      "text/plain": [
       "       uid  sid      pred\n",
       "0  1454617    0  0.905536\n",
       "1  1454617    1  0.905536\n",
       "2  1454617   22  0.905536\n",
       "3  1454617   21  0.905536\n",
       "4  1454617   20  0.905536"
      ]
     },
     "execution_count": 45,
     "metadata": {},
     "output_type": "execute_result"
    }
   ],
   "source": [
    "get_recommendation(1454617,basic_pearson)"
   ]
  },
  {
   "cell_type": "markdown",
   "id": "ca53665b-c744-4a63-8c86-a6081ec1c57e",
   "metadata": {
    "tags": []
   },
   "source": [
    "## user-based KNN"
   ]
  },
  {
   "cell_type": "code",
   "execution_count": 46,
   "id": "4cd72c4f-77c4-454e-b023-11b8ef46a058",
   "metadata": {},
   "outputs": [
    {
     "name": "stdout",
     "output_type": "stream",
     "text": [
      "Computing the pearson similarity matrix...\n",
      "Done computing similarity matrix.\n",
      "RMSE: 0.2312\n",
      "RMSE: 0.2312\n",
      "0.2312318953894755\n"
     ]
    }
   ],
   "source": [
    "sim_pearson = {'name':'pearson',\n",
    "               'user_based':True}\n",
    "\n",
    "basic_pearson = knns.KNNBasic(sim_options=sim_pearson)\n",
    "basic_pearson.fit(data_train)\n",
    "\n",
    "predictions = basic_pearson.test(data_testset)\n",
    "user_basedKNN = accuracy.rmse(predictions)\n",
    "print(accuracy.rmse(predictions))"
   ]
  },
  {
   "cell_type": "markdown",
   "id": "2841e330-1524-42e0-a708-08d291ebd84c",
   "metadata": {},
   "source": [
    "The RSME is small and looks good."
   ]
  },
  {
   "cell_type": "code",
   "execution_count": 47,
   "id": "922e6f11-d265-4f80-a97a-7e691eaa9ab5",
   "metadata": {},
   "outputs": [],
   "source": [
    "def get_recommendation(uid, model):\n",
    "    sid_list = range(24)\n",
    "    pred_list = [model.predict(uid, sid).est for sid in sid_list]\n",
    "    # Convert to pandas dataframe\n",
    "    recommendations = pd.DataFrame({'uid': uid, 'sid': sid_list, 'pred': pred_list})\n",
    "    # Sort by pred\n",
    "    recommendations = recommendations.sort_values(by='pred', ascending=False).reset_index(drop=True)\n",
    "    # Return\n",
    "    return recommendations.head(5)"
   ]
  },
  {
   "cell_type": "code",
   "execution_count": 48,
   "id": "8593f9ef-be4b-4be5-8e08-3d2c7a1e033d",
   "metadata": {},
   "outputs": [
    {
     "data": {
      "text/html": [
       "<div>\n",
       "<style scoped>\n",
       "    .dataframe tbody tr th:only-of-type {\n",
       "        vertical-align: middle;\n",
       "    }\n",
       "\n",
       "    .dataframe tbody tr th {\n",
       "        vertical-align: top;\n",
       "    }\n",
       "\n",
       "    .dataframe thead th {\n",
       "        text-align: right;\n",
       "    }\n",
       "</style>\n",
       "<table border=\"1\" class=\"dataframe\">\n",
       "  <thead>\n",
       "    <tr style=\"text-align: right;\">\n",
       "      <th></th>\n",
       "      <th>uid</th>\n",
       "      <th>sid</th>\n",
       "      <th>pred</th>\n",
       "    </tr>\n",
       "  </thead>\n",
       "  <tbody>\n",
       "    <tr>\n",
       "      <th>0</th>\n",
       "      <td>15890</td>\n",
       "      <td>0</td>\n",
       "      <td>0.905536</td>\n",
       "    </tr>\n",
       "    <tr>\n",
       "      <th>1</th>\n",
       "      <td>15890</td>\n",
       "      <td>1</td>\n",
       "      <td>0.905536</td>\n",
       "    </tr>\n",
       "    <tr>\n",
       "      <th>2</th>\n",
       "      <td>15890</td>\n",
       "      <td>22</td>\n",
       "      <td>0.905536</td>\n",
       "    </tr>\n",
       "    <tr>\n",
       "      <th>3</th>\n",
       "      <td>15890</td>\n",
       "      <td>21</td>\n",
       "      <td>0.905536</td>\n",
       "    </tr>\n",
       "    <tr>\n",
       "      <th>4</th>\n",
       "      <td>15890</td>\n",
       "      <td>20</td>\n",
       "      <td>0.905536</td>\n",
       "    </tr>\n",
       "  </tbody>\n",
       "</table>\n",
       "</div>"
      ],
      "text/plain": [
       "     uid  sid      pred\n",
       "0  15890    0  0.905536\n",
       "1  15890    1  0.905536\n",
       "2  15890   22  0.905536\n",
       "3  15890   21  0.905536\n",
       "4  15890   20  0.905536"
      ]
     },
     "execution_count": 48,
     "metadata": {},
     "output_type": "execute_result"
    }
   ],
   "source": [
    "get_recommendation(15890,basic_pearson)"
   ]
  },
  {
   "cell_type": "markdown",
   "id": "c114fdb8-a42d-4df3-b255-8d082e01908f",
   "metadata": {},
   "source": [
    "**Conclusion:**\n",
    "* The item-based KNN and user-based KNN do not perform well in our data. Because our data resulted in a sparse matrix. A sparse matrix refers to a matrix in which most of the elements are 0. In this case, many similarities between items or users cannot be calculated, making it difficult to provide effective recommendations to users. So the next part we will try to use SVD model."
   ]
  },
  {
   "cell_type": "markdown",
   "id": "fadfffbf-b29f-433e-b7bd-2b6ed6366756",
   "metadata": {
    "tags": []
   },
   "source": [
    "## SVD"
   ]
  },
  {
   "cell_type": "markdown",
   "id": "9483b7a5-01f7-4e84-9672-3a7ea8f021b5",
   "metadata": {},
   "source": [
    "We use the whole dataset to do the SVD model. SVD algorithm uses the global information of matrix, it can better solve the problem of data sparsity. As it provide accurate and robust recommendations. "
   ]
  },
  {
   "cell_type": "code",
   "execution_count": 49,
   "id": "e9af2cd9-e6a4-4a79-9fb0-97b00233cc61",
   "metadata": {},
   "outputs": [
    {
     "name": "stdout",
     "output_type": "stream",
     "text": [
      "Train size: (623547, 3)\n",
      "Test size: (155887, 3)\n"
     ]
    }
   ],
   "source": [
    "# Split data in training and test\n",
    "train_data, test_data = train_test_split(user_item_ratio, test_size = 0.2)\n",
    "print(\"Train size:\", train_data.shape)    # 80.00%\n",
    "print(\"Test size:\", test_data.shape)      # 20.00%"
   ]
  },
  {
   "cell_type": "code",
   "execution_count": 50,
   "id": "56b70496-80bd-43ba-83a8-be8a7b3529a8",
   "metadata": {},
   "outputs": [],
   "source": [
    "# Read the data into a Surprise dataset\n",
    "reader = Reader(rating_scale = (0, 1))\n",
    "data_train = Dataset.load_from_df(train_data, reader)\n",
    "data_test = Dataset.load_from_df(test_data, reader)"
   ]
  },
  {
   "cell_type": "code",
   "execution_count": 51,
   "id": "6335c8e4-4857-4580-b4cf-6e02ad51c34a",
   "metadata": {},
   "outputs": [],
   "source": [
    "# Build full trainset\n",
    "data_train = data_train.build_full_trainset()\n",
    "data_test = data_test.build_full_trainset()"
   ]
  },
  {
   "cell_type": "code",
   "execution_count": 52,
   "id": "20c5f2cc-c50b-4453-b5b9-5c7730696a62",
   "metadata": {},
   "outputs": [],
   "source": [
    "# Create the trainset and testset\n",
    "data_trainset = data_train.build_testset()\n",
    "data_testset = data_test.build_testset()"
   ]
  },
  {
   "cell_type": "code",
   "execution_count": 53,
   "id": "8d9e808c-e218-41b4-b3fb-1c2b126eb6d3",
   "metadata": {},
   "outputs": [],
   "source": [
    "# Create SVD algorithm with 5 factors\n",
    "k_factors = 5\n",
    "algo = SVD(n_factors= k_factors, n_epochs= 200, lr_all= 0.005, \n",
    "           reg_all= 0, init_mean= 0, init_std_dev= 0.01)"
   ]
  },
  {
   "cell_type": "code",
   "execution_count": 54,
   "id": "2e18fad5-5298-46ab-addd-b8e938ad68dd",
   "metadata": {},
   "outputs": [
    {
     "data": {
      "text/plain": [
       "<surprise.prediction_algorithms.matrix_factorization.SVD at 0x7fa7e2c9e400>"
      ]
     },
     "execution_count": 54,
     "metadata": {},
     "output_type": "execute_result"
    }
   ],
   "source": [
    "# Train the algorithm on the trainset\n",
    "algo.fit(data_train)"
   ]
  },
  {
   "cell_type": "code",
   "execution_count": 55,
   "id": "3dcceef2-54d7-459c-8076-d797e4245c77",
   "metadata": {},
   "outputs": [
    {
     "name": "stdout",
     "output_type": "stream",
     "text": [
      "RMSE: 0.0181\n"
     ]
    },
    {
     "data": {
      "text/plain": [
       "0.01805122597705749"
      ]
     },
     "execution_count": 55,
     "metadata": {},
     "output_type": "execute_result"
    }
   ],
   "source": [
    "# Calculate RMSE for training dataset\n",
    "train_pred = algo.test(data_trainset)\n",
    "accuracy.rmse(train_pred)"
   ]
  },
  {
   "cell_type": "code",
   "execution_count": 56,
   "id": "624b59e4-85d9-40bd-90d5-b50bacd94afe",
   "metadata": {},
   "outputs": [
    {
     "name": "stdout",
     "output_type": "stream",
     "text": [
      "RMSE: 0.1913\n"
     ]
    },
    {
     "data": {
      "text/plain": [
       "0.19131094372186713"
      ]
     },
     "execution_count": 56,
     "metadata": {},
     "output_type": "execute_result"
    }
   ],
   "source": [
    "# Calculate RMSE for test dataset\n",
    "test_pred = algo.test(data_testset)\n",
    "accuracy.rmse(test_pred)"
   ]
  },
  {
   "cell_type": "code",
   "execution_count": 57,
   "id": "34819ff8-d8b7-4b44-95a8-04726c0be5f1",
   "metadata": {},
   "outputs": [],
   "source": [
    "# Convert to the Dataframe \n",
    "test = pd.DataFrame(train_pred)\n",
    "test = test.rename(columns={'uid':'userId', 'iid': 'itemId', \n",
    "                            'r_ui':'actual', 'est':'prediction'})\n",
    "cf_model = test.pivot_table(index='userId', \n",
    "                            columns='itemId', values='prediction').fillna(0)"
   ]
  },
  {
   "cell_type": "code",
   "execution_count": 58,
   "id": "01e91fb7-ac66-44f8-9acb-664151588f7c",
   "metadata": {},
   "outputs": [
    {
     "data": {
      "text/html": [
       "<div>\n",
       "<style scoped>\n",
       "    .dataframe tbody tr th:only-of-type {\n",
       "        vertical-align: middle;\n",
       "    }\n",
       "\n",
       "    .dataframe tbody tr th {\n",
       "        vertical-align: top;\n",
       "    }\n",
       "\n",
       "    .dataframe thead th {\n",
       "        text-align: right;\n",
       "    }\n",
       "</style>\n",
       "<table border=\"1\" class=\"dataframe\">\n",
       "  <thead>\n",
       "    <tr style=\"text-align: right;\">\n",
       "      <th></th>\n",
       "      <th>userId</th>\n",
       "      <th>itemId</th>\n",
       "      <th>actual</th>\n",
       "      <th>prediction</th>\n",
       "      <th>details</th>\n",
       "    </tr>\n",
       "  </thead>\n",
       "  <tbody>\n",
       "    <tr>\n",
       "      <th>235632</th>\n",
       "      <td>15892</td>\n",
       "      <td>15</td>\n",
       "      <td>0.250000</td>\n",
       "      <td>0.322862</td>\n",
       "      <td>{'was_impossible': False}</td>\n",
       "    </tr>\n",
       "    <tr>\n",
       "      <th>235631</th>\n",
       "      <td>15892</td>\n",
       "      <td>1</td>\n",
       "      <td>0.750000</td>\n",
       "      <td>0.775102</td>\n",
       "      <td>{'was_impossible': False}</td>\n",
       "    </tr>\n",
       "    <tr>\n",
       "      <th>421045</th>\n",
       "      <td>15893</td>\n",
       "      <td>21</td>\n",
       "      <td>0.714286</td>\n",
       "      <td>0.718796</td>\n",
       "      <td>{'was_impossible': False}</td>\n",
       "    </tr>\n",
       "    <tr>\n",
       "      <th>421044</th>\n",
       "      <td>15893</td>\n",
       "      <td>10</td>\n",
       "      <td>0.285714</td>\n",
       "      <td>0.309514</td>\n",
       "      <td>{'was_impossible': False}</td>\n",
       "    </tr>\n",
       "    <tr>\n",
       "      <th>362313</th>\n",
       "      <td>15895</td>\n",
       "      <td>1</td>\n",
       "      <td>1.000000</td>\n",
       "      <td>1.000000</td>\n",
       "      <td>{'was_impossible': False}</td>\n",
       "    </tr>\n",
       "    <tr>\n",
       "      <th>437202</th>\n",
       "      <td>15896</td>\n",
       "      <td>1</td>\n",
       "      <td>0.571429</td>\n",
       "      <td>0.582067</td>\n",
       "      <td>{'was_impossible': False}</td>\n",
       "    </tr>\n",
       "    <tr>\n",
       "      <th>437201</th>\n",
       "      <td>15896</td>\n",
       "      <td>18</td>\n",
       "      <td>0.428571</td>\n",
       "      <td>0.470483</td>\n",
       "      <td>{'was_impossible': False}</td>\n",
       "    </tr>\n",
       "    <tr>\n",
       "      <th>90969</th>\n",
       "      <td>15897</td>\n",
       "      <td>15</td>\n",
       "      <td>0.166667</td>\n",
       "      <td>0.209785</td>\n",
       "      <td>{'was_impossible': False}</td>\n",
       "    </tr>\n",
       "    <tr>\n",
       "      <th>90970</th>\n",
       "      <td>15897</td>\n",
       "      <td>1</td>\n",
       "      <td>0.833333</td>\n",
       "      <td>0.866292</td>\n",
       "      <td>{'was_impossible': False}</td>\n",
       "    </tr>\n",
       "    <tr>\n",
       "      <th>268785</th>\n",
       "      <td>15898</td>\n",
       "      <td>20</td>\n",
       "      <td>1.000000</td>\n",
       "      <td>1.000000</td>\n",
       "      <td>{'was_impossible': False}</td>\n",
       "    </tr>\n",
       "  </tbody>\n",
       "</table>\n",
       "</div>"
      ],
      "text/plain": [
       "        userId  itemId    actual  prediction                    details\n",
       "235632   15892      15  0.250000    0.322862  {'was_impossible': False}\n",
       "235631   15892       1  0.750000    0.775102  {'was_impossible': False}\n",
       "421045   15893      21  0.714286    0.718796  {'was_impossible': False}\n",
       "421044   15893      10  0.285714    0.309514  {'was_impossible': False}\n",
       "362313   15895       1  1.000000    1.000000  {'was_impossible': False}\n",
       "437202   15896       1  0.571429    0.582067  {'was_impossible': False}\n",
       "437201   15896      18  0.428571    0.470483  {'was_impossible': False}\n",
       "90969    15897      15  0.166667    0.209785  {'was_impossible': False}\n",
       "90970    15897       1  0.833333    0.866292  {'was_impossible': False}\n",
       "268785   15898      20  1.000000    1.000000  {'was_impossible': False}"
      ]
     },
     "execution_count": 58,
     "metadata": {},
     "output_type": "execute_result"
    }
   ],
   "source": [
    "test.sort_values('userId').head(10)"
   ]
  },
  {
   "cell_type": "code",
   "execution_count": 59,
   "id": "6fcb0c17-bb76-43a3-99bc-1a300cdf0f6f",
   "metadata": {},
   "outputs": [],
   "source": [
    "# Returns the top n recommended items for a given user based on a trained model\n",
    "def get_users_predictions(user_id, n, model):\n",
    "    # Get rating\n",
    "    recommended_items = pd.DataFrame(model.loc[user_id])\n",
    "    # Rename the column\n",
    "    recommended_items.columns = [\"predicted_rating\"]\n",
    "    # Sort items based on predicted rating in descending order\n",
    "    recommended_items = recommended_items.sort_values('predicted_rating', ascending=False)    \n",
    "    recommended_items = recommended_items.head(n)\n",
    "    return recommended_items.index.tolist()"
   ]
  },
  {
   "cell_type": "code",
   "execution_count": 60,
   "id": "7d30fecd-c116-47f8-9064-5e2d87314eff",
   "metadata": {
    "tags": []
   },
   "outputs": [],
   "source": [
    "# Returns a list of recommendations for all users in the trained model\n",
    "def get_recs(model, k):\n",
    "    # Initialize an empty list \n",
    "    recs = []\n",
    "    for user in model.index:\n",
    "        # Get the top k recommended items for the current user\n",
    "        cf_predictions = get_users_predictions(user, k, model)\n",
    "        recs.append(cf_predictions)\n",
    "    return recs    "
   ]
  },
  {
   "cell_type": "code",
   "execution_count": 61,
   "id": "038ccdfb-7b7a-4a43-8b0e-b9a94eeaecf2",
   "metadata": {},
   "outputs": [
    {
     "data": {
      "text/html": [
       "<div>\n",
       "<style scoped>\n",
       "    .dataframe tbody tr th:only-of-type {\n",
       "        vertical-align: middle;\n",
       "    }\n",
       "\n",
       "    .dataframe tbody tr th {\n",
       "        vertical-align: top;\n",
       "    }\n",
       "\n",
       "    .dataframe thead th {\n",
       "        text-align: right;\n",
       "    }\n",
       "</style>\n",
       "<table border=\"1\" class=\"dataframe\">\n",
       "  <thead>\n",
       "    <tr style=\"text-align: right;\">\n",
       "      <th></th>\n",
       "      <th>Top-10 Recommendation</th>\n",
       "    </tr>\n",
       "    <tr>\n",
       "      <th>userId</th>\n",
       "      <th></th>\n",
       "    </tr>\n",
       "  </thead>\n",
       "  <tbody>\n",
       "    <tr>\n",
       "      <th>15892</th>\n",
       "      <td>[1, 15, 0, 22, 21, 20, 19, 18, 17, 16]</td>\n",
       "    </tr>\n",
       "    <tr>\n",
       "      <th>15893</th>\n",
       "      <td>[21, 10, 0, 13, 22, 20, 19, 18, 17, 16]</td>\n",
       "    </tr>\n",
       "    <tr>\n",
       "      <th>15895</th>\n",
       "      <td>[1, 0, 22, 21, 20, 19, 18, 17, 16, 15]</td>\n",
       "    </tr>\n",
       "    <tr>\n",
       "      <th>15896</th>\n",
       "      <td>[1, 18, 0, 22, 21, 20, 19, 17, 16, 15]</td>\n",
       "    </tr>\n",
       "    <tr>\n",
       "      <th>15897</th>\n",
       "      <td>[1, 15, 0, 22, 21, 20, 19, 18, 17, 16]</td>\n",
       "    </tr>\n",
       "  </tbody>\n",
       "</table>\n",
       "</div>"
      ],
      "text/plain": [
       "                          Top-10 Recommendation\n",
       "userId                                         \n",
       "15892    [1, 15, 0, 22, 21, 20, 19, 18, 17, 16]\n",
       "15893   [21, 10, 0, 13, 22, 20, 19, 18, 17, 16]\n",
       "15895    [1, 0, 22, 21, 20, 19, 18, 17, 16, 15]\n",
       "15896    [1, 18, 0, 22, 21, 20, 19, 17, 16, 15]\n",
       "15897    [1, 15, 0, 22, 21, 20, 19, 18, 17, 16]"
      ]
     },
     "execution_count": 61,
     "metadata": {},
     "output_type": "execute_result"
    }
   ],
   "source": [
    "# Top-10 recommendations for each user\n",
    "k = 10\n",
    "recs = get_recs(cf_model, k)\n",
    "preds = pd.DataFrame(index=cf_model.index)\n",
    "preds[f'Top-{k} Recommendation'] = recs\n",
    "preds.head()"
   ]
  },
  {
   "cell_type": "markdown",
   "id": "be64695a-fce5-4e07-83f2-54ac0c43fc4e",
   "metadata": {},
   "source": [
    "**Conclusion:**\n",
    "* Our model RMSE is pretty small and it provide each customer top 10 most likely to choose product. Based on the rank, Santander does not need to spend money in new customers acquisition  for those that have the lowest probability to purchase a new product."
   ]
  },
  {
   "cell_type": "markdown",
   "id": "be079d56-b5ff-4b90-8b07-1bd6c1afafd4",
   "metadata": {},
   "source": [
    "# Prediction: 3 Models"
   ]
  },
  {
   "cell_type": "markdown",
   "id": "d2dfc082-068b-4563-954c-20810a1ec902",
   "metadata": {},
   "source": [
    "Mortgage, one the bank most profitable account, used as our target account to do the prediction.\n",
    "We want to know whether a new customer will choose this product, therefore we can focus a new product acquisition strategy on target customers."
   ]
  },
  {
   "cell_type": "markdown",
   "id": "ae6a1696-4e1e-4de8-90fd-ee2de8a72600",
   "metadata": {},
   "source": [
    "## Data Cleaning"
   ]
  },
  {
   "cell_type": "code",
   "execution_count": 62,
   "id": "e26fc906-36ef-467d-ab46-1281a87fa333",
   "metadata": {},
   "outputs": [],
   "source": [
    "data_Mortgage = data.iloc[:,[1,3,4,5,6,8,11,12,13,15,19,20,21,36]]"
   ]
  },
  {
   "cell_type": "code",
   "execution_count": 63,
   "id": "87ca4926-7543-46d4-9a56-edc33a589109",
   "metadata": {},
   "outputs": [
    {
     "data": {
      "text/html": [
       "<div>\n",
       "<style scoped>\n",
       "    .dataframe tbody tr th:only-of-type {\n",
       "        vertical-align: middle;\n",
       "    }\n",
       "\n",
       "    .dataframe tbody tr th {\n",
       "        vertical-align: top;\n",
       "    }\n",
       "\n",
       "    .dataframe thead th {\n",
       "        text-align: right;\n",
       "    }\n",
       "</style>\n",
       "<table border=\"1\" class=\"dataframe\">\n",
       "  <thead>\n",
       "    <tr style=\"text-align: right;\">\n",
       "      <th></th>\n",
       "      <th>cust_code</th>\n",
       "      <th>country</th>\n",
       "      <th>sex</th>\n",
       "      <th>age</th>\n",
       "      <th>cust_date</th>\n",
       "      <th>cust_seniority</th>\n",
       "      <th>cust_rel</th>\n",
       "      <th>residence_index</th>\n",
       "      <th>foreigner_index</th>\n",
       "      <th>deceased</th>\n",
       "      <th>activity_index</th>\n",
       "      <th>income</th>\n",
       "      <th>segmentation</th>\n",
       "      <th>mortgage</th>\n",
       "    </tr>\n",
       "  </thead>\n",
       "  <tbody>\n",
       "    <tr>\n",
       "      <th>0</th>\n",
       "      <td>717199</td>\n",
       "      <td>ES</td>\n",
       "      <td>V</td>\n",
       "      <td>60</td>\n",
       "      <td>2007-09-07</td>\n",
       "      <td>67</td>\n",
       "      <td>A</td>\n",
       "      <td>S</td>\n",
       "      <td>N</td>\n",
       "      <td>N</td>\n",
       "      <td>1</td>\n",
       "      <td>179209.41</td>\n",
       "      <td>02 - PARTICULARES</td>\n",
       "      <td>0</td>\n",
       "    </tr>\n",
       "    <tr>\n",
       "      <th>1</th>\n",
       "      <td>931292</td>\n",
       "      <td>ES</td>\n",
       "      <td>H</td>\n",
       "      <td>24</td>\n",
       "      <td>2011-08-09</td>\n",
       "      <td>54</td>\n",
       "      <td>A</td>\n",
       "      <td>S</td>\n",
       "      <td>N</td>\n",
       "      <td>N</td>\n",
       "      <td>1</td>\n",
       "      <td>82559.52</td>\n",
       "      <td>03 - UNIVERSITARIO</td>\n",
       "      <td>0</td>\n",
       "    </tr>\n",
       "    <tr>\n",
       "      <th>3</th>\n",
       "      <td>1305809</td>\n",
       "      <td>ES</td>\n",
       "      <td>H</td>\n",
       "      <td>39</td>\n",
       "      <td>2014-09-11</td>\n",
       "      <td>13</td>\n",
       "      <td>A</td>\n",
       "      <td>S</td>\n",
       "      <td>N</td>\n",
       "      <td>N</td>\n",
       "      <td>0</td>\n",
       "      <td>88788.09</td>\n",
       "      <td>02 - PARTICULARES</td>\n",
       "      <td>0</td>\n",
       "    </tr>\n",
       "    <tr>\n",
       "      <th>5</th>\n",
       "      <td>520972</td>\n",
       "      <td>ES</td>\n",
       "      <td>V</td>\n",
       "      <td>79</td>\n",
       "      <td>2005-03-03</td>\n",
       "      <td>130</td>\n",
       "      <td>I</td>\n",
       "      <td>S</td>\n",
       "      <td>N</td>\n",
       "      <td>N</td>\n",
       "      <td>0</td>\n",
       "      <td>100846.89</td>\n",
       "      <td>02 - PARTICULARES</td>\n",
       "      <td>0</td>\n",
       "    </tr>\n",
       "    <tr>\n",
       "      <th>6</th>\n",
       "      <td>271365</td>\n",
       "      <td>ES</td>\n",
       "      <td>V</td>\n",
       "      <td>41</td>\n",
       "      <td>2001-09-10</td>\n",
       "      <td>166</td>\n",
       "      <td>A</td>\n",
       "      <td>S</td>\n",
       "      <td>N</td>\n",
       "      <td>N</td>\n",
       "      <td>1</td>\n",
       "      <td>192920.76</td>\n",
       "      <td>01 - TOP</td>\n",
       "      <td>0</td>\n",
       "    </tr>\n",
       "  </tbody>\n",
       "</table>\n",
       "</div>"
      ],
      "text/plain": [
       "   cust_code country sex  age   cust_date  cust_seniority cust_rel  \\\n",
       "0     717199      ES   V   60  2007-09-07              67        A   \n",
       "1     931292      ES   H   24  2011-08-09              54        A   \n",
       "3    1305809      ES   H   39  2014-09-11              13        A   \n",
       "5     520972      ES   V   79  2005-03-03             130        I   \n",
       "6     271365      ES   V   41  2001-09-10             166        A   \n",
       "\n",
       "  residence_index foreigner_index deceased  activity_index     income  \\\n",
       "0               S               N        N               1  179209.41   \n",
       "1               S               N        N               1   82559.52   \n",
       "3               S               N        N               0   88788.09   \n",
       "5               S               N        N               0  100846.89   \n",
       "6               S               N        N               1  192920.76   \n",
       "\n",
       "         segmentation  mortgage  \n",
       "0   02 - PARTICULARES         0  \n",
       "1  03 - UNIVERSITARIO         0  \n",
       "3   02 - PARTICULARES         0  \n",
       "5   02 - PARTICULARES         0  \n",
       "6            01 - TOP         0  "
      ]
     },
     "execution_count": 63,
     "metadata": {},
     "output_type": "execute_result"
    }
   ],
   "source": [
    "data_Mortgage.head()"
   ]
  },
  {
   "cell_type": "code",
   "execution_count": 64,
   "id": "c6af996d-cb0e-4848-8477-d57f91ad1890",
   "metadata": {
    "tags": []
   },
   "outputs": [
    {
     "name": "stderr",
     "output_type": "stream",
     "text": [
      "/var/folders/l9/5v17sjss7k3_tb893d6bdq8m0000gn/T/ipykernel_4116/24217185.py:2: SettingWithCopyWarning: \n",
      "A value is trying to be set on a copy of a slice from a DataFrame.\n",
      "Try using .loc[row_indexer,col_indexer] = value instead\n",
      "\n",
      "See the caveats in the documentation: https://pandas.pydata.org/pandas-docs/stable/user_guide/indexing.html#returning-a-view-versus-a-copy\n",
      "  data_Mortgage['cust_code'] = data_Mortgage['cust_code'].astype('str')\n"
     ]
    }
   ],
   "source": [
    "# Convert to the 'str' type\n",
    "data_Mortgage['cust_code'] = data_Mortgage['cust_code'].astype('str')"
   ]
  },
  {
   "cell_type": "markdown",
   "id": "dec3455a-08cf-4c87-8703-d02a5fa4e827",
   "metadata": {},
   "source": [
    "**We create a new feature called day. `day` is calculated by 2016-06-28(the newest day in the test data set) minue the open day.**"
   ]
  },
  {
   "cell_type": "code",
   "execution_count": 65,
   "id": "adde175d-68cf-4899-84bd-8fd97cda633b",
   "metadata": {
    "tags": []
   },
   "outputs": [
    {
     "name": "stderr",
     "output_type": "stream",
     "text": [
      "/var/folders/l9/5v17sjss7k3_tb893d6bdq8m0000gn/T/ipykernel_4116/1848235864.py:2: SettingWithCopyWarning: \n",
      "A value is trying to be set on a copy of a slice from a DataFrame.\n",
      "Try using .loc[row_indexer,col_indexer] = value instead\n",
      "\n",
      "See the caveats in the documentation: https://pandas.pydata.org/pandas-docs/stable/user_guide/indexing.html#returning-a-view-versus-a-copy\n",
      "  data_Mortgage['cust_date'] = pd.to_datetime(data_Mortgage['cust_date'])\n",
      "/var/folders/l9/5v17sjss7k3_tb893d6bdq8m0000gn/T/ipykernel_4116/1848235864.py:3: SettingWithCopyWarning: \n",
      "A value is trying to be set on a copy of a slice from a DataFrame.\n",
      "Try using .loc[row_indexer,col_indexer] = value instead\n",
      "\n",
      "See the caveats in the documentation: https://pandas.pydata.org/pandas-docs/stable/user_guide/indexing.html#returning-a-view-versus-a-copy\n",
      "  data_Mortgage['open_day'] = pd.to_datetime('2016-06-28') - data_Mortgage['cust_date']\n",
      "/var/folders/l9/5v17sjss7k3_tb893d6bdq8m0000gn/T/ipykernel_4116/1848235864.py:4: FutureWarning: In a future version of pandas all arguments of StringMethods.split except for the argument 'pat' will be keyword-only.\n",
      "  data_Mortgage['day'] = data_Mortgage['open_day'].astype('str').str.split('days',1).str[0]\n",
      "/var/folders/l9/5v17sjss7k3_tb893d6bdq8m0000gn/T/ipykernel_4116/1848235864.py:4: SettingWithCopyWarning: \n",
      "A value is trying to be set on a copy of a slice from a DataFrame.\n",
      "Try using .loc[row_indexer,col_indexer] = value instead\n",
      "\n",
      "See the caveats in the documentation: https://pandas.pydata.org/pandas-docs/stable/user_guide/indexing.html#returning-a-view-versus-a-copy\n",
      "  data_Mortgage['day'] = data_Mortgage['open_day'].astype('str').str.split('days',1).str[0]\n",
      "/var/folders/l9/5v17sjss7k3_tb893d6bdq8m0000gn/T/ipykernel_4116/1848235864.py:5: SettingWithCopyWarning: \n",
      "A value is trying to be set on a copy of a slice from a DataFrame.\n",
      "Try using .loc[row_indexer,col_indexer] = value instead\n",
      "\n",
      "See the caveats in the documentation: https://pandas.pydata.org/pandas-docs/stable/user_guide/indexing.html#returning-a-view-versus-a-copy\n",
      "  data_Mortgage['day'] = data_Mortgage['day'].astype('int')\n"
     ]
    }
   ],
   "source": [
    "# Convert to the datatime type\n",
    "data_Mortgage['cust_date'] = pd.to_datetime(data_Mortgage['cust_date'])\n",
    "data_Mortgage['open_day'] = pd.to_datetime('2016-06-28') - data_Mortgage['cust_date']\n",
    "data_Mortgage['day'] = data_Mortgage['open_day'].astype('str').str.split('days',1).str[0]\n",
    "data_Mortgage['day'] = data_Mortgage['day'].astype('int')"
   ]
  },
  {
   "cell_type": "code",
   "execution_count": 66,
   "id": "b0a1ea02-6b61-41f4-a8e2-d3ad49cbea7f",
   "metadata": {
    "tags": []
   },
   "outputs": [],
   "source": [
    "# Drop the column:'cust_date','open_day'\n",
    "data_Mortgage = data_Mortgage.drop(columns = ['cust_date','open_day'])"
   ]
  },
  {
   "cell_type": "code",
   "execution_count": 67,
   "id": "85b6d953-078b-4ab2-9034-4c6a49baf9c0",
   "metadata": {
    "tags": []
   },
   "outputs": [],
   "source": [
    "# Convert the data to the dummy variable\n",
    "Mortgage = pd.concat([data_Mortgage.cust_code,\n",
    "                      pd.get_dummies(data_Mortgage.country),\n",
    "                      pd.get_dummies(data_Mortgage.sex),\n",
    "                      data_Mortgage.age,\n",
    "                      data_Mortgage.cust_seniority,\n",
    "                      pd.get_dummies(data_Mortgage.cust_rel),\n",
    "                      pd.get_dummies(data_Mortgage.residence_index),\n",
    "                      pd.get_dummies(data_Mortgage.activity_index),\n",
    "                      data_Mortgage.income,\n",
    "                      pd.get_dummies(data_Mortgage.segmentation),\n",
    "                      data_Mortgage.day,\n",
    "                      data_Mortgage.mortgage],\n",
    "                     axis=1)"
   ]
  },
  {
   "cell_type": "code",
   "execution_count": 68,
   "id": "31bbe0fc-cfb5-43f0-84f1-b7910fb9efbd",
   "metadata": {
    "tags": []
   },
   "outputs": [
    {
     "data": {
      "text/html": [
       "<div>\n",
       "<style scoped>\n",
       "    .dataframe tbody tr th:only-of-type {\n",
       "        vertical-align: middle;\n",
       "    }\n",
       "\n",
       "    .dataframe tbody tr th {\n",
       "        vertical-align: top;\n",
       "    }\n",
       "\n",
       "    .dataframe thead th {\n",
       "        text-align: right;\n",
       "    }\n",
       "</style>\n",
       "<table border=\"1\" class=\"dataframe\">\n",
       "  <thead>\n",
       "    <tr style=\"text-align: right;\">\n",
       "      <th></th>\n",
       "      <th>cust_code</th>\n",
       "      <th>BO</th>\n",
       "      <th>DE</th>\n",
       "      <th>ES</th>\n",
       "      <th>IT</th>\n",
       "      <th>PY</th>\n",
       "      <th>H</th>\n",
       "      <th>V</th>\n",
       "      <th>age</th>\n",
       "      <th>cust_seniority</th>\n",
       "      <th>...</th>\n",
       "      <th>N</th>\n",
       "      <th>S</th>\n",
       "      <th>0</th>\n",
       "      <th>1</th>\n",
       "      <th>income</th>\n",
       "      <th>01 - TOP</th>\n",
       "      <th>02 - PARTICULARES</th>\n",
       "      <th>03 - UNIVERSITARIO</th>\n",
       "      <th>day</th>\n",
       "      <th>mortgage</th>\n",
       "    </tr>\n",
       "  </thead>\n",
       "  <tbody>\n",
       "    <tr>\n",
       "      <th>0</th>\n",
       "      <td>717199</td>\n",
       "      <td>0</td>\n",
       "      <td>0</td>\n",
       "      <td>1</td>\n",
       "      <td>0</td>\n",
       "      <td>0</td>\n",
       "      <td>0</td>\n",
       "      <td>1</td>\n",
       "      <td>60</td>\n",
       "      <td>67</td>\n",
       "      <td>...</td>\n",
       "      <td>0</td>\n",
       "      <td>1</td>\n",
       "      <td>0</td>\n",
       "      <td>1</td>\n",
       "      <td>179209.41</td>\n",
       "      <td>0</td>\n",
       "      <td>1</td>\n",
       "      <td>0</td>\n",
       "      <td>3217</td>\n",
       "      <td>0</td>\n",
       "    </tr>\n",
       "    <tr>\n",
       "      <th>1</th>\n",
       "      <td>931292</td>\n",
       "      <td>0</td>\n",
       "      <td>0</td>\n",
       "      <td>1</td>\n",
       "      <td>0</td>\n",
       "      <td>0</td>\n",
       "      <td>1</td>\n",
       "      <td>0</td>\n",
       "      <td>24</td>\n",
       "      <td>54</td>\n",
       "      <td>...</td>\n",
       "      <td>0</td>\n",
       "      <td>1</td>\n",
       "      <td>0</td>\n",
       "      <td>1</td>\n",
       "      <td>82559.52</td>\n",
       "      <td>0</td>\n",
       "      <td>0</td>\n",
       "      <td>1</td>\n",
       "      <td>1785</td>\n",
       "      <td>0</td>\n",
       "    </tr>\n",
       "    <tr>\n",
       "      <th>3</th>\n",
       "      <td>1305809</td>\n",
       "      <td>0</td>\n",
       "      <td>0</td>\n",
       "      <td>1</td>\n",
       "      <td>0</td>\n",
       "      <td>0</td>\n",
       "      <td>1</td>\n",
       "      <td>0</td>\n",
       "      <td>39</td>\n",
       "      <td>13</td>\n",
       "      <td>...</td>\n",
       "      <td>0</td>\n",
       "      <td>1</td>\n",
       "      <td>1</td>\n",
       "      <td>0</td>\n",
       "      <td>88788.09</td>\n",
       "      <td>0</td>\n",
       "      <td>1</td>\n",
       "      <td>0</td>\n",
       "      <td>656</td>\n",
       "      <td>0</td>\n",
       "    </tr>\n",
       "    <tr>\n",
       "      <th>5</th>\n",
       "      <td>520972</td>\n",
       "      <td>0</td>\n",
       "      <td>0</td>\n",
       "      <td>1</td>\n",
       "      <td>0</td>\n",
       "      <td>0</td>\n",
       "      <td>0</td>\n",
       "      <td>1</td>\n",
       "      <td>79</td>\n",
       "      <td>130</td>\n",
       "      <td>...</td>\n",
       "      <td>0</td>\n",
       "      <td>1</td>\n",
       "      <td>1</td>\n",
       "      <td>0</td>\n",
       "      <td>100846.89</td>\n",
       "      <td>0</td>\n",
       "      <td>1</td>\n",
       "      <td>0</td>\n",
       "      <td>4135</td>\n",
       "      <td>0</td>\n",
       "    </tr>\n",
       "    <tr>\n",
       "      <th>6</th>\n",
       "      <td>271365</td>\n",
       "      <td>0</td>\n",
       "      <td>0</td>\n",
       "      <td>1</td>\n",
       "      <td>0</td>\n",
       "      <td>0</td>\n",
       "      <td>0</td>\n",
       "      <td>1</td>\n",
       "      <td>41</td>\n",
       "      <td>166</td>\n",
       "      <td>...</td>\n",
       "      <td>0</td>\n",
       "      <td>1</td>\n",
       "      <td>0</td>\n",
       "      <td>1</td>\n",
       "      <td>192920.76</td>\n",
       "      <td>1</td>\n",
       "      <td>0</td>\n",
       "      <td>0</td>\n",
       "      <td>5405</td>\n",
       "      <td>0</td>\n",
       "    </tr>\n",
       "  </tbody>\n",
       "</table>\n",
       "<p>5 rows × 23 columns</p>\n",
       "</div>"
      ],
      "text/plain": [
       "  cust_code  BO  DE  ES  IT  PY  H  V  age  cust_seniority  ...  N  S  0  1  \\\n",
       "0    717199   0   0   1   0   0  0  1   60              67  ...  0  1  0  1   \n",
       "1    931292   0   0   1   0   0  1  0   24              54  ...  0  1  0  1   \n",
       "3   1305809   0   0   1   0   0  1  0   39              13  ...  0  1  1  0   \n",
       "5    520972   0   0   1   0   0  0  1   79             130  ...  0  1  1  0   \n",
       "6    271365   0   0   1   0   0  0  1   41             166  ...  0  1  0  1   \n",
       "\n",
       "      income  01 - TOP  02 - PARTICULARES  03 - UNIVERSITARIO   day  mortgage  \n",
       "0  179209.41         0                  1                   0  3217         0  \n",
       "1   82559.52         0                  0                   1  1785         0  \n",
       "3   88788.09         0                  1                   0   656         0  \n",
       "5  100846.89         0                  1                   0  4135         0  \n",
       "6  192920.76         1                  0                   0  5405         0  \n",
       "\n",
       "[5 rows x 23 columns]"
      ]
     },
     "execution_count": 68,
     "metadata": {},
     "output_type": "execute_result"
    }
   ],
   "source": [
    "Mortgage.head()"
   ]
  },
  {
   "cell_type": "code",
   "execution_count": 69,
   "id": "9a6e08c2-f7b3-45ed-bea0-7557ca19ed3c",
   "metadata": {},
   "outputs": [
    {
     "data": {
      "image/png": "[encoded data removed]",
      "text/plain": [
       "<Figure size 640x480 with 1 Axes>"
      ]
     },
     "metadata": {},
     "output_type": "display_data"
    }
   ],
   "source": [
    "data_Mortgage.groupby('mortgage')['cust_code'].count().plot(kind = 'bar',color='orange',alpha=0.8);"
   ]
  },
  {
   "cell_type": "markdown",
   "id": "5a3ca61e-555f-4952-a61c-f9e08d8ff3dc",
   "metadata": {},
   "source": [
    "## Data Processing: Oversampling "
   ]
  },
  {
   "cell_type": "markdown",
   "id": "306bb525-d16a-4c4f-960d-d83330025342",
   "metadata": {},
   "source": [
    "Because our dataset is too big and our computer memory cannot support us to run the whole dataset so we only use 0.3% to do the model prediction and tune hypermeters in model selection."
   ]
  },
  {
   "cell_type": "code",
   "execution_count": 70,
   "id": "2b89f078-65b0-4dab-9602-39ace5b3cab1",
   "metadata": {},
   "outputs": [],
   "source": [
    "Mortgage_tain = Mortgage.sample(frac=0.003)"
   ]
  },
  {
   "cell_type": "code",
   "execution_count": 71,
   "id": "b460bb48-3f45-4825-9449-8bc04be606d6",
   "metadata": {},
   "outputs": [],
   "source": [
    "X = Mortgage_tain.iloc[:,:-1]"
   ]
  },
  {
   "cell_type": "code",
   "execution_count": 72,
   "id": "12efc4e1-3782-46f0-95c6-9e78f6f822a2",
   "metadata": {},
   "outputs": [],
   "source": [
    "Y = Mortgage_tain.iloc[:,-1:]"
   ]
  },
  {
   "cell_type": "code",
   "execution_count": 73,
   "id": "f08c902c-835c-440e-87e9-18895e644210",
   "metadata": {},
   "outputs": [],
   "source": [
    "X.columns = X.columns.astype(str)"
   ]
  },
  {
   "cell_type": "markdown",
   "id": "e5372ce8-d2f1-48e1-a274-bfb1091722d2",
   "metadata": {},
   "source": [
    "We use the SMOTE packages to do the oversampling to avoid overfitting."
   ]
  },
  {
   "cell_type": "code",
   "execution_count": 74,
   "id": "cc47172c-bc82-493c-aa63-3011cefa1714",
   "metadata": {},
   "outputs": [],
   "source": [
    "# Apply oversampling method\n",
    "sm = SMOTE(random_state = 42)\n",
    "X,Y = sm.fit_resample(X,Y)"
   ]
  },
  {
   "cell_type": "code",
   "execution_count": 75,
   "id": "6212417e-fbd3-4863-938e-f406a57d7ac6",
   "metadata": {},
   "outputs": [
    {
     "data": {
      "image/png": "[encoded data removed]",
      "text/plain": [
       "<Figure size 640x480 with 1 Axes>"
      ]
     },
     "metadata": {},
     "output_type": "display_data"
    }
   ],
   "source": [
    "Y.value_counts().plot(kind = 'bar',color='orange',alpha=0.8);"
   ]
  },
  {
   "cell_type": "code",
   "execution_count": 76,
   "id": "dd709248-6fb9-421c-ad40-2df6e5bfc157",
   "metadata": {},
   "outputs": [],
   "source": [
    "for i in X.columns:\n",
    "    X[i] = X[i].astype(int)"
   ]
  },
  {
   "cell_type": "markdown",
   "id": "3b331636-9533-40b3-ab01-48a71c8dbdde",
   "metadata": {},
   "source": [
    "## Model Building"
   ]
  },
  {
   "cell_type": "code",
   "execution_count": 77,
   "id": "713ef6b8-f8cb-4fef-bb9b-48cf9e6a21e9",
   "metadata": {},
   "outputs": [],
   "source": [
    "# Split data in training and test\n",
    "x_train, x_test, y_train, y_test = train_test_split(X, Y, test_size=0.2, random_state=42)"
   ]
  },
  {
   "cell_type": "markdown",
   "id": "3526403a-ff7b-4aec-833c-2006293e0e0b",
   "metadata": {
    "tags": []
   },
   "source": [
    "### Logistic Regression: Baseline Model"
   ]
  },
  {
   "cell_type": "code",
   "execution_count": 78,
   "id": "bd0dc8a0-8cd7-4a6c-98db-c54e9ce3999f",
   "metadata": {
    "tags": []
   },
   "outputs": [
    {
     "name": "stderr",
     "output_type": "stream",
     "text": [
      "/Users/xiangziying/opt/anaconda3/envs/JolinPython/lib/python3.9/site-packages/sklearn/utils/validation.py:1141: DataConversionWarning: A column-vector y was passed when a 1d array was expected. Please change the shape of y to (n_samples, ), for example using ravel().\n",
      "  y = column_or_1d(y, warn=True)\n"
     ]
    },
    {
     "data": {
      "text/html": [
       "<style>#sk-container-id-1 {color: black;background-color: white;}#sk-container-id-1 pre{padding: 0;}#sk-container-id-1 div.sk-toggleable {background-color: white;}#sk-container-id-1 label.sk-toggleable__label {cursor: pointer;display: block;width: 100%;margin-bottom: 0;padding: 0.3em;box-sizing: border-box;text-align: center;}#sk-container-id-1 label.sk-toggleable__label-arrow:before {content: \"▸\";float: left;margin-right: 0.25em;color: #696969;}#sk-container-id-1 label.sk-toggleable__label-arrow:hover:before {color: black;}#sk-container-id-1 div.sk-estimator:hover label.sk-toggleable__label-arrow:before {color: black;}#sk-container-id-1 div.sk-toggleable__content {max-height: 0;max-width: 0;overflow: hidden;text-align: left;background-color: #f0f8ff;}#sk-container-id-1 div.sk-toggleable__content pre {margin: 0.2em;color: black;border-radius: 0.25em;background-color: #f0f8ff;}#sk-container-id-1 input.sk-toggleable__control:checked~div.sk-toggleable__content {max-height: 200px;max-width: 100%;overflow: auto;}#sk-container-id-1 input.sk-toggleable__control:checked~label.sk-toggleable__label-arrow:before {content: \"▾\";}#sk-container-id-1 div.sk-estimator input.sk-toggleable__control:checked~label.sk-toggleable__label {background-color: #d4ebff;}#sk-container-id-1 div.sk-label input.sk-toggleable__control:checked~label.sk-toggleable__label {background-color: #d4ebff;}#sk-container-id-1 input.sk-hidden--visually {border: 0;clip: rect(1px 1px 1px 1px);clip: rect(1px, 1px, 1px, 1px);height: 1px;margin: -1px;overflow: hidden;padding: 0;position: absolute;width: 1px;}#sk-container-id-1 div.sk-estimator {font-family: monospace;background-color: #f0f8ff;border: 1px dotted black;border-radius: 0.25em;box-sizing: border-box;margin-bottom: 0.5em;}#sk-container-id-1 div.sk-estimator:hover {background-color: #d4ebff;}#sk-container-id-1 div.sk-parallel-item::after {content: \"\";width: 100%;border-bottom: 1px solid gray;flex-grow: 1;}#sk-container-id-1 div.sk-label:hover label.sk-toggleable__label {background-color: #d4ebff;}#sk-container-id-1 div.sk-serial::before {content: \"\";position: absolute;border-left: 1px solid gray;box-sizing: border-box;top: 0;bottom: 0;left: 50%;z-index: 0;}#sk-container-id-1 div.sk-serial {display: flex;flex-direction: column;align-items: center;background-color: white;padding-right: 0.2em;padding-left: 0.2em;position: relative;}#sk-container-id-1 div.sk-item {position: relative;z-index: 1;}#sk-container-id-1 div.sk-parallel {display: flex;align-items: stretch;justify-content: center;background-color: white;position: relative;}#sk-container-id-1 div.sk-item::before, #sk-container-id-1 div.sk-parallel-item::before {content: \"\";position: absolute;border-left: 1px solid gray;box-sizing: border-box;top: 0;bottom: 0;left: 50%;z-index: -1;}#sk-container-id-1 div.sk-parallel-item {display: flex;flex-direction: column;z-index: 1;position: relative;background-color: white;}#sk-container-id-1 div.sk-parallel-item:first-child::after {align-self: flex-end;width: 50%;}#sk-container-id-1 div.sk-parallel-item:last-child::after {align-self: flex-start;width: 50%;}#sk-container-id-1 div.sk-parallel-item:only-child::after {width: 0;}#sk-container-id-1 div.sk-dashed-wrapped {border: 1px dashed gray;margin: 0 0.4em 0.5em 0.4em;box-sizing: border-box;padding-bottom: 0.4em;background-color: white;}#sk-container-id-1 div.sk-label label {font-family: monospace;font-weight: bold;display: inline-block;line-height: 1.2em;}#sk-container-id-1 div.sk-label-container {text-align: center;}#sk-container-id-1 div.sk-container {/* jupyter's `normalize.less` sets `[hidden] { display: none; }` but bootstrap.min.css set `[hidden] { display: none !important; }` so we also need the `!important` here to be able to override the default hidden behavior on the sphinx rendered scikit-learn.org. See: https://github.com/scikit-learn/scikit-learn/issues/21755 */display: inline-block !important;position: relative;}#sk-container-id-1 div.sk-text-repr-fallback {display: none;}</style><div id=\"sk-container-id-1\" class=\"sk-top-container\"><div class=\"sk-text-repr-fallback\"><pre>LogisticRegression()</pre><b>In a Jupyter environment, please rerun this cell to show the HTML representation or trust the notebook. <br />On GitHub, the HTML representation is unable to render, please try loading this page with nbviewer.org.</b></div><div class=\"sk-container\" hidden><div class=\"sk-item\"><div class=\"sk-estimator sk-toggleable\"><input class=\"sk-toggleable__control sk-hidden--visually\" id=\"sk-estimator-id-1\" type=\"checkbox\" checked><label for=\"sk-estimator-id-1\" class=\"sk-toggleable__label sk-toggleable__label-arrow\">LogisticRegression</label><div class=\"sk-toggleable__content\"><pre>LogisticRegression()</pre></div></div></div></div></div>"
      ],
      "text/plain": [
       "LogisticRegression()"
      ]
     },
     "execution_count": 78,
     "metadata": {},
     "output_type": "execute_result"
    }
   ],
   "source": [
    "logmodel = LogisticRegression()\n",
    "logmodel.fit(x_train,y_train)"
   ]
  },
  {
   "cell_type": "code",
   "execution_count": 79,
   "id": "fd701479-e925-41e9-b3c9-2d7bb2e154af",
   "metadata": {},
   "outputs": [],
   "source": [
    "predictions = logmodel.predict(x_test)"
   ]
  },
  {
   "cell_type": "code",
   "execution_count": 80,
   "id": "55638d06-4a9c-4786-9c67-6a4bf95610f7",
   "metadata": {},
   "outputs": [
    {
     "name": "stdout",
     "output_type": "stream",
     "text": [
      "Accuracy of logistic regression classifier on test set: 0.78\n"
     ]
    }
   ],
   "source": [
    "LogAUC = logmodel.score(x_test, y_test)\n",
    "print('Accuracy of logistic regression classifier on test set: {:.2f}'\n",
    "      .format(logmodel.score(x_test, y_test)))"
   ]
  },
  {
   "cell_type": "code",
   "execution_count": 81,
   "id": "bfe3f602-c44e-47f0-80b1-43d5b8fce09c",
   "metadata": {},
   "outputs": [
    {
     "name": "stdout",
     "output_type": "stream",
     "text": [
      "              precision    recall  f1-score   support\n",
      "\n",
      "           0       0.83      0.72      0.77      3249\n",
      "           1       0.75      0.85      0.80      3183\n",
      "\n",
      "    accuracy                           0.78      6432\n",
      "   macro avg       0.79      0.78      0.78      6432\n",
      "weighted avg       0.79      0.78      0.78      6432\n",
      "\n"
     ]
    }
   ],
   "source": [
    "print(classification_report(y_test,predictions))"
   ]
  },
  {
   "cell_type": "markdown",
   "id": "bffcd7fc-a9e1-479a-b326-677c99d59458",
   "metadata": {},
   "source": [
    "### Logistic Regression: Tunes hyperparameter"
   ]
  },
  {
   "cell_type": "code",
   "execution_count": 82,
   "id": "f61059d0-9f93-4c40-a5b8-b58faa94a391",
   "metadata": {},
   "outputs": [],
   "source": [
    "from sklearn.model_selection import GridSearchCV"
   ]
  },
  {
   "cell_type": "code",
   "execution_count": 83,
   "id": "3f0a4d91-c77d-4117-84cb-ccb767f05e52",
   "metadata": {},
   "outputs": [],
   "source": [
    "# Define the hyperparameters to tune\n",
    "param_grid = {\n",
    "    'penalty': ['l1', 'l2', 'elasticnet', 'none'],\n",
    "    'C': [0.01, 0.1, 1, 10],\n",
    "    'solver': [ 'liblinear',  'saga']\n",
    "}"
   ]
  },
  {
   "cell_type": "code",
   "execution_count": 84,
   "id": "a7d4162b-2745-44d7-ac5c-7a2e818499e9",
   "metadata": {
    "scrolled": true,
    "tags": []
   },
   "outputs": [
    {
     "name": "stderr",
     "output_type": "stream",
     "text": [
      "/Users/xiangziying/opt/anaconda3/envs/JolinPython/lib/python3.9/site-packages/sklearn/utils/validation.py:1141: DataConversionWarning: A column-vector y was passed when a 1d array was expected. Please change the shape of y to (n_samples, ), for example using ravel().\n",
      "  y = column_or_1d(y, warn=True)\n",
      "/Users/xiangziying/opt/anaconda3/envs/JolinPython/lib/python3.9/site-packages/sklearn/utils/validation.py:1141: DataConversionWarning: A column-vector y was passed when a 1d array was expected. Please change the shape of y to (n_samples, ), for example using ravel().\n",
      "  y = column_or_1d(y, warn=True)\n",
      "/Users/xiangziying/opt/anaconda3/envs/JolinPython/lib/python3.9/site-packages/sklearn/utils/validation.py:1141: DataConversionWarning: A column-vector y was passed when a 1d array was expected. Please change the shape of y to (n_samples, ), for example using ravel().\n",
      "  y = column_or_1d(y, warn=True)\n",
      "/Users/xiangziying/opt/anaconda3/envs/JolinPython/lib/python3.9/site-packages/sklearn/utils/validation.py:1141: DataConversionWarning: A column-vector y was passed when a 1d array was expected. Please change the shape of y to (n_samples, ), for example using ravel().\n",
      "  y = column_or_1d(y, warn=True)\n",
      "/Users/xiangziying/opt/anaconda3/envs/JolinPython/lib/python3.9/site-packages/sklearn/linear_model/_sag.py:350: ConvergenceWarning: The max_iter was reached which means the coef_ did not converge\n",
      "  warnings.warn(\n",
      "/Users/xiangziying/opt/anaconda3/envs/JolinPython/lib/python3.9/site-packages/sklearn/utils/validation.py:1141: DataConversionWarning: A column-vector y was passed when a 1d array was expected. Please change the shape of y to (n_samples, ), for example using ravel().\n",
      "  y = column_or_1d(y, warn=True)\n",
      "/Users/xiangziying/opt/anaconda3/envs/JolinPython/lib/python3.9/site-packages/sklearn/linear_model/_sag.py:350: ConvergenceWarning: The max_iter was reached which means the coef_ did not converge\n",
      "  warnings.warn(\n",
      "/Users/xiangziying/opt/anaconda3/envs/JolinPython/lib/python3.9/site-packages/sklearn/utils/validation.py:1141: DataConversionWarning: A column-vector y was passed when a 1d array was expected. Please change the shape of y to (n_samples, ), for example using ravel().\n",
      "  y = column_or_1d(y, warn=True)\n",
      "/Users/xiangziying/opt/anaconda3/envs/JolinPython/lib/python3.9/site-packages/sklearn/linear_model/_sag.py:350: ConvergenceWarning: The max_iter was reached which means the coef_ did not converge\n",
      "  warnings.warn(\n",
      "/Users/xiangziying/opt/anaconda3/envs/JolinPython/lib/python3.9/site-packages/sklearn/utils/validation.py:1141: DataConversionWarning: A column-vector y was passed when a 1d array was expected. Please change the shape of y to (n_samples, ), for example using ravel().\n",
      "  y = column_or_1d(y, warn=True)\n",
      "/Users/xiangziying/opt/anaconda3/envs/JolinPython/lib/python3.9/site-packages/sklearn/utils/validation.py:1141: DataConversionWarning: A column-vector y was passed when a 1d array was expected. Please change the shape of y to (n_samples, ), for example using ravel().\n",
      "  y = column_or_1d(y, warn=True)\n",
      "/Users/xiangziying/opt/anaconda3/envs/JolinPython/lib/python3.9/site-packages/sklearn/utils/validation.py:1141: DataConversionWarning: A column-vector y was passed when a 1d array was expected. Please change the shape of y to (n_samples, ), for example using ravel().\n",
      "  y = column_or_1d(y, warn=True)\n",
      "/Users/xiangziying/opt/anaconda3/envs/JolinPython/lib/python3.9/site-packages/sklearn/utils/validation.py:1141: DataConversionWarning: A column-vector y was passed when a 1d array was expected. Please change the shape of y to (n_samples, ), for example using ravel().\n",
      "  y = column_or_1d(y, warn=True)\n",
      "/Users/xiangziying/opt/anaconda3/envs/JolinPython/lib/python3.9/site-packages/sklearn/linear_model/_sag.py:350: ConvergenceWarning: The max_iter was reached which means the coef_ did not converge\n",
      "  warnings.warn(\n",
      "/Users/xiangziying/opt/anaconda3/envs/JolinPython/lib/python3.9/site-packages/sklearn/utils/validation.py:1141: DataConversionWarning: A column-vector y was passed when a 1d array was expected. Please change the shape of y to (n_samples, ), for example using ravel().\n",
      "  y = column_or_1d(y, warn=True)\n",
      "/Users/xiangziying/opt/anaconda3/envs/JolinPython/lib/python3.9/site-packages/sklearn/linear_model/_sag.py:350: ConvergenceWarning: The max_iter was reached which means the coef_ did not converge\n",
      "  warnings.warn(\n",
      "/Users/xiangziying/opt/anaconda3/envs/JolinPython/lib/python3.9/site-packages/sklearn/utils/validation.py:1141: DataConversionWarning: A column-vector y was passed when a 1d array was expected. Please change the shape of y to (n_samples, ), for example using ravel().\n",
      "  y = column_or_1d(y, warn=True)\n",
      "/Users/xiangziying/opt/anaconda3/envs/JolinPython/lib/python3.9/site-packages/sklearn/linear_model/_sag.py:350: ConvergenceWarning: The max_iter was reached which means the coef_ did not converge\n",
      "  warnings.warn(\n",
      "/Users/xiangziying/opt/anaconda3/envs/JolinPython/lib/python3.9/site-packages/sklearn/utils/validation.py:1141: DataConversionWarning: A column-vector y was passed when a 1d array was expected. Please change the shape of y to (n_samples, ), for example using ravel().\n",
      "  y = column_or_1d(y, warn=True)\n",
      "/Users/xiangziying/opt/anaconda3/envs/JolinPython/lib/python3.9/site-packages/sklearn/utils/validation.py:1141: DataConversionWarning: A column-vector y was passed when a 1d array was expected. Please change the shape of y to (n_samples, ), for example using ravel().\n",
      "  y = column_or_1d(y, warn=True)\n",
      "/Users/xiangziying/opt/anaconda3/envs/JolinPython/lib/python3.9/site-packages/sklearn/utils/validation.py:1141: DataConversionWarning: A column-vector y was passed when a 1d array was expected. Please change the shape of y to (n_samples, ), for example using ravel().\n",
      "  y = column_or_1d(y, warn=True)\n",
      "/Users/xiangziying/opt/anaconda3/envs/JolinPython/lib/python3.9/site-packages/sklearn/linear_model/_logistic.py:1173: FutureWarning: `penalty='none'`has been deprecated in 1.2 and will be removed in 1.4. To keep the past behaviour, set `penalty=None`.\n",
      "  warnings.warn(\n",
      "/Users/xiangziying/opt/anaconda3/envs/JolinPython/lib/python3.9/site-packages/sklearn/linear_model/_logistic.py:1181: UserWarning: Setting penalty=None will ignore the C and l1_ratio parameters\n",
      "  warnings.warn(\n",
      "/Users/xiangziying/opt/anaconda3/envs/JolinPython/lib/python3.9/site-packages/sklearn/utils/validation.py:1141: DataConversionWarning: A column-vector y was passed when a 1d array was expected. Please change the shape of y to (n_samples, ), for example using ravel().\n",
      "  y = column_or_1d(y, warn=True)\n",
      "/Users/xiangziying/opt/anaconda3/envs/JolinPython/lib/python3.9/site-packages/sklearn/linear_model/_sag.py:350: ConvergenceWarning: The max_iter was reached which means the coef_ did not converge\n",
      "  warnings.warn(\n",
      "/Users/xiangziying/opt/anaconda3/envs/JolinPython/lib/python3.9/site-packages/sklearn/linear_model/_logistic.py:1173: FutureWarning: `penalty='none'`has been deprecated in 1.2 and will be removed in 1.4. To keep the past behaviour, set `penalty=None`.\n",
      "  warnings.warn(\n",
      "/Users/xiangziying/opt/anaconda3/envs/JolinPython/lib/python3.9/site-packages/sklearn/linear_model/_logistic.py:1181: UserWarning: Setting penalty=None will ignore the C and l1_ratio parameters\n",
      "  warnings.warn(\n",
      "/Users/xiangziying/opt/anaconda3/envs/JolinPython/lib/python3.9/site-packages/sklearn/utils/validation.py:1141: DataConversionWarning: A column-vector y was passed when a 1d array was expected. Please change the shape of y to (n_samples, ), for example using ravel().\n",
      "  y = column_or_1d(y, warn=True)\n",
      "/Users/xiangziying/opt/anaconda3/envs/JolinPython/lib/python3.9/site-packages/sklearn/linear_model/_sag.py:350: ConvergenceWarning: The max_iter was reached which means the coef_ did not converge\n",
      "  warnings.warn(\n",
      "/Users/xiangziying/opt/anaconda3/envs/JolinPython/lib/python3.9/site-packages/sklearn/linear_model/_logistic.py:1173: FutureWarning: `penalty='none'`has been deprecated in 1.2 and will be removed in 1.4. To keep the past behaviour, set `penalty=None`.\n",
      "  warnings.warn(\n",
      "/Users/xiangziying/opt/anaconda3/envs/JolinPython/lib/python3.9/site-packages/sklearn/linear_model/_logistic.py:1181: UserWarning: Setting penalty=None will ignore the C and l1_ratio parameters\n",
      "  warnings.warn(\n",
      "/Users/xiangziying/opt/anaconda3/envs/JolinPython/lib/python3.9/site-packages/sklearn/utils/validation.py:1141: DataConversionWarning: A column-vector y was passed when a 1d array was expected. Please change the shape of y to (n_samples, ), for example using ravel().\n",
      "  y = column_or_1d(y, warn=True)\n",
      "/Users/xiangziying/opt/anaconda3/envs/JolinPython/lib/python3.9/site-packages/sklearn/linear_model/_sag.py:350: ConvergenceWarning: The max_iter was reached which means the coef_ did not converge\n",
      "  warnings.warn(\n",
      "/Users/xiangziying/opt/anaconda3/envs/JolinPython/lib/python3.9/site-packages/sklearn/utils/validation.py:1141: DataConversionWarning: A column-vector y was passed when a 1d array was expected. Please change the shape of y to (n_samples, ), for example using ravel().\n",
      "  y = column_or_1d(y, warn=True)\n",
      "/Users/xiangziying/opt/anaconda3/envs/JolinPython/lib/python3.9/site-packages/sklearn/utils/validation.py:1141: DataConversionWarning: A column-vector y was passed when a 1d array was expected. Please change the shape of y to (n_samples, ), for example using ravel().\n",
      "  y = column_or_1d(y, warn=True)\n",
      "/Users/xiangziying/opt/anaconda3/envs/JolinPython/lib/python3.9/site-packages/sklearn/utils/validation.py:1141: DataConversionWarning: A column-vector y was passed when a 1d array was expected. Please change the shape of y to (n_samples, ), for example using ravel().\n",
      "  y = column_or_1d(y, warn=True)\n",
      "/Users/xiangziying/opt/anaconda3/envs/JolinPython/lib/python3.9/site-packages/sklearn/utils/validation.py:1141: DataConversionWarning: A column-vector y was passed when a 1d array was expected. Please change the shape of y to (n_samples, ), for example using ravel().\n",
      "  y = column_or_1d(y, warn=True)\n",
      "/Users/xiangziying/opt/anaconda3/envs/JolinPython/lib/python3.9/site-packages/sklearn/linear_model/_sag.py:350: ConvergenceWarning: The max_iter was reached which means the coef_ did not converge\n",
      "  warnings.warn(\n",
      "/Users/xiangziying/opt/anaconda3/envs/JolinPython/lib/python3.9/site-packages/sklearn/utils/validation.py:1141: DataConversionWarning: A column-vector y was passed when a 1d array was expected. Please change the shape of y to (n_samples, ), for example using ravel().\n",
      "  y = column_or_1d(y, warn=True)\n",
      "/Users/xiangziying/opt/anaconda3/envs/JolinPython/lib/python3.9/site-packages/sklearn/linear_model/_sag.py:350: ConvergenceWarning: The max_iter was reached which means the coef_ did not converge\n",
      "  warnings.warn(\n",
      "/Users/xiangziying/opt/anaconda3/envs/JolinPython/lib/python3.9/site-packages/sklearn/utils/validation.py:1141: DataConversionWarning: A column-vector y was passed when a 1d array was expected. Please change the shape of y to (n_samples, ), for example using ravel().\n",
      "  y = column_or_1d(y, warn=True)\n",
      "/Users/xiangziying/opt/anaconda3/envs/JolinPython/lib/python3.9/site-packages/sklearn/linear_model/_sag.py:350: ConvergenceWarning: The max_iter was reached which means the coef_ did not converge\n",
      "  warnings.warn(\n",
      "/Users/xiangziying/opt/anaconda3/envs/JolinPython/lib/python3.9/site-packages/sklearn/utils/validation.py:1141: DataConversionWarning: A column-vector y was passed when a 1d array was expected. Please change the shape of y to (n_samples, ), for example using ravel().\n",
      "  y = column_or_1d(y, warn=True)\n",
      "/Users/xiangziying/opt/anaconda3/envs/JolinPython/lib/python3.9/site-packages/sklearn/utils/validation.py:1141: DataConversionWarning: A column-vector y was passed when a 1d array was expected. Please change the shape of y to (n_samples, ), for example using ravel().\n",
      "  y = column_or_1d(y, warn=True)\n",
      "/Users/xiangziying/opt/anaconda3/envs/JolinPython/lib/python3.9/site-packages/sklearn/utils/validation.py:1141: DataConversionWarning: A column-vector y was passed when a 1d array was expected. Please change the shape of y to (n_samples, ), for example using ravel().\n",
      "  y = column_or_1d(y, warn=True)\n",
      "/Users/xiangziying/opt/anaconda3/envs/JolinPython/lib/python3.9/site-packages/sklearn/utils/validation.py:1141: DataConversionWarning: A column-vector y was passed when a 1d array was expected. Please change the shape of y to (n_samples, ), for example using ravel().\n",
      "  y = column_or_1d(y, warn=True)\n",
      "/Users/xiangziying/opt/anaconda3/envs/JolinPython/lib/python3.9/site-packages/sklearn/linear_model/_sag.py:350: ConvergenceWarning: The max_iter was reached which means the coef_ did not converge\n",
      "  warnings.warn(\n",
      "/Users/xiangziying/opt/anaconda3/envs/JolinPython/lib/python3.9/site-packages/sklearn/utils/validation.py:1141: DataConversionWarning: A column-vector y was passed when a 1d array was expected. Please change the shape of y to (n_samples, ), for example using ravel().\n",
      "  y = column_or_1d(y, warn=True)\n",
      "/Users/xiangziying/opt/anaconda3/envs/JolinPython/lib/python3.9/site-packages/sklearn/linear_model/_sag.py:350: ConvergenceWarning: The max_iter was reached which means the coef_ did not converge\n",
      "  warnings.warn(\n",
      "/Users/xiangziying/opt/anaconda3/envs/JolinPython/lib/python3.9/site-packages/sklearn/utils/validation.py:1141: DataConversionWarning: A column-vector y was passed when a 1d array was expected. Please change the shape of y to (n_samples, ), for example using ravel().\n",
      "  y = column_or_1d(y, warn=True)\n",
      "/Users/xiangziying/opt/anaconda3/envs/JolinPython/lib/python3.9/site-packages/sklearn/linear_model/_sag.py:350: ConvergenceWarning: The max_iter was reached which means the coef_ did not converge\n",
      "  warnings.warn(\n",
      "/Users/xiangziying/opt/anaconda3/envs/JolinPython/lib/python3.9/site-packages/sklearn/utils/validation.py:1141: DataConversionWarning: A column-vector y was passed when a 1d array was expected. Please change the shape of y to (n_samples, ), for example using ravel().\n",
      "  y = column_or_1d(y, warn=True)\n",
      "/Users/xiangziying/opt/anaconda3/envs/JolinPython/lib/python3.9/site-packages/sklearn/utils/validation.py:1141: DataConversionWarning: A column-vector y was passed when a 1d array was expected. Please change the shape of y to (n_samples, ), for example using ravel().\n",
      "  y = column_or_1d(y, warn=True)\n",
      "/Users/xiangziying/opt/anaconda3/envs/JolinPython/lib/python3.9/site-packages/sklearn/utils/validation.py:1141: DataConversionWarning: A column-vector y was passed when a 1d array was expected. Please change the shape of y to (n_samples, ), for example using ravel().\n",
      "  y = column_or_1d(y, warn=True)\n",
      "/Users/xiangziying/opt/anaconda3/envs/JolinPython/lib/python3.9/site-packages/sklearn/linear_model/_logistic.py:1173: FutureWarning: `penalty='none'`has been deprecated in 1.2 and will be removed in 1.4. To keep the past behaviour, set `penalty=None`.\n",
      "  warnings.warn(\n",
      "/Users/xiangziying/opt/anaconda3/envs/JolinPython/lib/python3.9/site-packages/sklearn/linear_model/_logistic.py:1181: UserWarning: Setting penalty=None will ignore the C and l1_ratio parameters\n",
      "  warnings.warn(\n",
      "/Users/xiangziying/opt/anaconda3/envs/JolinPython/lib/python3.9/site-packages/sklearn/utils/validation.py:1141: DataConversionWarning: A column-vector y was passed when a 1d array was expected. Please change the shape of y to (n_samples, ), for example using ravel().\n",
      "  y = column_or_1d(y, warn=True)\n",
      "/Users/xiangziying/opt/anaconda3/envs/JolinPython/lib/python3.9/site-packages/sklearn/linear_model/_sag.py:350: ConvergenceWarning: The max_iter was reached which means the coef_ did not converge\n",
      "  warnings.warn(\n",
      "/Users/xiangziying/opt/anaconda3/envs/JolinPython/lib/python3.9/site-packages/sklearn/linear_model/_logistic.py:1173: FutureWarning: `penalty='none'`has been deprecated in 1.2 and will be removed in 1.4. To keep the past behaviour, set `penalty=None`.\n",
      "  warnings.warn(\n",
      "/Users/xiangziying/opt/anaconda3/envs/JolinPython/lib/python3.9/site-packages/sklearn/linear_model/_logistic.py:1181: UserWarning: Setting penalty=None will ignore the C and l1_ratio parameters\n",
      "  warnings.warn(\n",
      "/Users/xiangziying/opt/anaconda3/envs/JolinPython/lib/python3.9/site-packages/sklearn/utils/validation.py:1141: DataConversionWarning: A column-vector y was passed when a 1d array was expected. Please change the shape of y to (n_samples, ), for example using ravel().\n",
      "  y = column_or_1d(y, warn=True)\n",
      "/Users/xiangziying/opt/anaconda3/envs/JolinPython/lib/python3.9/site-packages/sklearn/linear_model/_sag.py:350: ConvergenceWarning: The max_iter was reached which means the coef_ did not converge\n",
      "  warnings.warn(\n",
      "/Users/xiangziying/opt/anaconda3/envs/JolinPython/lib/python3.9/site-packages/sklearn/linear_model/_logistic.py:1173: FutureWarning: `penalty='none'`has been deprecated in 1.2 and will be removed in 1.4. To keep the past behaviour, set `penalty=None`.\n",
      "  warnings.warn(\n",
      "/Users/xiangziying/opt/anaconda3/envs/JolinPython/lib/python3.9/site-packages/sklearn/linear_model/_logistic.py:1181: UserWarning: Setting penalty=None will ignore the C and l1_ratio parameters\n",
      "  warnings.warn(\n",
      "/Users/xiangziying/opt/anaconda3/envs/JolinPython/lib/python3.9/site-packages/sklearn/utils/validation.py:1141: DataConversionWarning: A column-vector y was passed when a 1d array was expected. Please change the shape of y to (n_samples, ), for example using ravel().\n",
      "  y = column_or_1d(y, warn=True)\n",
      "/Users/xiangziying/opt/anaconda3/envs/JolinPython/lib/python3.9/site-packages/sklearn/linear_model/_sag.py:350: ConvergenceWarning: The max_iter was reached which means the coef_ did not converge\n",
      "  warnings.warn(\n",
      "/Users/xiangziying/opt/anaconda3/envs/JolinPython/lib/python3.9/site-packages/sklearn/utils/validation.py:1141: DataConversionWarning: A column-vector y was passed when a 1d array was expected. Please change the shape of y to (n_samples, ), for example using ravel().\n",
      "  y = column_or_1d(y, warn=True)\n",
      "/Users/xiangziying/opt/anaconda3/envs/JolinPython/lib/python3.9/site-packages/sklearn/utils/validation.py:1141: DataConversionWarning: A column-vector y was passed when a 1d array was expected. Please change the shape of y to (n_samples, ), for example using ravel().\n",
      "  y = column_or_1d(y, warn=True)\n",
      "/Users/xiangziying/opt/anaconda3/envs/JolinPython/lib/python3.9/site-packages/sklearn/utils/validation.py:1141: DataConversionWarning: A column-vector y was passed when a 1d array was expected. Please change the shape of y to (n_samples, ), for example using ravel().\n",
      "  y = column_or_1d(y, warn=True)\n",
      "/Users/xiangziying/opt/anaconda3/envs/JolinPython/lib/python3.9/site-packages/sklearn/utils/validation.py:1141: DataConversionWarning: A column-vector y was passed when a 1d array was expected. Please change the shape of y to (n_samples, ), for example using ravel().\n",
      "  y = column_or_1d(y, warn=True)\n",
      "/Users/xiangziying/opt/anaconda3/envs/JolinPython/lib/python3.9/site-packages/sklearn/linear_model/_sag.py:350: ConvergenceWarning: The max_iter was reached which means the coef_ did not converge\n",
      "  warnings.warn(\n",
      "/Users/xiangziying/opt/anaconda3/envs/JolinPython/lib/python3.9/site-packages/sklearn/utils/validation.py:1141: DataConversionWarning: A column-vector y was passed when a 1d array was expected. Please change the shape of y to (n_samples, ), for example using ravel().\n",
      "  y = column_or_1d(y, warn=True)\n",
      "/Users/xiangziying/opt/anaconda3/envs/JolinPython/lib/python3.9/site-packages/sklearn/linear_model/_sag.py:350: ConvergenceWarning: The max_iter was reached which means the coef_ did not converge\n",
      "  warnings.warn(\n",
      "/Users/xiangziying/opt/anaconda3/envs/JolinPython/lib/python3.9/site-packages/sklearn/utils/validation.py:1141: DataConversionWarning: A column-vector y was passed when a 1d array was expected. Please change the shape of y to (n_samples, ), for example using ravel().\n",
      "  y = column_or_1d(y, warn=True)\n",
      "/Users/xiangziying/opt/anaconda3/envs/JolinPython/lib/python3.9/site-packages/sklearn/linear_model/_sag.py:350: ConvergenceWarning: The max_iter was reached which means the coef_ did not converge\n",
      "  warnings.warn(\n",
      "/Users/xiangziying/opt/anaconda3/envs/JolinPython/lib/python3.9/site-packages/sklearn/utils/validation.py:1141: DataConversionWarning: A column-vector y was passed when a 1d array was expected. Please change the shape of y to (n_samples, ), for example using ravel().\n",
      "  y = column_or_1d(y, warn=True)\n",
      "/Users/xiangziying/opt/anaconda3/envs/JolinPython/lib/python3.9/site-packages/sklearn/utils/validation.py:1141: DataConversionWarning: A column-vector y was passed when a 1d array was expected. Please change the shape of y to (n_samples, ), for example using ravel().\n",
      "  y = column_or_1d(y, warn=True)\n",
      "/Users/xiangziying/opt/anaconda3/envs/JolinPython/lib/python3.9/site-packages/sklearn/utils/validation.py:1141: DataConversionWarning: A column-vector y was passed when a 1d array was expected. Please change the shape of y to (n_samples, ), for example using ravel().\n",
      "  y = column_or_1d(y, warn=True)\n",
      "/Users/xiangziying/opt/anaconda3/envs/JolinPython/lib/python3.9/site-packages/sklearn/utils/validation.py:1141: DataConversionWarning: A column-vector y was passed when a 1d array was expected. Please change the shape of y to (n_samples, ), for example using ravel().\n",
      "  y = column_or_1d(y, warn=True)\n",
      "/Users/xiangziying/opt/anaconda3/envs/JolinPython/lib/python3.9/site-packages/sklearn/linear_model/_sag.py:350: ConvergenceWarning: The max_iter was reached which means the coef_ did not converge\n",
      "  warnings.warn(\n",
      "/Users/xiangziying/opt/anaconda3/envs/JolinPython/lib/python3.9/site-packages/sklearn/utils/validation.py:1141: DataConversionWarning: A column-vector y was passed when a 1d array was expected. Please change the shape of y to (n_samples, ), for example using ravel().\n",
      "  y = column_or_1d(y, warn=True)\n",
      "/Users/xiangziying/opt/anaconda3/envs/JolinPython/lib/python3.9/site-packages/sklearn/linear_model/_sag.py:350: ConvergenceWarning: The max_iter was reached which means the coef_ did not converge\n",
      "  warnings.warn(\n",
      "/Users/xiangziying/opt/anaconda3/envs/JolinPython/lib/python3.9/site-packages/sklearn/utils/validation.py:1141: DataConversionWarning: A column-vector y was passed when a 1d array was expected. Please change the shape of y to (n_samples, ), for example using ravel().\n",
      "  y = column_or_1d(y, warn=True)\n",
      "/Users/xiangziying/opt/anaconda3/envs/JolinPython/lib/python3.9/site-packages/sklearn/linear_model/_sag.py:350: ConvergenceWarning: The max_iter was reached which means the coef_ did not converge\n",
      "  warnings.warn(\n",
      "/Users/xiangziying/opt/anaconda3/envs/JolinPython/lib/python3.9/site-packages/sklearn/utils/validation.py:1141: DataConversionWarning: A column-vector y was passed when a 1d array was expected. Please change the shape of y to (n_samples, ), for example using ravel().\n",
      "  y = column_or_1d(y, warn=True)\n",
      "/Users/xiangziying/opt/anaconda3/envs/JolinPython/lib/python3.9/site-packages/sklearn/utils/validation.py:1141: DataConversionWarning: A column-vector y was passed when a 1d array was expected. Please change the shape of y to (n_samples, ), for example using ravel().\n",
      "  y = column_or_1d(y, warn=True)\n",
      "/Users/xiangziying/opt/anaconda3/envs/JolinPython/lib/python3.9/site-packages/sklearn/utils/validation.py:1141: DataConversionWarning: A column-vector y was passed when a 1d array was expected. Please change the shape of y to (n_samples, ), for example using ravel().\n",
      "  y = column_or_1d(y, warn=True)\n",
      "/Users/xiangziying/opt/anaconda3/envs/JolinPython/lib/python3.9/site-packages/sklearn/linear_model/_logistic.py:1173: FutureWarning: `penalty='none'`has been deprecated in 1.2 and will be removed in 1.4. To keep the past behaviour, set `penalty=None`.\n",
      "  warnings.warn(\n",
      "/Users/xiangziying/opt/anaconda3/envs/JolinPython/lib/python3.9/site-packages/sklearn/utils/validation.py:1141: DataConversionWarning: A column-vector y was passed when a 1d array was expected. Please change the shape of y to (n_samples, ), for example using ravel().\n",
      "  y = column_or_1d(y, warn=True)\n",
      "/Users/xiangziying/opt/anaconda3/envs/JolinPython/lib/python3.9/site-packages/sklearn/linear_model/_sag.py:350: ConvergenceWarning: The max_iter was reached which means the coef_ did not converge\n",
      "  warnings.warn(\n",
      "/Users/xiangziying/opt/anaconda3/envs/JolinPython/lib/python3.9/site-packages/sklearn/linear_model/_logistic.py:1173: FutureWarning: `penalty='none'`has been deprecated in 1.2 and will be removed in 1.4. To keep the past behaviour, set `penalty=None`.\n",
      "  warnings.warn(\n",
      "/Users/xiangziying/opt/anaconda3/envs/JolinPython/lib/python3.9/site-packages/sklearn/utils/validation.py:1141: DataConversionWarning: A column-vector y was passed when a 1d array was expected. Please change the shape of y to (n_samples, ), for example using ravel().\n",
      "  y = column_or_1d(y, warn=True)\n",
      "/Users/xiangziying/opt/anaconda3/envs/JolinPython/lib/python3.9/site-packages/sklearn/linear_model/_sag.py:350: ConvergenceWarning: The max_iter was reached which means the coef_ did not converge\n",
      "  warnings.warn(\n",
      "/Users/xiangziying/opt/anaconda3/envs/JolinPython/lib/python3.9/site-packages/sklearn/linear_model/_logistic.py:1173: FutureWarning: `penalty='none'`has been deprecated in 1.2 and will be removed in 1.4. To keep the past behaviour, set `penalty=None`.\n",
      "  warnings.warn(\n",
      "/Users/xiangziying/opt/anaconda3/envs/JolinPython/lib/python3.9/site-packages/sklearn/utils/validation.py:1141: DataConversionWarning: A column-vector y was passed when a 1d array was expected. Please change the shape of y to (n_samples, ), for example using ravel().\n",
      "  y = column_or_1d(y, warn=True)\n",
      "/Users/xiangziying/opt/anaconda3/envs/JolinPython/lib/python3.9/site-packages/sklearn/linear_model/_sag.py:350: ConvergenceWarning: The max_iter was reached which means the coef_ did not converge\n",
      "  warnings.warn(\n",
      "/Users/xiangziying/opt/anaconda3/envs/JolinPython/lib/python3.9/site-packages/sklearn/utils/validation.py:1141: DataConversionWarning: A column-vector y was passed when a 1d array was expected. Please change the shape of y to (n_samples, ), for example using ravel().\n",
      "  y = column_or_1d(y, warn=True)\n",
      "/Users/xiangziying/opt/anaconda3/envs/JolinPython/lib/python3.9/site-packages/sklearn/utils/validation.py:1141: DataConversionWarning: A column-vector y was passed when a 1d array was expected. Please change the shape of y to (n_samples, ), for example using ravel().\n",
      "  y = column_or_1d(y, warn=True)\n",
      "/Users/xiangziying/opt/anaconda3/envs/JolinPython/lib/python3.9/site-packages/sklearn/utils/validation.py:1141: DataConversionWarning: A column-vector y was passed when a 1d array was expected. Please change the shape of y to (n_samples, ), for example using ravel().\n",
      "  y = column_or_1d(y, warn=True)\n",
      "/Users/xiangziying/opt/anaconda3/envs/JolinPython/lib/python3.9/site-packages/sklearn/utils/validation.py:1141: DataConversionWarning: A column-vector y was passed when a 1d array was expected. Please change the shape of y to (n_samples, ), for example using ravel().\n",
      "  y = column_or_1d(y, warn=True)\n",
      "/Users/xiangziying/opt/anaconda3/envs/JolinPython/lib/python3.9/site-packages/sklearn/linear_model/_sag.py:350: ConvergenceWarning: The max_iter was reached which means the coef_ did not converge\n",
      "  warnings.warn(\n",
      "/Users/xiangziying/opt/anaconda3/envs/JolinPython/lib/python3.9/site-packages/sklearn/utils/validation.py:1141: DataConversionWarning: A column-vector y was passed when a 1d array was expected. Please change the shape of y to (n_samples, ), for example using ravel().\n",
      "  y = column_or_1d(y, warn=True)\n",
      "/Users/xiangziying/opt/anaconda3/envs/JolinPython/lib/python3.9/site-packages/sklearn/linear_model/_sag.py:350: ConvergenceWarning: The max_iter was reached which means the coef_ did not converge\n",
      "  warnings.warn(\n",
      "/Users/xiangziying/opt/anaconda3/envs/JolinPython/lib/python3.9/site-packages/sklearn/utils/validation.py:1141: DataConversionWarning: A column-vector y was passed when a 1d array was expected. Please change the shape of y to (n_samples, ), for example using ravel().\n",
      "  y = column_or_1d(y, warn=True)\n",
      "/Users/xiangziying/opt/anaconda3/envs/JolinPython/lib/python3.9/site-packages/sklearn/linear_model/_sag.py:350: ConvergenceWarning: The max_iter was reached which means the coef_ did not converge\n",
      "  warnings.warn(\n",
      "/Users/xiangziying/opt/anaconda3/envs/JolinPython/lib/python3.9/site-packages/sklearn/utils/validation.py:1141: DataConversionWarning: A column-vector y was passed when a 1d array was expected. Please change the shape of y to (n_samples, ), for example using ravel().\n",
      "  y = column_or_1d(y, warn=True)\n",
      "/Users/xiangziying/opt/anaconda3/envs/JolinPython/lib/python3.9/site-packages/sklearn/utils/validation.py:1141: DataConversionWarning: A column-vector y was passed when a 1d array was expected. Please change the shape of y to (n_samples, ), for example using ravel().\n",
      "  y = column_or_1d(y, warn=True)\n",
      "/Users/xiangziying/opt/anaconda3/envs/JolinPython/lib/python3.9/site-packages/sklearn/utils/validation.py:1141: DataConversionWarning: A column-vector y was passed when a 1d array was expected. Please change the shape of y to (n_samples, ), for example using ravel().\n",
      "  y = column_or_1d(y, warn=True)\n",
      "/Users/xiangziying/opt/anaconda3/envs/JolinPython/lib/python3.9/site-packages/sklearn/utils/validation.py:1141: DataConversionWarning: A column-vector y was passed when a 1d array was expected. Please change the shape of y to (n_samples, ), for example using ravel().\n",
      "  y = column_or_1d(y, warn=True)\n",
      "/Users/xiangziying/opt/anaconda3/envs/JolinPython/lib/python3.9/site-packages/sklearn/linear_model/_sag.py:350: ConvergenceWarning: The max_iter was reached which means the coef_ did not converge\n",
      "  warnings.warn(\n",
      "/Users/xiangziying/opt/anaconda3/envs/JolinPython/lib/python3.9/site-packages/sklearn/utils/validation.py:1141: DataConversionWarning: A column-vector y was passed when a 1d array was expected. Please change the shape of y to (n_samples, ), for example using ravel().\n",
      "  y = column_or_1d(y, warn=True)\n",
      "/Users/xiangziying/opt/anaconda3/envs/JolinPython/lib/python3.9/site-packages/sklearn/linear_model/_sag.py:350: ConvergenceWarning: The max_iter was reached which means the coef_ did not converge\n",
      "  warnings.warn(\n",
      "/Users/xiangziying/opt/anaconda3/envs/JolinPython/lib/python3.9/site-packages/sklearn/utils/validation.py:1141: DataConversionWarning: A column-vector y was passed when a 1d array was expected. Please change the shape of y to (n_samples, ), for example using ravel().\n",
      "  y = column_or_1d(y, warn=True)\n",
      "/Users/xiangziying/opt/anaconda3/envs/JolinPython/lib/python3.9/site-packages/sklearn/linear_model/_sag.py:350: ConvergenceWarning: The max_iter was reached which means the coef_ did not converge\n",
      "  warnings.warn(\n",
      "/Users/xiangziying/opt/anaconda3/envs/JolinPython/lib/python3.9/site-packages/sklearn/utils/validation.py:1141: DataConversionWarning: A column-vector y was passed when a 1d array was expected. Please change the shape of y to (n_samples, ), for example using ravel().\n",
      "  y = column_or_1d(y, warn=True)\n",
      "/Users/xiangziying/opt/anaconda3/envs/JolinPython/lib/python3.9/site-packages/sklearn/utils/validation.py:1141: DataConversionWarning: A column-vector y was passed when a 1d array was expected. Please change the shape of y to (n_samples, ), for example using ravel().\n",
      "  y = column_or_1d(y, warn=True)\n",
      "/Users/xiangziying/opt/anaconda3/envs/JolinPython/lib/python3.9/site-packages/sklearn/utils/validation.py:1141: DataConversionWarning: A column-vector y was passed when a 1d array was expected. Please change the shape of y to (n_samples, ), for example using ravel().\n",
      "  y = column_or_1d(y, warn=True)\n",
      "/Users/xiangziying/opt/anaconda3/envs/JolinPython/lib/python3.9/site-packages/sklearn/linear_model/_logistic.py:1173: FutureWarning: `penalty='none'`has been deprecated in 1.2 and will be removed in 1.4. To keep the past behaviour, set `penalty=None`.\n",
      "  warnings.warn(\n",
      "/Users/xiangziying/opt/anaconda3/envs/JolinPython/lib/python3.9/site-packages/sklearn/linear_model/_logistic.py:1181: UserWarning: Setting penalty=None will ignore the C and l1_ratio parameters\n",
      "  warnings.warn(\n",
      "/Users/xiangziying/opt/anaconda3/envs/JolinPython/lib/python3.9/site-packages/sklearn/utils/validation.py:1141: DataConversionWarning: A column-vector y was passed when a 1d array was expected. Please change the shape of y to (n_samples, ), for example using ravel().\n",
      "  y = column_or_1d(y, warn=True)\n",
      "/Users/xiangziying/opt/anaconda3/envs/JolinPython/lib/python3.9/site-packages/sklearn/linear_model/_sag.py:350: ConvergenceWarning: The max_iter was reached which means the coef_ did not converge\n",
      "  warnings.warn(\n",
      "/Users/xiangziying/opt/anaconda3/envs/JolinPython/lib/python3.9/site-packages/sklearn/linear_model/_logistic.py:1173: FutureWarning: `penalty='none'`has been deprecated in 1.2 and will be removed in 1.4. To keep the past behaviour, set `penalty=None`.\n",
      "  warnings.warn(\n",
      "/Users/xiangziying/opt/anaconda3/envs/JolinPython/lib/python3.9/site-packages/sklearn/linear_model/_logistic.py:1181: UserWarning: Setting penalty=None will ignore the C and l1_ratio parameters\n",
      "  warnings.warn(\n",
      "/Users/xiangziying/opt/anaconda3/envs/JolinPython/lib/python3.9/site-packages/sklearn/utils/validation.py:1141: DataConversionWarning: A column-vector y was passed when a 1d array was expected. Please change the shape of y to (n_samples, ), for example using ravel().\n",
      "  y = column_or_1d(y, warn=True)\n",
      "/Users/xiangziying/opt/anaconda3/envs/JolinPython/lib/python3.9/site-packages/sklearn/linear_model/_sag.py:350: ConvergenceWarning: The max_iter was reached which means the coef_ did not converge\n",
      "  warnings.warn(\n",
      "/Users/xiangziying/opt/anaconda3/envs/JolinPython/lib/python3.9/site-packages/sklearn/linear_model/_logistic.py:1173: FutureWarning: `penalty='none'`has been deprecated in 1.2 and will be removed in 1.4. To keep the past behaviour, set `penalty=None`.\n",
      "  warnings.warn(\n",
      "/Users/xiangziying/opt/anaconda3/envs/JolinPython/lib/python3.9/site-packages/sklearn/linear_model/_logistic.py:1181: UserWarning: Setting penalty=None will ignore the C and l1_ratio parameters\n",
      "  warnings.warn(\n",
      "/Users/xiangziying/opt/anaconda3/envs/JolinPython/lib/python3.9/site-packages/sklearn/utils/validation.py:1141: DataConversionWarning: A column-vector y was passed when a 1d array was expected. Please change the shape of y to (n_samples, ), for example using ravel().\n",
      "  y = column_or_1d(y, warn=True)\n",
      "/Users/xiangziying/opt/anaconda3/envs/JolinPython/lib/python3.9/site-packages/sklearn/linear_model/_sag.py:350: ConvergenceWarning: The max_iter was reached which means the coef_ did not converge\n",
      "  warnings.warn(\n",
      "/Users/xiangziying/opt/anaconda3/envs/JolinPython/lib/python3.9/site-packages/sklearn/model_selection/_validation.py:378: FitFailedWarning: \n",
      "36 fits failed out of a total of 96.\n",
      "The score on these train-test partitions for these parameters will be set to nan.\n",
      "If these failures are not expected, you can try to debug them by setting error_score='raise'.\n",
      "\n",
      "Below are more details about the failures:\n",
      "--------------------------------------------------------------------------------\n",
      "12 fits failed with the following error:\n",
      "Traceback (most recent call last):\n",
      "  File \"/Users/xiangziying/opt/anaconda3/envs/JolinPython/lib/python3.9/site-packages/sklearn/model_selection/_validation.py\", line 686, in _fit_and_score\n",
      "    estimator.fit(X_train, y_train, **fit_params)\n",
      "  File \"/Users/xiangziying/opt/anaconda3/envs/JolinPython/lib/python3.9/site-packages/sklearn/linear_model/_logistic.py\", line 1162, in fit\n",
      "    solver = _check_solver(self.solver, self.penalty, self.dual)\n",
      "  File \"/Users/xiangziying/opt/anaconda3/envs/JolinPython/lib/python3.9/site-packages/sklearn/linear_model/_logistic.py\", line 64, in _check_solver\n",
      "    raise ValueError(\n",
      "ValueError: Only 'saga' solver supports elasticnet penalty, got solver=liblinear.\n",
      "\n",
      "--------------------------------------------------------------------------------\n",
      "12 fits failed with the following error:\n",
      "Traceback (most recent call last):\n",
      "  File \"/Users/xiangziying/opt/anaconda3/envs/JolinPython/lib/python3.9/site-packages/sklearn/model_selection/_validation.py\", line 686, in _fit_and_score\n",
      "    estimator.fit(X_train, y_train, **fit_params)\n",
      "  File \"/Users/xiangziying/opt/anaconda3/envs/JolinPython/lib/python3.9/site-packages/sklearn/linear_model/_logistic.py\", line 1291, in fit\n",
      "    fold_coefs_ = Parallel(n_jobs=self.n_jobs, verbose=self.verbose, prefer=prefer)(\n",
      "  File \"/Users/xiangziying/opt/anaconda3/envs/JolinPython/lib/python3.9/site-packages/joblib/parallel.py\", line 1048, in __call__\n",
      "    if self.dispatch_one_batch(iterator):\n",
      "  File \"/Users/xiangziying/opt/anaconda3/envs/JolinPython/lib/python3.9/site-packages/joblib/parallel.py\", line 864, in dispatch_one_batch\n",
      "    self._dispatch(tasks)\n",
      "  File \"/Users/xiangziying/opt/anaconda3/envs/JolinPython/lib/python3.9/site-packages/joblib/parallel.py\", line 782, in _dispatch\n",
      "    job = self._backend.apply_async(batch, callback=cb)\n",
      "  File \"/Users/xiangziying/opt/anaconda3/envs/JolinPython/lib/python3.9/site-packages/joblib/_parallel_backends.py\", line 208, in apply_async\n",
      "    result = ImmediateResult(func)\n",
      "  File \"/Users/xiangziying/opt/anaconda3/envs/JolinPython/lib/python3.9/site-packages/joblib/_parallel_backends.py\", line 572, in __init__\n",
      "    self.results = batch()\n",
      "  File \"/Users/xiangziying/opt/anaconda3/envs/JolinPython/lib/python3.9/site-packages/joblib/parallel.py\", line 263, in __call__\n",
      "    return [func(*args, **kwargs)\n",
      "  File \"/Users/xiangziying/opt/anaconda3/envs/JolinPython/lib/python3.9/site-packages/joblib/parallel.py\", line 263, in <listcomp>\n",
      "    return [func(*args, **kwargs)\n",
      "  File \"/Users/xiangziying/opt/anaconda3/envs/JolinPython/lib/python3.9/site-packages/sklearn/utils/fixes.py\", line 117, in __call__\n",
      "    return self.function(*args, **kwargs)\n",
      "  File \"/Users/xiangziying/opt/anaconda3/envs/JolinPython/lib/python3.9/site-packages/sklearn/linear_model/_logistic.py\", line 521, in _logistic_regression_path\n",
      "    alpha = (1.0 / C) * (1 - l1_ratio)\n",
      "TypeError: unsupported operand type(s) for -: 'int' and 'NoneType'\n",
      "\n",
      "--------------------------------------------------------------------------------\n",
      "12 fits failed with the following error:\n",
      "Traceback (most recent call last):\n",
      "  File \"/Users/xiangziying/opt/anaconda3/envs/JolinPython/lib/python3.9/site-packages/sklearn/model_selection/_validation.py\", line 686, in _fit_and_score\n",
      "    estimator.fit(X_train, y_train, **fit_params)\n",
      "  File \"/Users/xiangziying/opt/anaconda3/envs/JolinPython/lib/python3.9/site-packages/sklearn/linear_model/_logistic.py\", line 1162, in fit\n",
      "    solver = _check_solver(self.solver, self.penalty, self.dual)\n",
      "  File \"/Users/xiangziying/opt/anaconda3/envs/JolinPython/lib/python3.9/site-packages/sklearn/linear_model/_logistic.py\", line 71, in _check_solver\n",
      "    raise ValueError(\"penalty='none' is not supported for the liblinear solver\")\n",
      "ValueError: penalty='none' is not supported for the liblinear solver\n",
      "\n",
      "  warnings.warn(some_fits_failed_message, FitFailedWarning)\n",
      "/Users/xiangziying/opt/anaconda3/envs/JolinPython/lib/python3.9/site-packages/sklearn/model_selection/_search.py:953: UserWarning: One or more of the test scores are non-finite: [0.90686462 0.6748394  0.78309888 0.67480053        nan        nan\n",
      "        nan 0.67487827 0.91444456 0.67487827 0.78309888 0.67487827\n",
      "        nan        nan        nan 0.6748394  0.91487216 0.6748394\n",
      " 0.78309888 0.6748394         nan        nan        nan 0.67487827\n",
      " 0.91483329 0.6748394  0.78309888 0.6748394         nan        nan\n",
      "        nan 0.6748394 ]\n",
      "  warnings.warn(\n",
      "/Users/xiangziying/opt/anaconda3/envs/JolinPython/lib/python3.9/site-packages/sklearn/utils/validation.py:1141: DataConversionWarning: A column-vector y was passed when a 1d array was expected. Please change the shape of y to (n_samples, ), for example using ravel().\n",
      "  y = column_or_1d(y, warn=True)\n"
     ]
    },
    {
     "data": {
      "text/html": [
       "<style>#sk-container-id-2 {color: black;background-color: white;}#sk-container-id-2 pre{padding: 0;}#sk-container-id-2 div.sk-toggleable {background-color: white;}#sk-container-id-2 label.sk-toggleable__label {cursor: pointer;display: block;width: 100%;margin-bottom: 0;padding: 0.3em;box-sizing: border-box;text-align: center;}#sk-container-id-2 label.sk-toggleable__label-arrow:before {content: \"▸\";float: left;margin-right: 0.25em;color: #696969;}#sk-container-id-2 label.sk-toggleable__label-arrow:hover:before {color: black;}#sk-container-id-2 div.sk-estimator:hover label.sk-toggleable__label-arrow:before {color: black;}#sk-container-id-2 div.sk-toggleable__content {max-height: 0;max-width: 0;overflow: hidden;text-align: left;background-color: #f0f8ff;}#sk-container-id-2 div.sk-toggleable__content pre {margin: 0.2em;color: black;border-radius: 0.25em;background-color: #f0f8ff;}#sk-container-id-2 input.sk-toggleable__control:checked~div.sk-toggleable__content {max-height: 200px;max-width: 100%;overflow: auto;}#sk-container-id-2 input.sk-toggleable__control:checked~label.sk-toggleable__label-arrow:before {content: \"▾\";}#sk-container-id-2 div.sk-estimator input.sk-toggleable__control:checked~label.sk-toggleable__label {background-color: #d4ebff;}#sk-container-id-2 div.sk-label input.sk-toggleable__control:checked~label.sk-toggleable__label {background-color: #d4ebff;}#sk-container-id-2 input.sk-hidden--visually {border: 0;clip: rect(1px 1px 1px 1px);clip: rect(1px, 1px, 1px, 1px);height: 1px;margin: -1px;overflow: hidden;padding: 0;position: absolute;width: 1px;}#sk-container-id-2 div.sk-estimator {font-family: monospace;background-color: #f0f8ff;border: 1px dotted black;border-radius: 0.25em;box-sizing: border-box;margin-bottom: 0.5em;}#sk-container-id-2 div.sk-estimator:hover {background-color: #d4ebff;}#sk-container-id-2 div.sk-parallel-item::after {content: \"\";width: 100%;border-bottom: 1px solid gray;flex-grow: 1;}#sk-container-id-2 div.sk-label:hover label.sk-toggleable__label {background-color: #d4ebff;}#sk-container-id-2 div.sk-serial::before {content: \"\";position: absolute;border-left: 1px solid gray;box-sizing: border-box;top: 0;bottom: 0;left: 50%;z-index: 0;}#sk-container-id-2 div.sk-serial {display: flex;flex-direction: column;align-items: center;background-color: white;padding-right: 0.2em;padding-left: 0.2em;position: relative;}#sk-container-id-2 div.sk-item {position: relative;z-index: 1;}#sk-container-id-2 div.sk-parallel {display: flex;align-items: stretch;justify-content: center;background-color: white;position: relative;}#sk-container-id-2 div.sk-item::before, #sk-container-id-2 div.sk-parallel-item::before {content: \"\";position: absolute;border-left: 1px solid gray;box-sizing: border-box;top: 0;bottom: 0;left: 50%;z-index: -1;}#sk-container-id-2 div.sk-parallel-item {display: flex;flex-direction: column;z-index: 1;position: relative;background-color: white;}#sk-container-id-2 div.sk-parallel-item:first-child::after {align-self: flex-end;width: 50%;}#sk-container-id-2 div.sk-parallel-item:last-child::after {align-self: flex-start;width: 50%;}#sk-container-id-2 div.sk-parallel-item:only-child::after {width: 0;}#sk-container-id-2 div.sk-dashed-wrapped {border: 1px dashed gray;margin: 0 0.4em 0.5em 0.4em;box-sizing: border-box;padding-bottom: 0.4em;background-color: white;}#sk-container-id-2 div.sk-label label {font-family: monospace;font-weight: bold;display: inline-block;line-height: 1.2em;}#sk-container-id-2 div.sk-label-container {text-align: center;}#sk-container-id-2 div.sk-container {/* jupyter's `normalize.less` sets `[hidden] { display: none; }` but bootstrap.min.css set `[hidden] { display: none !important; }` so we also need the `!important` here to be able to override the default hidden behavior on the sphinx rendered scikit-learn.org. See: https://github.com/scikit-learn/scikit-learn/issues/21755 */display: inline-block !important;position: relative;}#sk-container-id-2 div.sk-text-repr-fallback {display: none;}</style><div id=\"sk-container-id-2\" class=\"sk-top-container\"><div class=\"sk-text-repr-fallback\"><pre>GridSearchCV(cv=3, estimator=LogisticRegression(),\n",
       "             param_grid={&#x27;C&#x27;: [0.01, 0.1, 1, 10],\n",
       "                         &#x27;penalty&#x27;: [&#x27;l1&#x27;, &#x27;l2&#x27;, &#x27;elasticnet&#x27;, &#x27;none&#x27;],\n",
       "                         &#x27;solver&#x27;: [&#x27;liblinear&#x27;, &#x27;saga&#x27;]})</pre><b>In a Jupyter environment, please rerun this cell to show the HTML representation or trust the notebook. <br />On GitHub, the HTML representation is unable to render, please try loading this page with nbviewer.org.</b></div><div class=\"sk-container\" hidden><div class=\"sk-item sk-dashed-wrapped\"><div class=\"sk-label-container\"><div class=\"sk-label sk-toggleable\"><input class=\"sk-toggleable__control sk-hidden--visually\" id=\"sk-estimator-id-2\" type=\"checkbox\" ><label for=\"sk-estimator-id-2\" class=\"sk-toggleable__label sk-toggleable__label-arrow\">GridSearchCV</label><div class=\"sk-toggleable__content\"><pre>GridSearchCV(cv=3, estimator=LogisticRegression(),\n",
       "             param_grid={&#x27;C&#x27;: [0.01, 0.1, 1, 10],\n",
       "                         &#x27;penalty&#x27;: [&#x27;l1&#x27;, &#x27;l2&#x27;, &#x27;elasticnet&#x27;, &#x27;none&#x27;],\n",
       "                         &#x27;solver&#x27;: [&#x27;liblinear&#x27;, &#x27;saga&#x27;]})</pre></div></div></div><div class=\"sk-parallel\"><div class=\"sk-parallel-item\"><div class=\"sk-item\"><div class=\"sk-label-container\"><div class=\"sk-label sk-toggleable\"><input class=\"sk-toggleable__control sk-hidden--visually\" id=\"sk-estimator-id-3\" type=\"checkbox\" ><label for=\"sk-estimator-id-3\" class=\"sk-toggleable__label sk-toggleable__label-arrow\">estimator: LogisticRegression</label><div class=\"sk-toggleable__content\"><pre>LogisticRegression()</pre></div></div></div><div class=\"sk-serial\"><div class=\"sk-item\"><div class=\"sk-estimator sk-toggleable\"><input class=\"sk-toggleable__control sk-hidden--visually\" id=\"sk-estimator-id-4\" type=\"checkbox\" ><label for=\"sk-estimator-id-4\" class=\"sk-toggleable__label sk-toggleable__label-arrow\">LogisticRegression</label><div class=\"sk-toggleable__content\"><pre>LogisticRegression()</pre></div></div></div></div></div></div></div></div></div></div>"
      ],
      "text/plain": [
       "GridSearchCV(cv=3, estimator=LogisticRegression(),\n",
       "             param_grid={'C': [0.01, 0.1, 1, 10],\n",
       "                         'penalty': ['l1', 'l2', 'elasticnet', 'none'],\n",
       "                         'solver': ['liblinear', 'saga']})"
      ]
     },
     "execution_count": 84,
     "metadata": {},
     "output_type": "execute_result"
    }
   ],
   "source": [
    "# Create the LogisticRegression\n",
    "lr = LogisticRegression()\n",
    "\n",
    "# Use GridSearchCV to search for the best hyperparameters\n",
    "grid_search = GridSearchCV(lr, param_grid=param_grid, cv=3)\n",
    "\n",
    "# Fit the GridSearchCV object to the data\n",
    "grid_search.fit(x_train, y_train)"
   ]
  },
  {
   "cell_type": "code",
   "execution_count": 85,
   "id": "fae38ffe-8696-4f26-b18d-cfb390af1543",
   "metadata": {},
   "outputs": [
    {
     "name": "stdout",
     "output_type": "stream",
     "text": [
      "Best hyperparameters:  {'C': 1, 'penalty': 'l1', 'solver': 'liblinear'}\n",
      "Best score:  0.9148721588848758\n"
     ]
    }
   ],
   "source": [
    "# Print the best hyperparameters and corresponding score\n",
    "LogAUC_tune = grid_search.best_score_\n",
    "print(\"Best hyperparameters: \", grid_search.best_params_)\n",
    "print(\"Best score: \", grid_search.best_score_)"
   ]
  },
  {
   "cell_type": "code",
   "execution_count": 86,
   "id": "c3cc2904-a205-46e3-898e-953bb5a4baa4",
   "metadata": {},
   "outputs": [
    {
     "name": "stderr",
     "output_type": "stream",
     "text": [
      "/Users/xiangziying/opt/anaconda3/envs/JolinPython/lib/python3.9/site-packages/sklearn/utils/validation.py:1141: DataConversionWarning: A column-vector y was passed when a 1d array was expected. Please change the shape of y to (n_samples, ), for example using ravel().\n",
      "  y = column_or_1d(y, warn=True)\n"
     ]
    },
    {
     "data": {
      "text/html": [
       "<style>#sk-container-id-3 {color: black;background-color: white;}#sk-container-id-3 pre{padding: 0;}#sk-container-id-3 div.sk-toggleable {background-color: white;}#sk-container-id-3 label.sk-toggleable__label {cursor: pointer;display: block;width: 100%;margin-bottom: 0;padding: 0.3em;box-sizing: border-box;text-align: center;}#sk-container-id-3 label.sk-toggleable__label-arrow:before {content: \"▸\";float: left;margin-right: 0.25em;color: #696969;}#sk-container-id-3 label.sk-toggleable__label-arrow:hover:before {color: black;}#sk-container-id-3 div.sk-estimator:hover label.sk-toggleable__label-arrow:before {color: black;}#sk-container-id-3 div.sk-toggleable__content {max-height: 0;max-width: 0;overflow: hidden;text-align: left;background-color: #f0f8ff;}#sk-container-id-3 div.sk-toggleable__content pre {margin: 0.2em;color: black;border-radius: 0.25em;background-color: #f0f8ff;}#sk-container-id-3 input.sk-toggleable__control:checked~div.sk-toggleable__content {max-height: 200px;max-width: 100%;overflow: auto;}#sk-container-id-3 input.sk-toggleable__control:checked~label.sk-toggleable__label-arrow:before {content: \"▾\";}#sk-container-id-3 div.sk-estimator input.sk-toggleable__control:checked~label.sk-toggleable__label {background-color: #d4ebff;}#sk-container-id-3 div.sk-label input.sk-toggleable__control:checked~label.sk-toggleable__label {background-color: #d4ebff;}#sk-container-id-3 input.sk-hidden--visually {border: 0;clip: rect(1px 1px 1px 1px);clip: rect(1px, 1px, 1px, 1px);height: 1px;margin: -1px;overflow: hidden;padding: 0;position: absolute;width: 1px;}#sk-container-id-3 div.sk-estimator {font-family: monospace;background-color: #f0f8ff;border: 1px dotted black;border-radius: 0.25em;box-sizing: border-box;margin-bottom: 0.5em;}#sk-container-id-3 div.sk-estimator:hover {background-color: #d4ebff;}#sk-container-id-3 div.sk-parallel-item::after {content: \"\";width: 100%;border-bottom: 1px solid gray;flex-grow: 1;}#sk-container-id-3 div.sk-label:hover label.sk-toggleable__label {background-color: #d4ebff;}#sk-container-id-3 div.sk-serial::before {content: \"\";position: absolute;border-left: 1px solid gray;box-sizing: border-box;top: 0;bottom: 0;left: 50%;z-index: 0;}#sk-container-id-3 div.sk-serial {display: flex;flex-direction: column;align-items: center;background-color: white;padding-right: 0.2em;padding-left: 0.2em;position: relative;}#sk-container-id-3 div.sk-item {position: relative;z-index: 1;}#sk-container-id-3 div.sk-parallel {display: flex;align-items: stretch;justify-content: center;background-color: white;position: relative;}#sk-container-id-3 div.sk-item::before, #sk-container-id-3 div.sk-parallel-item::before {content: \"\";position: absolute;border-left: 1px solid gray;box-sizing: border-box;top: 0;bottom: 0;left: 50%;z-index: -1;}#sk-container-id-3 div.sk-parallel-item {display: flex;flex-direction: column;z-index: 1;position: relative;background-color: white;}#sk-container-id-3 div.sk-parallel-item:first-child::after {align-self: flex-end;width: 50%;}#sk-container-id-3 div.sk-parallel-item:last-child::after {align-self: flex-start;width: 50%;}#sk-container-id-3 div.sk-parallel-item:only-child::after {width: 0;}#sk-container-id-3 div.sk-dashed-wrapped {border: 1px dashed gray;margin: 0 0.4em 0.5em 0.4em;box-sizing: border-box;padding-bottom: 0.4em;background-color: white;}#sk-container-id-3 div.sk-label label {font-family: monospace;font-weight: bold;display: inline-block;line-height: 1.2em;}#sk-container-id-3 div.sk-label-container {text-align: center;}#sk-container-id-3 div.sk-container {/* jupyter's `normalize.less` sets `[hidden] { display: none; }` but bootstrap.min.css set `[hidden] { display: none !important; }` so we also need the `!important` here to be able to override the default hidden behavior on the sphinx rendered scikit-learn.org. See: https://github.com/scikit-learn/scikit-learn/issues/21755 */display: inline-block !important;position: relative;}#sk-container-id-3 div.sk-text-repr-fallback {display: none;}</style><div id=\"sk-container-id-3\" class=\"sk-top-container\"><div class=\"sk-text-repr-fallback\"><pre>LogisticRegression(C=1, penalty=&#x27;l1&#x27;, solver=&#x27;liblinear&#x27;)</pre><b>In a Jupyter environment, please rerun this cell to show the HTML representation or trust the notebook. <br />On GitHub, the HTML representation is unable to render, please try loading this page with nbviewer.org.</b></div><div class=\"sk-container\" hidden><div class=\"sk-item\"><div class=\"sk-estimator sk-toggleable\"><input class=\"sk-toggleable__control sk-hidden--visually\" id=\"sk-estimator-id-5\" type=\"checkbox\" checked><label for=\"sk-estimator-id-5\" class=\"sk-toggleable__label sk-toggleable__label-arrow\">LogisticRegression</label><div class=\"sk-toggleable__content\"><pre>LogisticRegression(C=1, penalty=&#x27;l1&#x27;, solver=&#x27;liblinear&#x27;)</pre></div></div></div></div></div>"
      ],
      "text/plain": [
       "LogisticRegression(C=1, penalty='l1', solver='liblinear')"
      ]
     },
     "execution_count": 86,
     "metadata": {},
     "output_type": "execute_result"
    }
   ],
   "source": [
    "logreg_best = LogisticRegression(**grid_search.best_params_)\n",
    "logreg_best.fit(x_train, y_train)"
   ]
  },
  {
   "cell_type": "code",
   "execution_count": 87,
   "id": "5b9be97f-093b-4917-8b11-43cddcb991fe",
   "metadata": {},
   "outputs": [],
   "source": [
    "predictions = logreg_best.predict(x_test)"
   ]
  },
  {
   "cell_type": "code",
   "execution_count": 88,
   "id": "229f7a0a-6548-4ce7-8908-b36c4bcbe03c",
   "metadata": {},
   "outputs": [
    {
     "name": "stdout",
     "output_type": "stream",
     "text": [
      "              precision    recall  f1-score   support\n",
      "\n",
      "           0       0.95      0.88      0.92      3249\n",
      "           1       0.89      0.96      0.92      3183\n",
      "\n",
      "    accuracy                           0.92      6432\n",
      "   macro avg       0.92      0.92      0.92      6432\n",
      "weighted avg       0.92      0.92      0.92      6432\n",
      "\n"
     ]
    }
   ],
   "source": [
    "print(classification_report(y_test,predictions))"
   ]
  },
  {
   "cell_type": "code",
   "execution_count": 89,
   "id": "ef7c9303-42ba-4fe3-8bf4-3fcd0ab94482",
   "metadata": {},
   "outputs": [
    {
     "name": "stdout",
     "output_type": "stream",
     "text": [
      "Accuracy of logistic regression classifier on test set: 0.92\n"
     ]
    }
   ],
   "source": [
    "print('Accuracy of logistic regression classifier on test set: {:.2f}'\n",
    "      .format(logreg_best.score(x_test, y_test)))"
   ]
  },
  {
   "cell_type": "markdown",
   "id": "8961345d-2280-48a8-8ac0-f3bc3072d7f7",
   "metadata": {},
   "source": [
    "Aftre the GridSearchCV method, the hyperparameters {'C': 0.1, 'penalty': 'l1', 'solver': 'liblinear'} correspond to the Lasso regularization method is choosen in our logistic regression model. And it improves our AUC score from 0.8 to 0.9"
   ]
  },
  {
   "cell_type": "markdown",
   "id": "fd57eba8-db3f-4a73-9db8-ce110642629d",
   "metadata": {
    "tags": []
   },
   "source": [
    "### GradientBoosting"
   ]
  },
  {
   "cell_type": "code",
   "execution_count": 91,
   "id": "89b7585b-411c-40ee-bdaa-bf8693522790",
   "metadata": {
    "tags": []
   },
   "outputs": [
    {
     "name": "stderr",
     "output_type": "stream",
     "text": [
      "/Users/xiangziying/opt/anaconda3/envs/JolinPython/lib/python3.9/site-packages/sklearn/ensemble/_gb.py:437: DataConversionWarning: A column-vector y was passed when a 1d array was expected. Please change the shape of y to (n_samples, ), for example using ravel().\n",
      "  y = column_or_1d(y, warn=True)\n"
     ]
    },
    {
     "data": {
      "text/html": [
       "<style>#sk-container-id-4 {color: black;background-color: white;}#sk-container-id-4 pre{padding: 0;}#sk-container-id-4 div.sk-toggleable {background-color: white;}#sk-container-id-4 label.sk-toggleable__label {cursor: pointer;display: block;width: 100%;margin-bottom: 0;padding: 0.3em;box-sizing: border-box;text-align: center;}#sk-container-id-4 label.sk-toggleable__label-arrow:before {content: \"▸\";float: left;margin-right: 0.25em;color: #696969;}#sk-container-id-4 label.sk-toggleable__label-arrow:hover:before {color: black;}#sk-container-id-4 div.sk-estimator:hover label.sk-toggleable__label-arrow:before {color: black;}#sk-container-id-4 div.sk-toggleable__content {max-height: 0;max-width: 0;overflow: hidden;text-align: left;background-color: #f0f8ff;}#sk-container-id-4 div.sk-toggleable__content pre {margin: 0.2em;color: black;border-radius: 0.25em;background-color: #f0f8ff;}#sk-container-id-4 input.sk-toggleable__control:checked~div.sk-toggleable__content {max-height: 200px;max-width: 100%;overflow: auto;}#sk-container-id-4 input.sk-toggleable__control:checked~label.sk-toggleable__label-arrow:before {content: \"▾\";}#sk-container-id-4 div.sk-estimator input.sk-toggleable__control:checked~label.sk-toggleable__label {background-color: #d4ebff;}#sk-container-id-4 div.sk-label input.sk-toggleable__control:checked~label.sk-toggleable__label {background-color: #d4ebff;}#sk-container-id-4 input.sk-hidden--visually {border: 0;clip: rect(1px 1px 1px 1px);clip: rect(1px, 1px, 1px, 1px);height: 1px;margin: -1px;overflow: hidden;padding: 0;position: absolute;width: 1px;}#sk-container-id-4 div.sk-estimator {font-family: monospace;background-color: #f0f8ff;border: 1px dotted black;border-radius: 0.25em;box-sizing: border-box;margin-bottom: 0.5em;}#sk-container-id-4 div.sk-estimator:hover {background-color: #d4ebff;}#sk-container-id-4 div.sk-parallel-item::after {content: \"\";width: 100%;border-bottom: 1px solid gray;flex-grow: 1;}#sk-container-id-4 div.sk-label:hover label.sk-toggleable__label {background-color: #d4ebff;}#sk-container-id-4 div.sk-serial::before {content: \"\";position: absolute;border-left: 1px solid gray;box-sizing: border-box;top: 0;bottom: 0;left: 50%;z-index: 0;}#sk-container-id-4 div.sk-serial {display: flex;flex-direction: column;align-items: center;background-color: white;padding-right: 0.2em;padding-left: 0.2em;position: relative;}#sk-container-id-4 div.sk-item {position: relative;z-index: 1;}#sk-container-id-4 div.sk-parallel {display: flex;align-items: stretch;justify-content: center;background-color: white;position: relative;}#sk-container-id-4 div.sk-item::before, #sk-container-id-4 div.sk-parallel-item::before {content: \"\";position: absolute;border-left: 1px solid gray;box-sizing: border-box;top: 0;bottom: 0;left: 50%;z-index: -1;}#sk-container-id-4 div.sk-parallel-item {display: flex;flex-direction: column;z-index: 1;position: relative;background-color: white;}#sk-container-id-4 div.sk-parallel-item:first-child::after {align-self: flex-end;width: 50%;}#sk-container-id-4 div.sk-parallel-item:last-child::after {align-self: flex-start;width: 50%;}#sk-container-id-4 div.sk-parallel-item:only-child::after {width: 0;}#sk-container-id-4 div.sk-dashed-wrapped {border: 1px dashed gray;margin: 0 0.4em 0.5em 0.4em;box-sizing: border-box;padding-bottom: 0.4em;background-color: white;}#sk-container-id-4 div.sk-label label {font-family: monospace;font-weight: bold;display: inline-block;line-height: 1.2em;}#sk-container-id-4 div.sk-label-container {text-align: center;}#sk-container-id-4 div.sk-container {/* jupyter's `normalize.less` sets `[hidden] { display: none; }` but bootstrap.min.css set `[hidden] { display: none !important; }` so we also need the `!important` here to be able to override the default hidden behavior on the sphinx rendered scikit-learn.org. See: https://github.com/scikit-learn/scikit-learn/issues/21755 */display: inline-block !important;position: relative;}#sk-container-id-4 div.sk-text-repr-fallback {display: none;}</style><div id=\"sk-container-id-4\" class=\"sk-top-container\"><div class=\"sk-text-repr-fallback\"><pre>GradientBoostingClassifier(random_state=6)</pre><b>In a Jupyter environment, please rerun this cell to show the HTML representation or trust the notebook. <br />On GitHub, the HTML representation is unable to render, please try loading this page with nbviewer.org.</b></div><div class=\"sk-container\" hidden><div class=\"sk-item\"><div class=\"sk-estimator sk-toggleable\"><input class=\"sk-toggleable__control sk-hidden--visually\" id=\"sk-estimator-id-6\" type=\"checkbox\" checked><label for=\"sk-estimator-id-6\" class=\"sk-toggleable__label sk-toggleable__label-arrow\">GradientBoostingClassifier</label><div class=\"sk-toggleable__content\"><pre>GradientBoostingClassifier(random_state=6)</pre></div></div></div></div></div>"
      ],
      "text/plain": [
       "GradientBoostingClassifier(random_state=6)"
      ]
     },
     "execution_count": 91,
     "metadata": {},
     "output_type": "execute_result"
    }
   ],
   "source": [
    "gdb = GradientBoostingClassifier(random_state=6)\n",
    "gdb.fit(x_train,y_train)"
   ]
  },
  {
   "cell_type": "code",
   "execution_count": 92,
   "id": "c0c24a3f-f32f-4a6b-9d61-132ff166742b",
   "metadata": {},
   "outputs": [],
   "source": [
    "predictions = gdb.predict(x_test)"
   ]
  },
  {
   "cell_type": "code",
   "execution_count": 93,
   "id": "c6b9d987-1e69-4b88-b1d7-6984abac688c",
   "metadata": {},
   "outputs": [
    {
     "name": "stdout",
     "output_type": "stream",
     "text": [
      "Accuracy of logistic regression classifier on test set: 0.95\n"
     ]
    }
   ],
   "source": [
    "gdbAUC = gdb.score(x_test, y_test)\n",
    "print('Accuracy of logistic regression classifier on test set: {:.2f}'\n",
    "      .format(gdb.score(x_test, y_test)))"
   ]
  },
  {
   "cell_type": "code",
   "execution_count": 94,
   "id": "d2ee18b9-4412-4ed7-b892-0d7940460dc1",
   "metadata": {},
   "outputs": [
    {
     "name": "stdout",
     "output_type": "stream",
     "text": [
      "              precision    recall  f1-score   support\n",
      "\n",
      "           0       0.99      0.91      0.95      3241\n",
      "           1       0.91      0.99      0.95      3193\n",
      "\n",
      "    accuracy                           0.95      6434\n",
      "   macro avg       0.95      0.95      0.95      6434\n",
      "weighted avg       0.95      0.95      0.95      6434\n",
      "\n"
     ]
    }
   ],
   "source": [
    "print(classification_report(y_test,predictions))"
   ]
  },
  {
   "cell_type": "markdown",
   "id": "7cfc87b3-f0e8-4bfe-8868-f77097e420db",
   "metadata": {},
   "source": [
    "### XGBoost"
   ]
  },
  {
   "cell_type": "code",
   "execution_count": 95,
   "id": "c886f7a4-7593-402a-a4c1-e4f6d53e8a94",
   "metadata": {},
   "outputs": [],
   "source": [
    "xgb = xgb.XGBClassifier(objective='binary:logistic')"
   ]
  },
  {
   "cell_type": "code",
   "execution_count": 96,
   "id": "fb656fc6-a0c3-4e34-af55-f95a78712dae",
   "metadata": {},
   "outputs": [],
   "source": [
    "xgb.fit(x_train, y_train)\n",
    "y_pred = xgb.predict(x_test)\n",
    "xgbAUC = accuracy_score(y_test, y_pred)"
   ]
  },
  {
   "cell_type": "code",
   "execution_count": 97,
   "id": "78a83b2a-d64d-479d-8973-2cb51cb6878e",
   "metadata": {},
   "outputs": [
    {
     "name": "stdout",
     "output_type": "stream",
     "text": [
      "Accuracy: 98.48%\n"
     ]
    }
   ],
   "source": [
    "print(\"Accuracy: %.2f%%\" % (xgbAUC * 100.0))"
   ]
  },
  {
   "cell_type": "code",
   "execution_count": 98,
   "id": "79898e85-a681-46d7-96dd-831f6cc76db3",
   "metadata": {},
   "outputs": [
    {
     "name": "stdout",
     "output_type": "stream",
     "text": [
      "              precision    recall  f1-score   support\n",
      "\n",
      "           0       1.00      0.97      0.98      3241\n",
      "           1       0.97      1.00      0.98      3193\n",
      "\n",
      "    accuracy                           0.98      6434\n",
      "   macro avg       0.98      0.98      0.98      6434\n",
      "weighted avg       0.99      0.98      0.98      6434\n",
      "\n"
     ]
    }
   ],
   "source": [
    "print(classification_report(y_test,y_pred))"
   ]
  },
  {
   "cell_type": "markdown",
   "id": "b2981bb3-f227-4d6a-b50f-3971493658c0",
   "metadata": {},
   "source": [
    "### XGBoost: Tunes hyperparameter"
   ]
  },
  {
   "cell_type": "code",
   "execution_count": 99,
   "id": "746620b1-9e09-4461-bcab-f56f40f86dca",
   "metadata": {},
   "outputs": [],
   "source": [
    "import xgboost as xgb\n",
    "from xgboost import XGBClassifier\n",
    "from sklearn.model_selection import GridSearchCV"
   ]
  },
  {
   "cell_type": "code",
   "execution_count": 100,
   "id": "8e4dd024-9d86-4a77-985a-b42c833e9a1e",
   "metadata": {},
   "outputs": [],
   "source": [
    "# Define the hyperparameters to tune\n",
    "parameters = {\n",
    "    'max_depth': range (2, 10, 1),\n",
    "    'n_estimators': range(60, 220, 40),\n",
    "    'learning_rate': [0.1, 0.01, 0.05]\n",
    "}"
   ]
  },
  {
   "cell_type": "code",
   "execution_count": 101,
   "id": "aca6d536-a131-45a9-9071-001e94b1deff",
   "metadata": {},
   "outputs": [],
   "source": [
    "# Initialize the XGB model\n",
    "xgb = xgb.XGBClassifier(subsample=0.9,objective='binary:logistic')"
   ]
  },
  {
   "cell_type": "code",
   "execution_count": 102,
   "id": "4743fe70-f03b-4bef-a772-fd3b00713cd0",
   "metadata": {},
   "outputs": [],
   "source": [
    "# Use GridSearchCV to search for the best hyperparameters\n",
    "grid_search= GridSearchCV(\n",
    "    estimator=xgb,\n",
    "    param_grid=parameters,\n",
    "    scoring = 'roc_auc',\n",
    "    n_jobs = 10,\n",
    "    cv = 3,\n",
    "    verbose=True\n",
    ")"
   ]
  },
  {
   "cell_type": "code",
   "execution_count": 103,
   "id": "8efada7e-04da-4c50-89bf-049d91470621",
   "metadata": {},
   "outputs": [
    {
     "name": "stdout",
     "output_type": "stream",
     "text": [
      "Fitting 3 folds for each of 96 candidates, totalling 288 fits\n",
      "Best parameters: {'learning_rate': 0.1, 'max_depth': 9, 'n_estimators': 180}\n"
     ]
    }
   ],
   "source": [
    "model2 = grid_search.fit(x_train, y_train)\n",
    "print(\"Best parameters:\", model2.best_params_)"
   ]
  },
  {
   "cell_type": "code",
   "execution_count": 104,
   "id": "accf6c9a-3aec-421c-ab15-af61ff2f997d",
   "metadata": {},
   "outputs": [
    {
     "name": "stdout",
     "output_type": "stream",
     "text": [
      "Best AUC Score: 0.9988184310941555\n",
      "Accuracy: 0.9872552067143301\n"
     ]
    }
   ],
   "source": [
    "predict1 = model2.predict(x_test)\n",
    "xgbAUC_tune = accuracy_score(y_test, predict1)\n",
    "print('Best AUC Score: {}'.format(model2.best_score_))\n",
    "print('Accuracy: {}'.format(accuracy_score(y_test, predict1)))"
   ]
  },
  {
   "cell_type": "markdown",
   "id": "610eb5ba-44ba-4499-a2f9-5158ef96e306",
   "metadata": {},
   "source": [
    "## Model Comparison and Model Selection"
   ]
  },
  {
   "cell_type": "code",
   "execution_count": 105,
   "id": "014161ba-38d2-4916-b26b-249cc7fee412",
   "metadata": {},
   "outputs": [
    {
     "data": {
      "image/png": "[encoded data removed]",
      "text/plain": [
       "<Figure size 800x500 with 1 Axes>"
      ]
     },
     "metadata": {},
     "output_type": "display_data"
    }
   ],
   "source": [
    "plt.figure(figsize=(8, 5))\n",
    "x = ['Logistic', 'Logistic Tune', 'GradientBoosting','XGBoost','XGBoost Tune']\n",
    "y = [LogAUC,LogAUC_tune,gdbAUC,xgbAUC,xgbAUC_tune ] \n",
    "sns.barplot(x = x, y = y)\n",
    "\n",
    "plt.title('Model Accuracy')\n",
    "plt.xlabel('Model')\n",
    "plt.ylabel('Accuary Score')\n",
    "plt.show()"
   ]
  },
  {
   "cell_type": "markdown",
   "id": "017a0faf-87fa-4d3c-94ac-57e5a743d060",
   "metadata": {},
   "source": [
    "**Conclusion:**\n",
    "* Even though after tuning hyperparameters, the Logistic Regression does not have the highest AUC score in thses five models, we will still choose logistic regression as our final model. Because when dealing with the over-sampled data, although there are overfitting problems in logistic regression, the risk of logistic regression model is relatively small compared with other models. And the regularization of Lasso logistic regression model can also control the overfitting problem effectively.\n",
    "* The oversampling technique can increase the number of samples of a few categories in the dataset.  So it can improve the recognition ability of the model to a few categories and overall accuracy. However, the model relies too much on these repeated samples after oversampling method, resulting in a very good performance in training data, while Gradient Boosting and XGBoost have a big problem with overfitting."
   ]
  }
 ],
 "metadata": {
  "kernelspec": {
   "display_name": "Python 3 (ipykernel)",
   "language": "python",
   "name": "python3"
  },
  "language_info": {
   "codemirror_mode": {
    "name": "ipython",
    "version": 3
   },
   "file_extension": ".py",
   "mimetype": "text/x-python",
   "name": "python",
   "nbconvert_exporter": "python",
   "pygments_lexer": "ipython3",
   "version": "3.9.16"
  },
  "toc-autonumbering": true
 },
 "nbformat": 4,
 "nbformat_minor": 5
}
